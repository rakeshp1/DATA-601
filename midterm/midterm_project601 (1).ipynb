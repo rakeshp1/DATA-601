﻿{

Test
 "cells": [
  {
   "cell_type": "markdown",
   "metadata": {},
   "source": [
    "## Data 601 Mid term Project:\n",
    "\n",
    "#### Name of the dataset: Sachin Tendulkar Dataset\n",
    "\n",
    "Data Source Location:\n",
    "\n",
    "https://data.world/ram-baskaran/sachin-tendulkar-test-data\n",
    "\n",
    "In the above link Test.xlsx is the data which I am using for the project.\n",
    "\n",
    "Description of how data source was found:\n",
    "\n",
    "I have interest in cricket, when I searched for the available datasets for which they don’t have any existing python analysis. I have found the above data.\n",
    "\n",
    "Cost incurred to download the dataset:  Zero, the dataset is free to download.\n",
    "\n",
    "Legality of the data set: The data set is from a free source and can be accessible by everyone and the data is legal to use.\n",
    "\n",
    "Documented Exploratory Data Analysis:\n",
    "\n",
    "I have searched a lot on google but did not find any previously documented EDA on the dataset.\n",
    "\n",
    "Data types in the dataset:\n",
    "\n",
    "Numeric: float, Int,\n",
    "Categorical,\n",
    "\n",
    "Datetime\n",
    "\n",
    "Project proposal relevant to 601 objectives:\n",
    "\n",
    "The project that I have selected is relevant to the objective of data601\n",
    "\n",
    "Description (Stories in the Data):\n",
    "\n",
    "This dataset contains stats of Sachin Tendulkar Test Matches (Collected from ESPN Website). I can show Sachin’s performance against different countries i.e., win loss ratio, runs scored etc.\n",
    "\n",
    "Data size:\n",
    "\n",
    "The dataset is of the size of 60.5kb\n",
    "\n",
    "The dataset contains two tables of data\n",
    "\n",
    "First dataset which is a batting data contains 14 rows 348 columns and the second dataset which is a fielding data has 14 rows 369"
   ]
  },
  {
   "cell_type": "code",
   "execution_count": 1,
   "metadata": {},
   "outputs": [],
   "source": [
    "import pandas as pd\n",
    "import os\n",
    "from matplotlib import pyplot as plt\n",
    "import seaborn as sns"
   ]
  },
  {
   "cell_type": "code",
   "execution_count": 5,
   "metadata": {},
   "outputs": [
    {
     "data": {
      "text/plain": [
       "'C:\\\\Users\\\\rakes\\\\OneDrive\\\\Desktop\\\\601 Assignments\\\\project_mid'"
      ]
     },
     "execution_count": 5,
     "metadata": {},
     "output_type": "execute_result"
    }
   ],
   "source": [
    "os.chdir(\"C:\\\\Users\\\\rakes\\\\OneDrive\\\\Desktop\\\\601 Assignments\\\\project_mid\")#changing the current working directory.\n",
    "os.getcwd() #returns current working directory of a process."
   ]
  },
  {
   "cell_type": "code",
   "execution_count": 8,
   "metadata": {},
   "outputs": [],
   "source": [
    "batting=pd.read_csv(\"Test_1.csv\") #reading the particular file"
   ]
  },
  {
   "cell_type": "code",
   "execution_count": 9,
   "metadata": {},
   "outputs": [],
   "source": [
    "fielding=pd.read_csv(\"Test_2.csv\") #reading the particular file"
   ]
  },
  {
   "cell_type": "code",
   "execution_count": 10,
   "metadata": {},
   "outputs": [
    {
     "data": {
      "text/plain": [
       "(347, 14)"
      ]
     },
     "execution_count": 10,
     "metadata": {},
     "output_type": "execute_result"
    }
   ],
   "source": [
    "#displaying the shape(r,c)\n",
    "batting.shape"
   ]
  },
  {
   "cell_type": "code",
   "execution_count": 11,
   "metadata": {},
   "outputs": [
    {
     "data": {
      "text/plain": [
       "(368, 14)"
      ]
     },
     "execution_count": 11,
     "metadata": {},
     "output_type": "execute_result"
    }
   ],
   "source": [
    "#displaying the shape(r,c)\n",
    "fielding.shape"
   ]
  },
  {
   "cell_type": "code",
   "execution_count": 12,
   "metadata": {},
   "outputs": [
    {
     "data": {
      "text/html": [
       "<div>\n",
       "<style scoped>\n",
       "    .dataframe tbody tr th:only-of-type {\n",
       "        vertical-align: middle;\n",
       "    }\n",
       "\n",
       "    .dataframe tbody tr th {\n",
       "        vertical-align: top;\n",
       "    }\n",
       "\n",
       "    .dataframe thead th {\n",
       "        text-align: right;\n",
       "    }\n",
       "</style>\n",
       "<table border=\"1\" class=\"dataframe\">\n",
       "  <thead>\n",
       "    <tr style=\"text-align: right;\">\n",
       "      <th></th>\n",
       "      <th>Runs</th>\n",
       "      <th>Mins</th>\n",
       "      <th>BF</th>\n",
       "      <th>4s</th>\n",
       "      <th>6s</th>\n",
       "      <th>SR</th>\n",
       "      <th>Pos</th>\n",
       "      <th>Dismissal</th>\n",
       "      <th>Inns</th>\n",
       "      <th>Opposition</th>\n",
       "      <th>Ground</th>\n",
       "      <th>Start DateAscending</th>\n",
       "      <th>Match Number</th>\n",
       "      <th>Result</th>\n",
       "    </tr>\n",
       "  </thead>\n",
       "  <tbody>\n",
       "    <tr>\n",
       "      <th>0</th>\n",
       "      <td>11</td>\n",
       "      <td>92</td>\n",
       "      <td>-</td>\n",
       "      <td>-</td>\n",
       "      <td>0</td>\n",
       "      <td>-</td>\n",
       "      <td>6</td>\n",
       "      <td>lbw</td>\n",
       "      <td>1</td>\n",
       "      <td>v Sri Lanka</td>\n",
       "      <td>Chandigarh</td>\n",
       "      <td>23-Nov-90</td>\n",
       "      <td>Test # 1156</td>\n",
       "      <td>Won</td>\n",
       "    </tr>\n",
       "    <tr>\n",
       "      <th>1</th>\n",
       "      <td>50</td>\n",
       "      <td>158</td>\n",
       "      <td>118</td>\n",
       "      <td>6</td>\n",
       "      <td>0</td>\n",
       "      <td>42.37</td>\n",
       "      <td>4</td>\n",
       "      <td>caught</td>\n",
       "      <td>1</td>\n",
       "      <td>v England</td>\n",
       "      <td>Kolkata</td>\n",
       "      <td>29-Jan-93</td>\n",
       "      <td>Test # 1211</td>\n",
       "      <td>Won</td>\n",
       "    </tr>\n",
       "    <tr>\n",
       "      <th>2</th>\n",
       "      <td>9</td>\n",
       "      <td>17</td>\n",
       "      <td>19</td>\n",
       "      <td>2</td>\n",
       "      <td>0</td>\n",
       "      <td>47.36</td>\n",
       "      <td>4</td>\n",
       "      <td>not out</td>\n",
       "      <td>4</td>\n",
       "      <td>v England</td>\n",
       "      <td>Kolkata</td>\n",
       "      <td>29-Jan-93</td>\n",
       "      <td>Test # 1211</td>\n",
       "      <td>Won</td>\n",
       "    </tr>\n",
       "    <tr>\n",
       "      <th>3</th>\n",
       "      <td>165</td>\n",
       "      <td>361</td>\n",
       "      <td>296</td>\n",
       "      <td>24</td>\n",
       "      <td>1</td>\n",
       "      <td>55.74</td>\n",
       "      <td>4</td>\n",
       "      <td>caught</td>\n",
       "      <td>1</td>\n",
       "      <td>v England</td>\n",
       "      <td>Chennai</td>\n",
       "      <td>11-Feb-93</td>\n",
       "      <td>Test # 1213</td>\n",
       "      <td>Won</td>\n",
       "    </tr>\n",
       "    <tr>\n",
       "      <th>4</th>\n",
       "      <td>78</td>\n",
       "      <td>285</td>\n",
       "      <td>213</td>\n",
       "      <td>10</td>\n",
       "      <td>0</td>\n",
       "      <td>36.61</td>\n",
       "      <td>4</td>\n",
       "      <td>lbw</td>\n",
       "      <td>2</td>\n",
       "      <td>v England</td>\n",
       "      <td>Mumbai</td>\n",
       "      <td>19-Feb-93</td>\n",
       "      <td>Test # 1214</td>\n",
       "      <td>Won</td>\n",
       "    </tr>\n",
       "  </tbody>\n",
       "</table>\n",
       "</div>"
      ],
      "text/plain": [
       "  Runs Mins   BF  4s 6s     SR Pos Dismissal Inns   Opposition      Ground  \\\n",
       "0   11   92    -   -  0      -   6       lbw    1  v Sri Lanka  Chandigarh   \n",
       "1   50  158  118   6  0  42.37   4    caught    1    v England     Kolkata   \n",
       "2    9   17   19   2  0  47.36   4   not out    4    v England     Kolkata   \n",
       "3  165  361  296  24  1  55.74   4    caught    1    v England     Chennai   \n",
       "4   78  285  213  10  0  36.61   4       lbw    2    v England      Mumbai   \n",
       "\n",
       "  Start DateAscending Match Number Result  \n",
       "0           23-Nov-90  Test # 1156    Won  \n",
       "1           29-Jan-93  Test # 1211    Won  \n",
       "2           29-Jan-93  Test # 1211    Won  \n",
       "3           11-Feb-93  Test # 1213    Won  \n",
       "4           19-Feb-93  Test # 1214    Won  "
      ]
     },
     "execution_count": 12,
     "metadata": {},
     "output_type": "execute_result"
    }
   ],
   "source": [
    "#Displaying first 5 rows of the dataframe\n",
    "batting.head()"
   ]
  },
  {
   "cell_type": "markdown",
   "metadata": {},
   "source": [
    "# Cleaning Data\n",
    "### Dropping the duplicates since in the column name match number has repeated values"
   ]
  },
  {
   "cell_type": "code",
   "execution_count": 13,
   "metadata": {},
   "outputs": [],
   "source": [
    "batting=batting.drop_duplicates(subset='Match Number', keep=\"last\")"
   ]
  },
  {
   "cell_type": "code",
   "execution_count": 14,
   "metadata": {},
   "outputs": [
    {
     "data": {
      "text/plain": [
       "(200, 14)"
      ]
     },
     "execution_count": 14,
     "metadata": {},
     "output_type": "execute_result"
    }
   ],
   "source": [
    "batting.shape"
   ]
  },
  {
   "cell_type": "code",
   "execution_count": 15,
   "metadata": {},
   "outputs": [
    {
     "data": {
      "text/html": [
       "<div>\n",
       "<style scoped>\n",
       "    .dataframe tbody tr th:only-of-type {\n",
       "        vertical-align: middle;\n",
       "    }\n",
       "\n",
       "    .dataframe tbody tr th {\n",
       "        vertical-align: top;\n",
       "    }\n",
       "\n",
       "    .dataframe thead th {\n",
       "        text-align: right;\n",
       "    }\n",
       "</style>\n",
       "<table border=\"1\" class=\"dataframe\">\n",
       "  <thead>\n",
       "    <tr style=\"text-align: right;\">\n",
       "      <th></th>\n",
       "      <th>Overs</th>\n",
       "      <th>Mdns</th>\n",
       "      <th>Runs</th>\n",
       "      <th>Wkts</th>\n",
       "      <th>Econ</th>\n",
       "      <th>Pos</th>\n",
       "      <th>Inns</th>\n",
       "      <th>Dismisal Made</th>\n",
       "      <th>Catch Taken</th>\n",
       "      <th>Opposition</th>\n",
       "      <th>Ground</th>\n",
       "      <th>Start DateAscending</th>\n",
       "      <th>Match Number</th>\n",
       "      <th>Result</th>\n",
       "    </tr>\n",
       "  </thead>\n",
       "  <tbody>\n",
       "    <tr>\n",
       "      <th>0</th>\n",
       "      <td>DNB</td>\n",
       "      <td>-</td>\n",
       "      <td>-</td>\n",
       "      <td>-</td>\n",
       "      <td>-</td>\n",
       "      <td>-</td>\n",
       "      <td>2</td>\n",
       "      <td>0</td>\n",
       "      <td>0</td>\n",
       "      <td>v Sri Lanka</td>\n",
       "      <td>Chandigarh</td>\n",
       "      <td>23-Nov-90</td>\n",
       "      <td>Test # 1156</td>\n",
       "      <td>Won</td>\n",
       "    </tr>\n",
       "    <tr>\n",
       "      <th>1</th>\n",
       "      <td>DNB</td>\n",
       "      <td>-</td>\n",
       "      <td>-</td>\n",
       "      <td>-</td>\n",
       "      <td>-</td>\n",
       "      <td>-</td>\n",
       "      <td>3</td>\n",
       "      <td>0</td>\n",
       "      <td>0</td>\n",
       "      <td>v Sri Lanka</td>\n",
       "      <td>Chandigarh</td>\n",
       "      <td>23-Nov-90</td>\n",
       "      <td>Test # 1156</td>\n",
       "      <td>Won</td>\n",
       "    </tr>\n",
       "    <tr>\n",
       "      <th>2</th>\n",
       "      <td>DNB</td>\n",
       "      <td>-</td>\n",
       "      <td>-</td>\n",
       "      <td>-</td>\n",
       "      <td>-</td>\n",
       "      <td>-</td>\n",
       "      <td>2</td>\n",
       "      <td>0</td>\n",
       "      <td>0</td>\n",
       "      <td>v England</td>\n",
       "      <td>Kolkata</td>\n",
       "      <td>29-Jan-93</td>\n",
       "      <td>Test # 1211</td>\n",
       "      <td>Won</td>\n",
       "    </tr>\n",
       "    <tr>\n",
       "      <th>3</th>\n",
       "      <td>DNB</td>\n",
       "      <td>-</td>\n",
       "      <td>-</td>\n",
       "      <td>-</td>\n",
       "      <td>-</td>\n",
       "      <td>-</td>\n",
       "      <td>3</td>\n",
       "      <td>1</td>\n",
       "      <td>1</td>\n",
       "      <td>v England</td>\n",
       "      <td>Kolkata</td>\n",
       "      <td>29-Jan-93</td>\n",
       "      <td>Test # 1211</td>\n",
       "      <td>Won</td>\n",
       "    </tr>\n",
       "    <tr>\n",
       "      <th>4</th>\n",
       "      <td>2</td>\n",
       "      <td>1</td>\n",
       "      <td>5</td>\n",
       "      <td>0</td>\n",
       "      <td>2.5</td>\n",
       "      <td>6</td>\n",
       "      <td>2</td>\n",
       "      <td>0</td>\n",
       "      <td>0</td>\n",
       "      <td>v England</td>\n",
       "      <td>Chennai</td>\n",
       "      <td>11-Feb-93</td>\n",
       "      <td>Test # 1213</td>\n",
       "      <td>Won</td>\n",
       "    </tr>\n",
       "  </tbody>\n",
       "</table>\n",
       "</div>"
      ],
      "text/plain": [
       "  Overs Mdns Runs Wkts Econ Pos Inns Dismisal Made Catch Taken   Opposition  \\\n",
       "0   DNB    -    -    -    -   -    2             0           0  v Sri Lanka   \n",
       "1   DNB    -    -    -    -   -    3             0           0  v Sri Lanka   \n",
       "2   DNB    -    -    -    -   -    2             0           0    v England   \n",
       "3   DNB    -    -    -    -   -    3             1           1    v England   \n",
       "4     2    1    5    0  2.5   6    2             0           0    v England   \n",
       "\n",
       "       Ground Start DateAscending Match Number Result  \n",
       "0  Chandigarh           23-Nov-90  Test # 1156    Won  \n",
       "1  Chandigarh           23-Nov-90  Test # 1156    Won  \n",
       "2     Kolkata           29-Jan-93  Test # 1211    Won  \n",
       "3     Kolkata           29-Jan-93  Test # 1211    Won  \n",
       "4     Chennai           11-Feb-93  Test # 1213    Won  "
      ]
     },
     "execution_count": 15,
     "metadata": {},
     "output_type": "execute_result"
    }
   ],
   "source": [
    "#displaying head of the required data for reference\n",
    "fielding.head()"
   ]
  },
  {
   "cell_type": "code",
   "execution_count": 16,
   "metadata": {},
   "outputs": [],
   "source": [
    "#dropping the duplicates\n",
    "fielding=fielding.drop_duplicates(subset='Match Number', keep=\"last\")"
   ]
  },
  {
   "cell_type": "markdown",
   "metadata": {},
   "source": [
    "#### Merging both the dataframes on Match Number column since batting table and fielding table constitute to Sachin over all statistics "
   ]
  },
  {
   "cell_type": "code",
   "execution_count": 17,
   "metadata": {},
   "outputs": [],
   "source": [
    "#merge the batting data and the fielding data\n",
    "main=pd.merge(batting,fielding, how='outer', left_on=['Match Number'], right_on=['Match Number'])"
   ]
  },
  {
   "cell_type": "code",
   "execution_count": 18,
   "metadata": {
    "scrolled": true
   },
   "outputs": [
    {
     "data": {
      "text/html": [
       "<div>\n",
       "<style scoped>\n",
       "    .dataframe tbody tr th:only-of-type {\n",
       "        vertical-align: middle;\n",
       "    }\n",
       "\n",
       "    .dataframe tbody tr th {\n",
       "        vertical-align: top;\n",
       "    }\n",
       "\n",
       "    .dataframe thead th {\n",
       "        text-align: right;\n",
       "    }\n",
       "</style>\n",
       "<table border=\"1\" class=\"dataframe\">\n",
       "  <thead>\n",
       "    <tr style=\"text-align: right;\">\n",
       "      <th></th>\n",
       "      <th>0</th>\n",
       "      <th>1</th>\n",
       "      <th>2</th>\n",
       "      <th>3</th>\n",
       "      <th>4</th>\n",
       "    </tr>\n",
       "  </thead>\n",
       "  <tbody>\n",
       "    <tr>\n",
       "      <th>Runs_x</th>\n",
       "      <td>11</td>\n",
       "      <td>9</td>\n",
       "      <td>165</td>\n",
       "      <td>78</td>\n",
       "      <td>62</td>\n",
       "    </tr>\n",
       "    <tr>\n",
       "      <th>Mins</th>\n",
       "      <td>92</td>\n",
       "      <td>17</td>\n",
       "      <td>361</td>\n",
       "      <td>285</td>\n",
       "      <td>128</td>\n",
       "    </tr>\n",
       "    <tr>\n",
       "      <th>BF</th>\n",
       "      <td>-</td>\n",
       "      <td>19</td>\n",
       "      <td>296</td>\n",
       "      <td>213</td>\n",
       "      <td>114</td>\n",
       "    </tr>\n",
       "    <tr>\n",
       "      <th>4s</th>\n",
       "      <td>-</td>\n",
       "      <td>2</td>\n",
       "      <td>24</td>\n",
       "      <td>10</td>\n",
       "      <td>7</td>\n",
       "    </tr>\n",
       "    <tr>\n",
       "      <th>6s</th>\n",
       "      <td>0</td>\n",
       "      <td>0</td>\n",
       "      <td>1</td>\n",
       "      <td>0</td>\n",
       "      <td>0</td>\n",
       "    </tr>\n",
       "    <tr>\n",
       "      <th>SR</th>\n",
       "      <td>-</td>\n",
       "      <td>47.36</td>\n",
       "      <td>55.74</td>\n",
       "      <td>36.61</td>\n",
       "      <td>54.38</td>\n",
       "    </tr>\n",
       "    <tr>\n",
       "      <th>Pos_x</th>\n",
       "      <td>6</td>\n",
       "      <td>4</td>\n",
       "      <td>4</td>\n",
       "      <td>4</td>\n",
       "      <td>4</td>\n",
       "    </tr>\n",
       "    <tr>\n",
       "      <th>Dismissal</th>\n",
       "      <td>lbw</td>\n",
       "      <td>not out</td>\n",
       "      <td>caught</td>\n",
       "      <td>lbw</td>\n",
       "      <td>caught</td>\n",
       "    </tr>\n",
       "    <tr>\n",
       "      <th>Inns_x</th>\n",
       "      <td>1</td>\n",
       "      <td>4</td>\n",
       "      <td>1</td>\n",
       "      <td>2</td>\n",
       "      <td>1</td>\n",
       "    </tr>\n",
       "    <tr>\n",
       "      <th>Opposition_x</th>\n",
       "      <td>v Sri Lanka</td>\n",
       "      <td>v England</td>\n",
       "      <td>v England</td>\n",
       "      <td>v England</td>\n",
       "      <td>v Zimbabwe</td>\n",
       "    </tr>\n",
       "    <tr>\n",
       "      <th>Ground_x</th>\n",
       "      <td>Chandigarh</td>\n",
       "      <td>Kolkata</td>\n",
       "      <td>Chennai</td>\n",
       "      <td>Mumbai</td>\n",
       "      <td>Delhi</td>\n",
       "    </tr>\n",
       "    <tr>\n",
       "      <th>Start DateAscending_x</th>\n",
       "      <td>23-Nov-90</td>\n",
       "      <td>29-Jan-93</td>\n",
       "      <td>11-Feb-93</td>\n",
       "      <td>19-Feb-93</td>\n",
       "      <td>13-Mar-93</td>\n",
       "    </tr>\n",
       "    <tr>\n",
       "      <th>Match Number</th>\n",
       "      <td>Test # 1156</td>\n",
       "      <td>Test # 1211</td>\n",
       "      <td>Test # 1213</td>\n",
       "      <td>Test # 1214</td>\n",
       "      <td>Test # 1218</td>\n",
       "    </tr>\n",
       "    <tr>\n",
       "      <th>Result_x</th>\n",
       "      <td>Won</td>\n",
       "      <td>Won</td>\n",
       "      <td>Won</td>\n",
       "      <td>Won</td>\n",
       "      <td>Won</td>\n",
       "    </tr>\n",
       "    <tr>\n",
       "      <th>Overs</th>\n",
       "      <td>DNB</td>\n",
       "      <td>DNB</td>\n",
       "      <td>2</td>\n",
       "      <td>DNB</td>\n",
       "      <td>DNB</td>\n",
       "    </tr>\n",
       "    <tr>\n",
       "      <th>Mdns</th>\n",
       "      <td>-</td>\n",
       "      <td>-</td>\n",
       "      <td>1</td>\n",
       "      <td>-</td>\n",
       "      <td>-</td>\n",
       "    </tr>\n",
       "    <tr>\n",
       "      <th>Runs_y</th>\n",
       "      <td>-</td>\n",
       "      <td>-</td>\n",
       "      <td>4</td>\n",
       "      <td>-</td>\n",
       "      <td>-</td>\n",
       "    </tr>\n",
       "    <tr>\n",
       "      <th>Wkts</th>\n",
       "      <td>-</td>\n",
       "      <td>-</td>\n",
       "      <td>0</td>\n",
       "      <td>-</td>\n",
       "      <td>-</td>\n",
       "    </tr>\n",
       "    <tr>\n",
       "      <th>Econ</th>\n",
       "      <td>-</td>\n",
       "      <td>-</td>\n",
       "      <td>2</td>\n",
       "      <td>-</td>\n",
       "      <td>-</td>\n",
       "    </tr>\n",
       "    <tr>\n",
       "      <th>Pos_y</th>\n",
       "      <td>-</td>\n",
       "      <td>-</td>\n",
       "      <td>6</td>\n",
       "      <td>-</td>\n",
       "      <td>-</td>\n",
       "    </tr>\n",
       "    <tr>\n",
       "      <th>Inns_y</th>\n",
       "      <td>3</td>\n",
       "      <td>3</td>\n",
       "      <td>3</td>\n",
       "      <td>3</td>\n",
       "      <td>3</td>\n",
       "    </tr>\n",
       "    <tr>\n",
       "      <th>Dismisal Made</th>\n",
       "      <td>0</td>\n",
       "      <td>1</td>\n",
       "      <td>2</td>\n",
       "      <td>1</td>\n",
       "      <td>0</td>\n",
       "    </tr>\n",
       "    <tr>\n",
       "      <th>Catch Taken</th>\n",
       "      <td>0</td>\n",
       "      <td>1</td>\n",
       "      <td>2</td>\n",
       "      <td>1</td>\n",
       "      <td>0</td>\n",
       "    </tr>\n",
       "    <tr>\n",
       "      <th>Opposition_y</th>\n",
       "      <td>v Sri Lanka</td>\n",
       "      <td>v England</td>\n",
       "      <td>v England</td>\n",
       "      <td>v England</td>\n",
       "      <td>v Zimbabwe</td>\n",
       "    </tr>\n",
       "    <tr>\n",
       "      <th>Ground_y</th>\n",
       "      <td>Chandigarh</td>\n",
       "      <td>Kolkata</td>\n",
       "      <td>Chennai</td>\n",
       "      <td>Mumbai</td>\n",
       "      <td>Delhi</td>\n",
       "    </tr>\n",
       "    <tr>\n",
       "      <th>Start DateAscending_y</th>\n",
       "      <td>23-Nov-90</td>\n",
       "      <td>29-Jan-93</td>\n",
       "      <td>11-Feb-93</td>\n",
       "      <td>19-Feb-93</td>\n",
       "      <td>13-Mar-93</td>\n",
       "    </tr>\n",
       "    <tr>\n",
       "      <th>Result_y</th>\n",
       "      <td>Won</td>\n",
       "      <td>Won</td>\n",
       "      <td>Won</td>\n",
       "      <td>Won</td>\n",
       "      <td>Won</td>\n",
       "    </tr>\n",
       "  </tbody>\n",
       "</table>\n",
       "</div>"
      ],
      "text/plain": [
       "                                 0            1            2            3  \\\n",
       "Runs_x                          11            9          165           78   \n",
       "Mins                            92           17          361          285   \n",
       "BF                               -           19          296          213   \n",
       "4s                               -            2           24           10   \n",
       "6s                               0            0            1            0   \n",
       "SR                               -        47.36        55.74        36.61   \n",
       "Pos_x                            6            4            4            4   \n",
       "Dismissal                      lbw      not out       caught          lbw   \n",
       "Inns_x                           1            4            1            2   \n",
       "Opposition_x           v Sri Lanka    v England    v England    v England   \n",
       "Ground_x                Chandigarh      Kolkata      Chennai       Mumbai   \n",
       "Start DateAscending_x    23-Nov-90    29-Jan-93    11-Feb-93    19-Feb-93   \n",
       "Match Number           Test # 1156  Test # 1211  Test # 1213  Test # 1214   \n",
       "Result_x                       Won          Won          Won          Won   \n",
       "Overs                          DNB          DNB            2          DNB   \n",
       "Mdns                             -            -            1            -   \n",
       "Runs_y                           -            -            4            -   \n",
       "Wkts                             -            -            0            -   \n",
       "Econ                             -            -            2            -   \n",
       "Pos_y                            -            -            6            -   \n",
       "Inns_y                           3            3            3            3   \n",
       "Dismisal Made                    0            1            2            1   \n",
       "Catch Taken                      0            1            2            1   \n",
       "Opposition_y           v Sri Lanka    v England    v England    v England   \n",
       "Ground_y                Chandigarh      Kolkata      Chennai       Mumbai   \n",
       "Start DateAscending_y    23-Nov-90    29-Jan-93    11-Feb-93    19-Feb-93   \n",
       "Result_y                       Won          Won          Won          Won   \n",
       "\n",
       "                                 4  \n",
       "Runs_x                          62  \n",
       "Mins                           128  \n",
       "BF                             114  \n",
       "4s                               7  \n",
       "6s                               0  \n",
       "SR                           54.38  \n",
       "Pos_x                            4  \n",
       "Dismissal                   caught  \n",
       "Inns_x                           1  \n",
       "Opposition_x            v Zimbabwe  \n",
       "Ground_x                     Delhi  \n",
       "Start DateAscending_x    13-Mar-93  \n",
       "Match Number           Test # 1218  \n",
       "Result_x                       Won  \n",
       "Overs                          DNB  \n",
       "Mdns                             -  \n",
       "Runs_y                           -  \n",
       "Wkts                             -  \n",
       "Econ                             -  \n",
       "Pos_y                            -  \n",
       "Inns_y                           3  \n",
       "Dismisal Made                    0  \n",
       "Catch Taken                      0  \n",
       "Opposition_y            v Zimbabwe  \n",
       "Ground_y                     Delhi  \n",
       "Start DateAscending_y    13-Mar-93  \n",
       "Result_y                       Won  "
      ]
     },
     "execution_count": 18,
     "metadata": {},
     "output_type": "execute_result"
    }
   ],
   "source": [
    "main.head().T"
   ]
  },
  {
   "cell_type": "code",
   "execution_count": 19,
   "metadata": {},
   "outputs": [
    {
     "data": {
      "text/plain": [
       "(200, 27)"
      ]
     },
     "execution_count": 19,
     "metadata": {},
     "output_type": "execute_result"
    }
   ],
   "source": [
    "main.shape"
   ]
  },
  {
   "cell_type": "code",
   "execution_count": 20,
   "metadata": {},
   "outputs": [
    {
     "data": {
      "text/plain": [
       "Index(['Runs_x', 'Mins', 'BF', '4s', '6s', 'SR', 'Pos_x', 'Dismissal',\n",
       "       'Inns_x', 'Opposition_x', 'Ground_x', 'Start DateAscending_x',\n",
       "       'Match Number', 'Result_x', 'Overs', 'Mdns', 'Runs_y', 'Wkts', 'Econ',\n",
       "       'Pos_y', 'Inns_y', 'Dismisal Made', 'Catch Taken', 'Opposition_y',\n",
       "       'Ground_y', 'Start DateAscending_y', 'Result_y'],\n",
       "      dtype='object')"
      ]
     },
     "execution_count": 20,
     "metadata": {},
     "output_type": "execute_result"
    }
   ],
   "source": [
    "#Displaying column names\n",
    "main.columns"
   ]
  },
  {
   "cell_type": "code",
   "execution_count": 21,
   "metadata": {},
   "outputs": [],
   "source": [
    "#dropping the columns which are repeated\n",
    "main=main.drop(['Result_y','Opposition_y','Ground_y','Start DateAscending_y','Result_y','Dismisal Made'],axis=1)"
   ]
  },
  {
   "cell_type": "code",
   "execution_count": 22,
   "metadata": {},
   "outputs": [],
   "source": [
    "#renaming the columns \n",
    "main.rename({'Runs_x': 'Runs_scored', 'Pos_x': 'position','Inns_x':'Inns','Opposition_x':'Opposition','Ground_x':'Ground','Start DateAscending_x':'Start_DateAscending','Result_x':'Result','Runs_y':'Runs_given','Pos_y':'Position_of_bowling','Inns_y':'Inninigs','Catch Taken':'Catch_Taken'}, axis=1, inplace=True)"
   ]
  },
  {
   "cell_type": "code",
   "execution_count": 23,
   "metadata": {
    "scrolled": true
   },
   "outputs": [
    {
     "data": {
      "text/plain": [
       "Index(['Runs_scored', 'Mins', 'BF', '4s', '6s', 'SR', 'position', 'Dismissal',\n",
       "       'Inns', 'Opposition', 'Ground', 'Start_DateAscending', 'Match Number',\n",
       "       'Result', 'Overs', 'Mdns', 'Runs_given', 'Wkts', 'Econ',\n",
       "       'Position_of_bowling', 'Inninigs', 'Catch_Taken'],\n",
       "      dtype='object')"
      ]
     },
     "execution_count": 23,
     "metadata": {},
     "output_type": "execute_result"
    }
   ],
   "source": [
    "main.columns"
   ]
  },
  {
   "cell_type": "code",
   "execution_count": 44,
   "metadata": {},
   "outputs": [
    {
     "data": {
      "text/plain": [
       "Runs_scored            object\n",
       "Mins                   object\n",
       "BF                     object\n",
       "4s                     object\n",
       "6s                     object\n",
       "SR                     object\n",
       "position               object\n",
       "Dismissal              object\n",
       "Inns                   object\n",
       "Opposition             object\n",
       "Ground                 object\n",
       "Start_DateAscending    object\n",
       "Match Number           object\n",
       "Result                 object\n",
       "Overs                  object\n",
       "Mdns                   object\n",
       "Runs_given             object\n",
       "Wkts                   object\n",
       "Econ                   object\n",
       "Position_of_bowling    object\n",
       "Inninigs               object\n",
       "Catch_Taken            object\n",
       "month                  object\n",
       "dtype: object"
      ]
     },
     "execution_count": 44,
     "metadata": {},
     "output_type": "execute_result"
    }
   ],
   "source": [
    "main.dtypes"
   ]
  },
  {
   "cell_type": "code",
   "execution_count": 45,
   "metadata": {},
   "outputs": [
    {
     "data": {
      "text/plain": [
       "(200, 23)"
      ]
     },
     "execution_count": 45,
     "metadata": {},
     "output_type": "execute_result"
    }
   ],
   "source": [
    "main.shape"
   ]
  },
  {
   "cell_type": "code",
   "execution_count": 26,
   "metadata": {},
   "outputs": [
    {
     "data": {
      "text/html": [
       "<div>\n",
       "<style scoped>\n",
       "    .dataframe tbody tr th:only-of-type {\n",
       "        vertical-align: middle;\n",
       "    }\n",
       "\n",
       "    .dataframe tbody tr th {\n",
       "        vertical-align: top;\n",
       "    }\n",
       "\n",
       "    .dataframe thead th {\n",
       "        text-align: right;\n",
       "    }\n",
       "</style>\n",
       "<table border=\"1\" class=\"dataframe\">\n",
       "  <thead>\n",
       "    <tr style=\"text-align: right;\">\n",
       "      <th></th>\n",
       "      <th>0</th>\n",
       "      <th>1</th>\n",
       "      <th>2</th>\n",
       "      <th>3</th>\n",
       "      <th>4</th>\n",
       "    </tr>\n",
       "  </thead>\n",
       "  <tbody>\n",
       "    <tr>\n",
       "      <th>Runs_scored</th>\n",
       "      <td>11</td>\n",
       "      <td>9</td>\n",
       "      <td>165</td>\n",
       "      <td>78</td>\n",
       "      <td>62</td>\n",
       "    </tr>\n",
       "    <tr>\n",
       "      <th>Mins</th>\n",
       "      <td>92</td>\n",
       "      <td>17</td>\n",
       "      <td>361</td>\n",
       "      <td>285</td>\n",
       "      <td>128</td>\n",
       "    </tr>\n",
       "    <tr>\n",
       "      <th>BF</th>\n",
       "      <td>-</td>\n",
       "      <td>19</td>\n",
       "      <td>296</td>\n",
       "      <td>213</td>\n",
       "      <td>114</td>\n",
       "    </tr>\n",
       "    <tr>\n",
       "      <th>4s</th>\n",
       "      <td>-</td>\n",
       "      <td>2</td>\n",
       "      <td>24</td>\n",
       "      <td>10</td>\n",
       "      <td>7</td>\n",
       "    </tr>\n",
       "    <tr>\n",
       "      <th>6s</th>\n",
       "      <td>0</td>\n",
       "      <td>0</td>\n",
       "      <td>1</td>\n",
       "      <td>0</td>\n",
       "      <td>0</td>\n",
       "    </tr>\n",
       "    <tr>\n",
       "      <th>SR</th>\n",
       "      <td>-</td>\n",
       "      <td>47.36</td>\n",
       "      <td>55.74</td>\n",
       "      <td>36.61</td>\n",
       "      <td>54.38</td>\n",
       "    </tr>\n",
       "    <tr>\n",
       "      <th>position</th>\n",
       "      <td>6</td>\n",
       "      <td>4</td>\n",
       "      <td>4</td>\n",
       "      <td>4</td>\n",
       "      <td>4</td>\n",
       "    </tr>\n",
       "    <tr>\n",
       "      <th>Dismissal</th>\n",
       "      <td>lbw</td>\n",
       "      <td>not out</td>\n",
       "      <td>caught</td>\n",
       "      <td>lbw</td>\n",
       "      <td>caught</td>\n",
       "    </tr>\n",
       "    <tr>\n",
       "      <th>Inns</th>\n",
       "      <td>1</td>\n",
       "      <td>4</td>\n",
       "      <td>1</td>\n",
       "      <td>2</td>\n",
       "      <td>1</td>\n",
       "    </tr>\n",
       "    <tr>\n",
       "      <th>Opposition</th>\n",
       "      <td>v Sri Lanka</td>\n",
       "      <td>v England</td>\n",
       "      <td>v England</td>\n",
       "      <td>v England</td>\n",
       "      <td>v Zimbabwe</td>\n",
       "    </tr>\n",
       "    <tr>\n",
       "      <th>Ground</th>\n",
       "      <td>Chandigarh</td>\n",
       "      <td>Kolkata</td>\n",
       "      <td>Chennai</td>\n",
       "      <td>Mumbai</td>\n",
       "      <td>Delhi</td>\n",
       "    </tr>\n",
       "    <tr>\n",
       "      <th>Start_DateAscending</th>\n",
       "      <td>23-Nov-90</td>\n",
       "      <td>29-Jan-93</td>\n",
       "      <td>11-Feb-93</td>\n",
       "      <td>19-Feb-93</td>\n",
       "      <td>13-Mar-93</td>\n",
       "    </tr>\n",
       "    <tr>\n",
       "      <th>Match Number</th>\n",
       "      <td>Test # 1156</td>\n",
       "      <td>Test # 1211</td>\n",
       "      <td>Test # 1213</td>\n",
       "      <td>Test # 1214</td>\n",
       "      <td>Test # 1218</td>\n",
       "    </tr>\n",
       "    <tr>\n",
       "      <th>Result</th>\n",
       "      <td>Won</td>\n",
       "      <td>Won</td>\n",
       "      <td>Won</td>\n",
       "      <td>Won</td>\n",
       "      <td>Won</td>\n",
       "    </tr>\n",
       "    <tr>\n",
       "      <th>Overs</th>\n",
       "      <td>DNB</td>\n",
       "      <td>DNB</td>\n",
       "      <td>2</td>\n",
       "      <td>DNB</td>\n",
       "      <td>DNB</td>\n",
       "    </tr>\n",
       "    <tr>\n",
       "      <th>Mdns</th>\n",
       "      <td>-</td>\n",
       "      <td>-</td>\n",
       "      <td>1</td>\n",
       "      <td>-</td>\n",
       "      <td>-</td>\n",
       "    </tr>\n",
       "    <tr>\n",
       "      <th>Runs_given</th>\n",
       "      <td>-</td>\n",
       "      <td>-</td>\n",
       "      <td>4</td>\n",
       "      <td>-</td>\n",
       "      <td>-</td>\n",
       "    </tr>\n",
       "    <tr>\n",
       "      <th>Wkts</th>\n",
       "      <td>-</td>\n",
       "      <td>-</td>\n",
       "      <td>0</td>\n",
       "      <td>-</td>\n",
       "      <td>-</td>\n",
       "    </tr>\n",
       "    <tr>\n",
       "      <th>Econ</th>\n",
       "      <td>-</td>\n",
       "      <td>-</td>\n",
       "      <td>2</td>\n",
       "      <td>-</td>\n",
       "      <td>-</td>\n",
       "    </tr>\n",
       "    <tr>\n",
       "      <th>Position_of_bowling</th>\n",
       "      <td>-</td>\n",
       "      <td>-</td>\n",
       "      <td>6</td>\n",
       "      <td>-</td>\n",
       "      <td>-</td>\n",
       "    </tr>\n",
       "    <tr>\n",
       "      <th>Inninigs</th>\n",
       "      <td>3</td>\n",
       "      <td>3</td>\n",
       "      <td>3</td>\n",
       "      <td>3</td>\n",
       "      <td>3</td>\n",
       "    </tr>\n",
       "    <tr>\n",
       "      <th>Catch_Taken</th>\n",
       "      <td>0</td>\n",
       "      <td>1</td>\n",
       "      <td>2</td>\n",
       "      <td>1</td>\n",
       "      <td>0</td>\n",
       "    </tr>\n",
       "  </tbody>\n",
       "</table>\n",
       "</div>"
      ],
      "text/plain": [
       "                               0            1            2            3  \\\n",
       "Runs_scored                   11            9          165           78   \n",
       "Mins                          92           17          361          285   \n",
       "BF                             -           19          296          213   \n",
       "4s                             -            2           24           10   \n",
       "6s                             0            0            1            0   \n",
       "SR                             -        47.36        55.74        36.61   \n",
       "position                       6            4            4            4   \n",
       "Dismissal                    lbw      not out       caught          lbw   \n",
       "Inns                           1            4            1            2   \n",
       "Opposition           v Sri Lanka    v England    v England    v England   \n",
       "Ground                Chandigarh      Kolkata      Chennai       Mumbai   \n",
       "Start_DateAscending    23-Nov-90    29-Jan-93    11-Feb-93    19-Feb-93   \n",
       "Match Number         Test # 1156  Test # 1211  Test # 1213  Test # 1214   \n",
       "Result                       Won          Won          Won          Won   \n",
       "Overs                        DNB          DNB            2          DNB   \n",
       "Mdns                           -            -            1            -   \n",
       "Runs_given                     -            -            4            -   \n",
       "Wkts                           -            -            0            -   \n",
       "Econ                           -            -            2            -   \n",
       "Position_of_bowling            -            -            6            -   \n",
       "Inninigs                       3            3            3            3   \n",
       "Catch_Taken                    0            1            2            1   \n",
       "\n",
       "                               4  \n",
       "Runs_scored                   62  \n",
       "Mins                         128  \n",
       "BF                           114  \n",
       "4s                             7  \n",
       "6s                             0  \n",
       "SR                         54.38  \n",
       "position                       4  \n",
       "Dismissal                 caught  \n",
       "Inns                           1  \n",
       "Opposition            v Zimbabwe  \n",
       "Ground                     Delhi  \n",
       "Start_DateAscending    13-Mar-93  \n",
       "Match Number         Test # 1218  \n",
       "Result                       Won  \n",
       "Overs                        DNB  \n",
       "Mdns                           -  \n",
       "Runs_given                     -  \n",
       "Wkts                           -  \n",
       "Econ                           -  \n",
       "Position_of_bowling            -  \n",
       "Inninigs                       3  \n",
       "Catch_Taken                    0  "
      ]
     },
     "execution_count": 26,
     "metadata": {},
     "output_type": "execute_result"
    }
   ],
   "source": [
    "main.head().T"
   ]
  },
  {
   "cell_type": "code",
   "execution_count": 27,
   "metadata": {},
   "outputs": [
    {
     "data": {
      "text/plain": [
       "Runs_scored            0\n",
       "Mins                   0\n",
       "BF                     0\n",
       "4s                     0\n",
       "6s                     0\n",
       "SR                     0\n",
       "position               0\n",
       "Dismissal              0\n",
       "Inns                   0\n",
       "Opposition             0\n",
       "Ground                 0\n",
       "Start_DateAscending    0\n",
       "Match Number           0\n",
       "Result                 0\n",
       "Overs                  0\n",
       "Mdns                   0\n",
       "Runs_given             0\n",
       "Wkts                   0\n",
       "Econ                   0\n",
       "Position_of_bowling    0\n",
       "Inninigs               0\n",
       "Catch_Taken            0\n",
       "dtype: int64"
      ]
     },
     "execution_count": 27,
     "metadata": {},
     "output_type": "execute_result"
    }
   ],
   "source": [
    "#checking for missisng values\n",
    "main.isnull().sum()"
   ]
  },
  {
   "cell_type": "code",
   "execution_count": 28,
   "metadata": {},
   "outputs": [
    {
     "data": {
      "text/plain": [
       "caught     83\n",
       "lbw        34\n",
       "not out    30\n",
       "bowled     26\n",
       "-          18\n",
       "run out     8\n",
       "stumped     1\n",
       "Name: Dismissal, dtype: int64"
      ]
     },
     "execution_count": 28,
     "metadata": {},
     "output_type": "execute_result"
    }
   ],
   "source": [
    "#Counting the type of dismissal\n",
    "main.Dismissal.value_counts()"
   ]
  },
  {
   "cell_type": "markdown",
   "metadata": {},
   "source": [
    "Here, '-' is denotes the number of matches Sachin did not bat"
   ]
  },
  {
   "cell_type": "markdown",
   "metadata": {},
   "source": [
    "### Sachin Dismissal type in every match"
   ]
  },
  {
   "cell_type": "code",
   "execution_count": 29,
   "metadata": {},
   "outputs": [
    {
     "data": {
      "image/png": "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\n",
      "text/plain": [
       "<Figure size 432x288 with 1 Axes>"
      ]
     },
     "metadata": {},
     "output_type": "display_data"
    }
   ],
   "source": [
    "main.Dismissal.value_counts().plot.pie(autopct='%1.0f%%',title='Dismissal type')\n",
    "plt.show()"
   ]
  },
  {
   "cell_type": "markdown",
   "metadata": {},
   "source": [
    "#### 'Caught' is the most common dismissal type of all the dismissals"
   ]
  },
  {
   "cell_type": "markdown",
   "metadata": {},
   "source": [
    "### Match Result type "
   ]
  },
  {
   "cell_type": "code",
   "execution_count": 30,
   "metadata": {},
   "outputs": [
    {
     "data": {
      "text/plain": [
       "Won      72\n",
       "Drawn    72\n",
       "Loss     56\n",
       "Name: Result, dtype: int64"
      ]
     },
     "execution_count": 30,
     "metadata": {},
     "output_type": "execute_result"
    }
   ],
   "source": [
    "main.Result.value_counts()"
   ]
  },
  {
   "cell_type": "code",
   "execution_count": 31,
   "metadata": {},
   "outputs": [
    {
     "name": "stderr",
     "output_type": "stream",
     "text": [
      "C:\\Users\\rakes\\Anaconda3\\lib\\site-packages\\seaborn\\_decorators.py:36: FutureWarning: Pass the following variable as a keyword arg: x. From version 0.12, the only valid positional argument will be `data`, and passing other arguments without an explicit keyword will result in an error or misinterpretation.\n",
      "  warnings.warn(\n"
     ]
    },
    {
     "data": {
      "image/png": "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\n",
      "text/plain": [
       "<Figure size 432x288 with 1 Axes>"
      ]
     },
     "metadata": {
      "needs_background": "light"
     },
     "output_type": "display_data"
    }
   ],
   "source": [
    "sns.countplot(main['Result'])\n",
    "plt.title('Result value', fontsize=20)\n",
    "plt.xlabel('Result', fontsize=18)\n",
    "plt.ylabel('count', fontsize=16)\n",
    "plt.show()"
   ]
  },
  {
   "cell_type": "markdown",
   "metadata": {},
   "source": [
    "#### From the graph, we can conclude that the number of 'won' and 'drawn' matches are same."
   ]
  },
  {
   "cell_type": "markdown",
   "metadata": {},
   "source": [
    "### Matches played aganist particular Opposition"
   ]
  },
  {
   "cell_type": "code",
   "execution_count": 32,
   "metadata": {},
   "outputs": [
    {
     "data": {
      "text/plain": [
       "v Australia       39\n",
       "v England         32\n",
       "v Sri Lanka       25\n",
       "v South Africa    25\n",
       "v New Zealand     24\n",
       "v West Indies     21\n",
       "v Pakistan        18\n",
       "v Zimbabwe         9\n",
       "v Bangladesh       7\n",
       "Name: Opposition, dtype: int64"
      ]
     },
     "execution_count": 32,
     "metadata": {},
     "output_type": "execute_result"
    }
   ],
   "source": [
    "main.Opposition.value_counts()"
   ]
  },
  {
   "cell_type": "code",
   "execution_count": 46,
   "metadata": {
    "scrolled": true
   },
   "outputs": [
    {
     "data": {
      "image/png": "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\n",
      "text/plain": [
       "<Figure size 432x288 with 1 Axes>"
      ]
     },
     "metadata": {},
     "output_type": "display_data"
    }
   ],
   "source": [
    "main.Opposition.value_counts().plot.pie(autopct='%1.0f%%',title='opposition')\n",
    "plt.show()"
   ]
  },
  {
   "cell_type": "markdown",
   "metadata": {},
   "source": [
    "#### Sachin played maximum number of matches aganist Australia and minimum number of matches aganist bangladesh"
   ]
  },
  {
   "cell_type": "markdown",
   "metadata": {},
   "source": [
    "### Team Performance aganist other teams"
   ]
  },
  {
   "cell_type": "code",
   "execution_count": 34,
   "metadata": {},
   "outputs": [
    {
     "data": {
      "text/plain": [
       "Opposition      Result\n",
       "v Australia     Loss      17\n",
       "                Won       16\n",
       "                Drawn      6\n",
       "v Bangladesh    Won        6\n",
       "                Drawn      1\n",
       "v England       Drawn     13\n",
       "                Loss      10\n",
       "                Won        9\n",
       "v New Zealand   Drawn     14\n",
       "                Won        6\n",
       "                Loss       4\n",
       "v Pakistan      Drawn      8\n",
       "                Loss       5\n",
       "                Won        5\n",
       "v South Africa  Loss      11\n",
       "                Drawn      8\n",
       "                Won        6\n",
       "v Sri Lanka     Drawn     11\n",
       "                Won       11\n",
       "                Loss       3\n",
       "v West Indies   Drawn      9\n",
       "                Won        8\n",
       "                Loss       4\n",
       "v Zimbabwe      Won        5\n",
       "                Drawn      2\n",
       "                Loss       2\n",
       "Name: Result, dtype: int64"
      ]
     },
     "execution_count": 34,
     "metadata": {},
     "output_type": "execute_result"
    }
   ],
   "source": [
    "main.groupby('Opposition')['Result'].value_counts()"
   ]
  },
  {
   "cell_type": "code",
   "execution_count": 35,
   "metadata": {
    "scrolled": true
   },
   "outputs": [
    {
     "name": "stderr",
     "output_type": "stream",
     "text": [
      "C:\\Users\\rakes\\Anaconda3\\lib\\site-packages\\seaborn\\_decorators.py:36: FutureWarning: Pass the following variable as a keyword arg: x. From version 0.12, the only valid positional argument will be `data`, and passing other arguments without an explicit keyword will result in an error or misinterpretation.\n",
      "  warnings.warn(\n"
     ]
    },
    {
     "data": {
      "image/png": "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\n",
      "text/plain": [
       "<Figure size 1440x720 with 1 Axes>"
      ]
     },
     "metadata": {
      "needs_background": "light"
     },
     "output_type": "display_data"
    }
   ],
   "source": [
    "plt.figure(figsize=(20,10))\n",
    "sns.countplot(main['Opposition'],hue=main['Result'],palette='Set1')\n",
    "plt.title('MatchResults', fontsize=20)\n",
    "plt.xlabel('Opposition',fontsize=18)\n",
    "plt.ylabel('count', fontsize=16)\n",
    "plt.show()"
   ]
  },
  {
   "cell_type": "markdown",
   "metadata": {},
   "source": [
    "### Extracting month from datetime to plot the monthly average of Sachin "
   ]
  },
  {
   "cell_type": "code",
   "execution_count": 36,
   "metadata": {},
   "outputs": [
    {
     "name": "stdout",
     "output_type": "stream",
     "text": [
      "2021-03-07 22:38:36.063044\n",
      "Type :-  <class 'datetime.datetime'>\n"
     ]
    }
   ],
   "source": [
    "# import datetime class from datetime module\n",
    "from datetime import datetime\n",
    "\n",
    "# get current date\n",
    "datetime_object = datetime.now()\n",
    "print(datetime_object)\n",
    "print('Type :- ',type(datetime_object))"
   ]
  },
  {
   "cell_type": "code",
   "execution_count": 37,
   "metadata": {},
   "outputs": [],
   "source": [
    "list=[]\n",
    "for i in range(len(main)):\n",
    "    list.append(main['Start_DateAscending'].iloc[i].split('-')[1])"
   ]
  },
  {
   "cell_type": "code",
   "execution_count": 38,
   "metadata": {},
   "outputs": [],
   "source": [
    "main['month']=list"
   ]
  },
  {
   "cell_type": "code",
   "execution_count": 39,
   "metadata": {},
   "outputs": [],
   "source": [
    "main_1=main[main['Runs_scored']!='DNB']"
   ]
  },
  {
   "cell_type": "code",
   "execution_count": 40,
   "metadata": {},
   "outputs": [],
   "source": [
    "main_1=main_1[main_1['Runs_scored']!='TDNB']"
   ]
  },
  {
   "cell_type": "code",
   "execution_count": 41,
   "metadata": {},
   "outputs": [
    {
     "data": {
      "text/plain": [
       "(182, 23)"
      ]
     },
     "execution_count": 41,
     "metadata": {},
     "output_type": "execute_result"
    }
   ],
   "source": [
    "main_1.shape"
   ]
  },
  {
   "cell_type": "code",
   "execution_count": 42,
   "metadata": {},
   "outputs": [],
   "source": [
    "main_1['Runs_scored']=main_1['Runs_scored'].astype('int')"
   ]
  },
  {
   "cell_type": "code",
   "execution_count": 43,
   "metadata": {},
   "outputs": [
    {
     "data": {
      "image/png": "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\n",
      "text/plain": [
       "<Figure size 432x288 with 1 Axes>"
      ]
     },
     "metadata": {
      "needs_background": "light"
     },
     "output_type": "display_data"
    }
   ],
   "source": [
    "main_1['Runs_scored'].groupby(main_1['month']).mean().sort_values().plot(kind='bar')\n",
    "plt.title('Avg score according to Months', fontsize=20)\n",
    "plt.xlabel('Month', fontsize=18)\n",
    "plt.ylabel('Avg', fontsize=16)\n",
    "plt.show()"
   ]
  },
  {
   "cell_type": "markdown",
   "metadata": {},
   "source": [
    "In the month of April, his batting average was very low while February was his highest."
   ]
  },
  {
   "cell_type": "markdown",
   "metadata": {},
   "source": [
    "## What I learnt\n",
    "\n",
    "~Merging of dataframes<br>\n",
    "~Grouping and plotting the data<br>\n",
    "~Extracting month from date-time format<br>\n",
    "~Seaborn usage for plotting<br>"
   ]
  },
  {
   "cell_type": "code",
   "execution_count": null,
   "metadata": {},
   "outputs": [],
   "source": []
  }
 ],
 "metadata": {
  "kernelspec": {
   "display_name": "Python 3",
   "language": "python",
   "name": "python3"
  },
  "language_info": {
   "codemirror_mode": {
    "name": "ipython",
    "version": 3
   },
   "file_extension": ".py",
   "mimetype": "text/x-python",
   "name": "python",
   "nbconvert_exporter": "python",
   "pygments_lexer": "ipython3",
   "version": "3.8.5"
  }
 },
 "nbformat": 4,
 "nbformat_minor": 2
}
