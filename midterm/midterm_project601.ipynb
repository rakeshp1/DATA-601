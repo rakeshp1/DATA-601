{
 "cells": [
  {
   "cell_type": "markdown",
   "metadata": {},
   "source": [
    "## Data 601 Project:\n",
    "\n",
    "Name of the dataset: Sachin Tendulkar Dataset\n",
    "\n",
    "Data Source Location:\n",
    "\n",
    "https://data.world/ram-baskaran/sachin-tendulkar-test-data\n",
    "\n",
    "In the above link Test.xlsx is the data which I am using for the project.\n",
    "\n",
    "Description of how data source was found:\n",
    "\n",
    "I have interest in cricket, when I searched for the available datasets for which they don’t have any existing python analysis. I have found the above data.\n",
    "\n",
    "Cost incurred to download the dataset:  Zero, the dataset is free to download.\n",
    "\n",
    "Legality of the data set: The data set is from a free source and can be accessible by everyone and the data is legal to use.\n",
    "\n",
    "Documented Exploratory Data Analysis:\n",
    "\n",
    "I have searched a lot on google but did not find any previously documented EDA on the dataset.\n",
    "\n",
    "Data types in the dataset:\n",
    "\n",
    "Numeric: float, Int,\n",
    "Categorical,\n",
    "\n",
    "Datetime\n",
    "\n",
    "Project proposal relevant to 601 objectives:\n",
    "\n",
    "The project that I have selected is relevant to the objective of data601\n",
    "\n",
    "Description (Stories in the Data):\n",
    "\n",
    "This dataset contains stats of Sachin Tendulkar Test Matches (Collected from ESPN Website). I can show Sachin’s performance against different countries i.e., win loss ratio, runs scored etc.\n",
    "\n",
    "Data size:\n",
    "\n",
    "The dataset is of the size of 60.5kb\n",
    "\n",
    "The dataset contains two tables of data\n",
    "\n",
    "First dataset which is a batting data contains 14 rows 348 columns and the second dataset which is a fielding data has 14 rows 369"
   ]
  },
  {
   "cell_type": "code",
   "execution_count": 1,
   "metadata": {},
   "outputs": [],
   "source": [
    "import pandas as pd\n",
    "import os\n",
    "from matplotlib import pyplot as plt\n",
    "import seaborn as sns"
   ]
  },
  {
   "cell_type": "markdown",
   "metadata": {},
   "source": [
    "### The comment chdir() is used to change the current working directory. The comment getcwd()is used for getting the current working directory"
   ]
  },
  {
   "cell_type": "code",
   "execution_count": 5,
   "metadata": {},
   "outputs": [
    {
     "data": {
      "text/plain": [
       "'C:\\\\Users\\\\rakes\\\\OneDrive\\\\Desktop\\\\601 Assignments\\\\project_mid'"
      ]
     },
     "execution_count": 5,
     "metadata": {},
     "output_type": "execute_result"
    }
   ],
   "source": [
    "os.chdir(\"C:\\\\Users\\\\rakes\\\\OneDrive\\\\Desktop\\\\601 Assignments\\\\project_mid\")#changing the current working directory.\n",
    "os.getcwd() #returns current working directory of a process."
   ]
  },
  {
   "cell_type": "code",
   "execution_count": 8,
   "metadata": {},
   "outputs": [],
   "source": [
    "batting=pd.read_csv(\"Test_1.csv\") #reading the particular file"
   ]
  },
  {
   "cell_type": "code",
   "execution_count": 9,
   "metadata": {},
   "outputs": [],
   "source": [
    "fielding=pd.read_csv(\"Test_2.csv\") #reading the particular file"
   ]
  },
  {
   "cell_type": "code",
   "execution_count": 10,
   "metadata": {},
   "outputs": [
    {
     "data": {
      "text/plain": [
       "(347, 14)"
      ]
     },
     "execution_count": 10,
     "metadata": {},
     "output_type": "execute_result"
    }
   ],
   "source": [
    "#displaying the shape(r,c)\n",
    "batting.shape"
   ]
  },
  {
   "cell_type": "code",
   "execution_count": 11,
   "metadata": {},
   "outputs": [
    {
     "data": {
      "text/plain": [
       "(368, 14)"
      ]
     },
     "execution_count": 11,
     "metadata": {},
     "output_type": "execute_result"
    }
   ],
   "source": [
    "#displaying the shape(r,c)\n",
    "fielding.shape"
   ]
  },
  {
   "cell_type": "code",
   "execution_count": 12,
   "metadata": {},
   "outputs": [
    {
     "data": {
      "text/html": [
       "<div>\n",
       "<style scoped>\n",
       "    .dataframe tbody tr th:only-of-type {\n",
       "        vertical-align: middle;\n",
       "    }\n",
       "\n",
       "    .dataframe tbody tr th {\n",
       "        vertical-align: top;\n",
       "    }\n",
       "\n",
       "    .dataframe thead th {\n",
       "        text-align: right;\n",
       "    }\n",
       "</style>\n",
       "<table border=\"1\" class=\"dataframe\">\n",
       "  <thead>\n",
       "    <tr style=\"text-align: right;\">\n",
       "      <th></th>\n",
       "      <th>Runs</th>\n",
       "      <th>Mins</th>\n",
       "      <th>BF</th>\n",
       "      <th>4s</th>\n",
       "      <th>6s</th>\n",
       "      <th>SR</th>\n",
       "      <th>Pos</th>\n",
       "      <th>Dismissal</th>\n",
       "      <th>Inns</th>\n",
       "      <th>Opposition</th>\n",
       "      <th>Ground</th>\n",
       "      <th>Start DateAscending</th>\n",
       "      <th>Match Number</th>\n",
       "      <th>Result</th>\n",
       "    </tr>\n",
       "  </thead>\n",
       "  <tbody>\n",
       "    <tr>\n",
       "      <th>0</th>\n",
       "      <td>11</td>\n",
       "      <td>92</td>\n",
       "      <td>-</td>\n",
       "      <td>-</td>\n",
       "      <td>0</td>\n",
       "      <td>-</td>\n",
       "      <td>6</td>\n",
       "      <td>lbw</td>\n",
       "      <td>1</td>\n",
       "      <td>v Sri Lanka</td>\n",
       "      <td>Chandigarh</td>\n",
       "      <td>23-Nov-90</td>\n",
       "      <td>Test # 1156</td>\n",
       "      <td>Won</td>\n",
       "    </tr>\n",
       "    <tr>\n",
       "      <th>1</th>\n",
       "      <td>50</td>\n",
       "      <td>158</td>\n",
       "      <td>118</td>\n",
       "      <td>6</td>\n",
       "      <td>0</td>\n",
       "      <td>42.37</td>\n",
       "      <td>4</td>\n",
       "      <td>caught</td>\n",
       "      <td>1</td>\n",
       "      <td>v England</td>\n",
       "      <td>Kolkata</td>\n",
       "      <td>29-Jan-93</td>\n",
       "      <td>Test # 1211</td>\n",
       "      <td>Won</td>\n",
       "    </tr>\n",
       "    <tr>\n",
       "      <th>2</th>\n",
       "      <td>9</td>\n",
       "      <td>17</td>\n",
       "      <td>19</td>\n",
       "      <td>2</td>\n",
       "      <td>0</td>\n",
       "      <td>47.36</td>\n",
       "      <td>4</td>\n",
       "      <td>not out</td>\n",
       "      <td>4</td>\n",
       "      <td>v England</td>\n",
       "      <td>Kolkata</td>\n",
       "      <td>29-Jan-93</td>\n",
       "      <td>Test # 1211</td>\n",
       "      <td>Won</td>\n",
       "    </tr>\n",
       "    <tr>\n",
       "      <th>3</th>\n",
       "      <td>165</td>\n",
       "      <td>361</td>\n",
       "      <td>296</td>\n",
       "      <td>24</td>\n",
       "      <td>1</td>\n",
       "      <td>55.74</td>\n",
       "      <td>4</td>\n",
       "      <td>caught</td>\n",
       "      <td>1</td>\n",
       "      <td>v England</td>\n",
       "      <td>Chennai</td>\n",
       "      <td>11-Feb-93</td>\n",
       "      <td>Test # 1213</td>\n",
       "      <td>Won</td>\n",
       "    </tr>\n",
       "    <tr>\n",
       "      <th>4</th>\n",
       "      <td>78</td>\n",
       "      <td>285</td>\n",
       "      <td>213</td>\n",
       "      <td>10</td>\n",
       "      <td>0</td>\n",
       "      <td>36.61</td>\n",
       "      <td>4</td>\n",
       "      <td>lbw</td>\n",
       "      <td>2</td>\n",
       "      <td>v England</td>\n",
       "      <td>Mumbai</td>\n",
       "      <td>19-Feb-93</td>\n",
       "      <td>Test # 1214</td>\n",
       "      <td>Won</td>\n",
       "    </tr>\n",
       "  </tbody>\n",
       "</table>\n",
       "</div>"
      ],
      "text/plain": [
       "  Runs Mins   BF  4s 6s     SR Pos Dismissal Inns   Opposition      Ground  \\\n",
       "0   11   92    -   -  0      -   6       lbw    1  v Sri Lanka  Chandigarh   \n",
       "1   50  158  118   6  0  42.37   4    caught    1    v England     Kolkata   \n",
       "2    9   17   19   2  0  47.36   4   not out    4    v England     Kolkata   \n",
       "3  165  361  296  24  1  55.74   4    caught    1    v England     Chennai   \n",
       "4   78  285  213  10  0  36.61   4       lbw    2    v England      Mumbai   \n",
       "\n",
       "  Start DateAscending Match Number Result  \n",
       "0           23-Nov-90  Test # 1156    Won  \n",
       "1           29-Jan-93  Test # 1211    Won  \n",
       "2           29-Jan-93  Test # 1211    Won  \n",
       "3           11-Feb-93  Test # 1213    Won  \n",
       "4           19-Feb-93  Test # 1214    Won  "
      ]
     },
     "execution_count": 12,
     "metadata": {},
     "output_type": "execute_result"
    }
   ],
   "source": [
    "#Displaying first 5 rows of the dataframe\n",
    "batting.head()"
   ]
  },
  {
   "cell_type": "markdown",
   "metadata": {},
   "source": [
    "# Cleaning Data\n",
    "### Dropping the duplicates since in the column name match number has repeated values"
   ]
  },
  {
   "cell_type": "code",
   "execution_count": 13,
   "metadata": {},
   "outputs": [],
   "source": [
    "batting=batting.drop_duplicates(subset='Match Number', keep=\"last\")"
   ]
  },
  {
   "cell_type": "code",
   "execution_count": 14,
   "metadata": {},
   "outputs": [
    {
     "data": {
      "text/plain": [
       "(200, 14)"
      ]
     },
     "execution_count": 14,
     "metadata": {},
     "output_type": "execute_result"
    }
   ],
   "source": [
    "batting.shape"
   ]
  },
  {
   "cell_type": "code",
   "execution_count": 15,
   "metadata": {},
   "outputs": [
    {
     "data": {
      "text/html": [
       "<div>\n",
       "<style scoped>\n",
       "    .dataframe tbody tr th:only-of-type {\n",
       "        vertical-align: middle;\n",
       "    }\n",
       "\n",
       "    .dataframe tbody tr th {\n",
       "        vertical-align: top;\n",
       "    }\n",
       "\n",
       "    .dataframe thead th {\n",
       "        text-align: right;\n",
       "    }\n",
       "</style>\n",
       "<table border=\"1\" class=\"dataframe\">\n",
       "  <thead>\n",
       "    <tr style=\"text-align: right;\">\n",
       "      <th></th>\n",
       "      <th>Overs</th>\n",
       "      <th>Mdns</th>\n",
       "      <th>Runs</th>\n",
       "      <th>Wkts</th>\n",
       "      <th>Econ</th>\n",
       "      <th>Pos</th>\n",
       "      <th>Inns</th>\n",
       "      <th>Dismisal Made</th>\n",
       "      <th>Catch Taken</th>\n",
       "      <th>Opposition</th>\n",
       "      <th>Ground</th>\n",
       "      <th>Start DateAscending</th>\n",
       "      <th>Match Number</th>\n",
       "      <th>Result</th>\n",
       "    </tr>\n",
       "  </thead>\n",
       "  <tbody>\n",
       "    <tr>\n",
       "      <th>0</th>\n",
       "      <td>DNB</td>\n",
       "      <td>-</td>\n",
       "      <td>-</td>\n",
       "      <td>-</td>\n",
       "      <td>-</td>\n",
       "      <td>-</td>\n",
       "      <td>2</td>\n",
       "      <td>0</td>\n",
       "      <td>0</td>\n",
       "      <td>v Sri Lanka</td>\n",
       "      <td>Chandigarh</td>\n",
       "      <td>23-Nov-90</td>\n",
       "      <td>Test # 1156</td>\n",
       "      <td>Won</td>\n",
       "    </tr>\n",
       "    <tr>\n",
       "      <th>1</th>\n",
       "      <td>DNB</td>\n",
       "      <td>-</td>\n",
       "      <td>-</td>\n",
       "      <td>-</td>\n",
       "      <td>-</td>\n",
       "      <td>-</td>\n",
       "      <td>3</td>\n",
       "      <td>0</td>\n",
       "      <td>0</td>\n",
       "      <td>v Sri Lanka</td>\n",
       "      <td>Chandigarh</td>\n",
       "      <td>23-Nov-90</td>\n",
       "      <td>Test # 1156</td>\n",
       "      <td>Won</td>\n",
       "    </tr>\n",
       "    <tr>\n",
       "      <th>2</th>\n",
       "      <td>DNB</td>\n",
       "      <td>-</td>\n",
       "      <td>-</td>\n",
       "      <td>-</td>\n",
       "      <td>-</td>\n",
       "      <td>-</td>\n",
       "      <td>2</td>\n",
       "      <td>0</td>\n",
       "      <td>0</td>\n",
       "      <td>v England</td>\n",
       "      <td>Kolkata</td>\n",
       "      <td>29-Jan-93</td>\n",
       "      <td>Test # 1211</td>\n",
       "      <td>Won</td>\n",
       "    </tr>\n",
       "    <tr>\n",
       "      <th>3</th>\n",
       "      <td>DNB</td>\n",
       "      <td>-</td>\n",
       "      <td>-</td>\n",
       "      <td>-</td>\n",
       "      <td>-</td>\n",
       "      <td>-</td>\n",
       "      <td>3</td>\n",
       "      <td>1</td>\n",
       "      <td>1</td>\n",
       "      <td>v England</td>\n",
       "      <td>Kolkata</td>\n",
       "      <td>29-Jan-93</td>\n",
       "      <td>Test # 1211</td>\n",
       "      <td>Won</td>\n",
       "    </tr>\n",
       "    <tr>\n",
       "      <th>4</th>\n",
       "      <td>2</td>\n",
       "      <td>1</td>\n",
       "      <td>5</td>\n",
       "      <td>0</td>\n",
       "      <td>2.5</td>\n",
       "      <td>6</td>\n",
       "      <td>2</td>\n",
       "      <td>0</td>\n",
       "      <td>0</td>\n",
       "      <td>v England</td>\n",
       "      <td>Chennai</td>\n",
       "      <td>11-Feb-93</td>\n",
       "      <td>Test # 1213</td>\n",
       "      <td>Won</td>\n",
       "    </tr>\n",
       "  </tbody>\n",
       "</table>\n",
       "</div>"
      ],
      "text/plain": [
       "  Overs Mdns Runs Wkts Econ Pos Inns Dismisal Made Catch Taken   Opposition  \\\n",
       "0   DNB    -    -    -    -   -    2             0           0  v Sri Lanka   \n",
       "1   DNB    -    -    -    -   -    3             0           0  v Sri Lanka   \n",
       "2   DNB    -    -    -    -   -    2             0           0    v England   \n",
       "3   DNB    -    -    -    -   -    3             1           1    v England   \n",
       "4     2    1    5    0  2.5   6    2             0           0    v England   \n",
       "\n",
       "       Ground Start DateAscending Match Number Result  \n",
       "0  Chandigarh           23-Nov-90  Test # 1156    Won  \n",
       "1  Chandigarh           23-Nov-90  Test # 1156    Won  \n",
       "2     Kolkata           29-Jan-93  Test # 1211    Won  \n",
       "3     Kolkata           29-Jan-93  Test # 1211    Won  \n",
       "4     Chennai           11-Feb-93  Test # 1213    Won  "
      ]
     },
     "execution_count": 15,
     "metadata": {},
     "output_type": "execute_result"
    }
   ],
   "source": [
    "#displaying head of the required data for reference\n",
    "fielding.head()"
   ]
  },
  {
   "cell_type": "code",
   "execution_count": 16,
   "metadata": {},
   "outputs": [],
   "source": [
    "#dropping the duplicates\n",
    "fielding=fielding.drop_duplicates(subset='Match Number', keep=\"last\")"
   ]
  },
  {
   "cell_type": "markdown",
   "metadata": {},
   "source": [
    "#### Merging both the dataframes on Match Number column since batting table and fielding table constitute to Sachin over all statistics "
   ]
  },
  {
   "cell_type": "code",
   "execution_count": 17,
   "metadata": {},
   "outputs": [],
   "source": [
    "#merge the batting data and the fielding data\n",
    "main=pd.merge(batting,fielding, how='outer', left_on=['Match Number'], right_on=['Match Number'])"
   ]
  },
  {
   "cell_type": "code",
   "execution_count": 18,
   "metadata": {
    "scrolled": true
   },
   "outputs": [
    {
     "data": {
      "text/html": [
       "<div>\n",
       "<style scoped>\n",
       "    .dataframe tbody tr th:only-of-type {\n",
       "        vertical-align: middle;\n",
       "    }\n",
       "\n",
       "    .dataframe tbody tr th {\n",
       "        vertical-align: top;\n",
       "    }\n",
       "\n",
       "    .dataframe thead th {\n",
       "        text-align: right;\n",
       "    }\n",
       "</style>\n",
       "<table border=\"1\" class=\"dataframe\">\n",
       "  <thead>\n",
       "    <tr style=\"text-align: right;\">\n",
       "      <th></th>\n",
       "      <th>0</th>\n",
       "      <th>1</th>\n",
       "      <th>2</th>\n",
       "      <th>3</th>\n",
       "      <th>4</th>\n",
       "    </tr>\n",
       "  </thead>\n",
       "  <tbody>\n",
       "    <tr>\n",
       "      <th>Runs_x</th>\n",
       "      <td>11</td>\n",
       "      <td>9</td>\n",
       "      <td>165</td>\n",
       "      <td>78</td>\n",
       "      <td>62</td>\n",
       "    </tr>\n",
       "    <tr>\n",
       "      <th>Mins</th>\n",
       "      <td>92</td>\n",
       "      <td>17</td>\n",
       "      <td>361</td>\n",
       "      <td>285</td>\n",
       "      <td>128</td>\n",
       "    </tr>\n",
       "    <tr>\n",
       "      <th>BF</th>\n",
       "      <td>-</td>\n",
       "      <td>19</td>\n",
       "      <td>296</td>\n",
       "      <td>213</td>\n",
       "      <td>114</td>\n",
       "    </tr>\n",
       "    <tr>\n",
       "      <th>4s</th>\n",
       "      <td>-</td>\n",
       "      <td>2</td>\n",
       "      <td>24</td>\n",
       "      <td>10</td>\n",
       "      <td>7</td>\n",
       "    </tr>\n",
       "    <tr>\n",
       "      <th>6s</th>\n",
       "      <td>0</td>\n",
       "      <td>0</td>\n",
       "      <td>1</td>\n",
       "      <td>0</td>\n",
       "      <td>0</td>\n",
       "    </tr>\n",
       "    <tr>\n",
       "      <th>SR</th>\n",
       "      <td>-</td>\n",
       "      <td>47.36</td>\n",
       "      <td>55.74</td>\n",
       "      <td>36.61</td>\n",
       "      <td>54.38</td>\n",
       "    </tr>\n",
       "    <tr>\n",
       "      <th>Pos_x</th>\n",
       "      <td>6</td>\n",
       "      <td>4</td>\n",
       "      <td>4</td>\n",
       "      <td>4</td>\n",
       "      <td>4</td>\n",
       "    </tr>\n",
       "    <tr>\n",
       "      <th>Dismissal</th>\n",
       "      <td>lbw</td>\n",
       "      <td>not out</td>\n",
       "      <td>caught</td>\n",
       "      <td>lbw</td>\n",
       "      <td>caught</td>\n",
       "    </tr>\n",
       "    <tr>\n",
       "      <th>Inns_x</th>\n",
       "      <td>1</td>\n",
       "      <td>4</td>\n",
       "      <td>1</td>\n",
       "      <td>2</td>\n",
       "      <td>1</td>\n",
       "    </tr>\n",
       "    <tr>\n",
       "      <th>Opposition_x</th>\n",
       "      <td>v Sri Lanka</td>\n",
       "      <td>v England</td>\n",
       "      <td>v England</td>\n",
       "      <td>v England</td>\n",
       "      <td>v Zimbabwe</td>\n",
       "    </tr>\n",
       "    <tr>\n",
       "      <th>Ground_x</th>\n",
       "      <td>Chandigarh</td>\n",
       "      <td>Kolkata</td>\n",
       "      <td>Chennai</td>\n",
       "      <td>Mumbai</td>\n",
       "      <td>Delhi</td>\n",
       "    </tr>\n",
       "    <tr>\n",
       "      <th>Start DateAscending_x</th>\n",
       "      <td>23-Nov-90</td>\n",
       "      <td>29-Jan-93</td>\n",
       "      <td>11-Feb-93</td>\n",
       "      <td>19-Feb-93</td>\n",
       "      <td>13-Mar-93</td>\n",
       "    </tr>\n",
       "    <tr>\n",
       "      <th>Match Number</th>\n",
       "      <td>Test # 1156</td>\n",
       "      <td>Test # 1211</td>\n",
       "      <td>Test # 1213</td>\n",
       "      <td>Test # 1214</td>\n",
       "      <td>Test # 1218</td>\n",
       "    </tr>\n",
       "    <tr>\n",
       "      <th>Result_x</th>\n",
       "      <td>Won</td>\n",
       "      <td>Won</td>\n",
       "      <td>Won</td>\n",
       "      <td>Won</td>\n",
       "      <td>Won</td>\n",
       "    </tr>\n",
       "    <tr>\n",
       "      <th>Overs</th>\n",
       "      <td>DNB</td>\n",
       "      <td>DNB</td>\n",
       "      <td>2</td>\n",
       "      <td>DNB</td>\n",
       "      <td>DNB</td>\n",
       "    </tr>\n",
       "    <tr>\n",
       "      <th>Mdns</th>\n",
       "      <td>-</td>\n",
       "      <td>-</td>\n",
       "      <td>1</td>\n",
       "      <td>-</td>\n",
       "      <td>-</td>\n",
       "    </tr>\n",
       "    <tr>\n",
       "      <th>Runs_y</th>\n",
       "      <td>-</td>\n",
       "      <td>-</td>\n",
       "      <td>4</td>\n",
       "      <td>-</td>\n",
       "      <td>-</td>\n",
       "    </tr>\n",
       "    <tr>\n",
       "      <th>Wkts</th>\n",
       "      <td>-</td>\n",
       "      <td>-</td>\n",
       "      <td>0</td>\n",
       "      <td>-</td>\n",
       "      <td>-</td>\n",
       "    </tr>\n",
       "    <tr>\n",
       "      <th>Econ</th>\n",
       "      <td>-</td>\n",
       "      <td>-</td>\n",
       "      <td>2</td>\n",
       "      <td>-</td>\n",
       "      <td>-</td>\n",
       "    </tr>\n",
       "    <tr>\n",
       "      <th>Pos_y</th>\n",
       "      <td>-</td>\n",
       "      <td>-</td>\n",
       "      <td>6</td>\n",
       "      <td>-</td>\n",
       "      <td>-</td>\n",
       "    </tr>\n",
       "    <tr>\n",
       "      <th>Inns_y</th>\n",
       "      <td>3</td>\n",
       "      <td>3</td>\n",
       "      <td>3</td>\n",
       "      <td>3</td>\n",
       "      <td>3</td>\n",
       "    </tr>\n",
       "    <tr>\n",
       "      <th>Dismisal Made</th>\n",
       "      <td>0</td>\n",
       "      <td>1</td>\n",
       "      <td>2</td>\n",
       "      <td>1</td>\n",
       "      <td>0</td>\n",
       "    </tr>\n",
       "    <tr>\n",
       "      <th>Catch Taken</th>\n",
       "      <td>0</td>\n",
       "      <td>1</td>\n",
       "      <td>2</td>\n",
       "      <td>1</td>\n",
       "      <td>0</td>\n",
       "    </tr>\n",
       "    <tr>\n",
       "      <th>Opposition_y</th>\n",
       "      <td>v Sri Lanka</td>\n",
       "      <td>v England</td>\n",
       "      <td>v England</td>\n",
       "      <td>v England</td>\n",
       "      <td>v Zimbabwe</td>\n",
       "    </tr>\n",
       "    <tr>\n",
       "      <th>Ground_y</th>\n",
       "      <td>Chandigarh</td>\n",
       "      <td>Kolkata</td>\n",
       "      <td>Chennai</td>\n",
       "      <td>Mumbai</td>\n",
       "      <td>Delhi</td>\n",
       "    </tr>\n",
       "    <tr>\n",
       "      <th>Start DateAscending_y</th>\n",
       "      <td>23-Nov-90</td>\n",
       "      <td>29-Jan-93</td>\n",
       "      <td>11-Feb-93</td>\n",
       "      <td>19-Feb-93</td>\n",
       "      <td>13-Mar-93</td>\n",
       "    </tr>\n",
       "    <tr>\n",
       "      <th>Result_y</th>\n",
       "      <td>Won</td>\n",
       "      <td>Won</td>\n",
       "      <td>Won</td>\n",
       "      <td>Won</td>\n",
       "      <td>Won</td>\n",
       "    </tr>\n",
       "  </tbody>\n",
       "</table>\n",
       "</div>"
      ],
      "text/plain": [
       "                                 0            1            2            3  \\\n",
       "Runs_x                          11            9          165           78   \n",
       "Mins                            92           17          361          285   \n",
       "BF                               -           19          296          213   \n",
       "4s                               -            2           24           10   \n",
       "6s                               0            0            1            0   \n",
       "SR                               -        47.36        55.74        36.61   \n",
       "Pos_x                            6            4            4            4   \n",
       "Dismissal                      lbw      not out       caught          lbw   \n",
       "Inns_x                           1            4            1            2   \n",
       "Opposition_x           v Sri Lanka    v England    v England    v England   \n",
       "Ground_x                Chandigarh      Kolkata      Chennai       Mumbai   \n",
       "Start DateAscending_x    23-Nov-90    29-Jan-93    11-Feb-93    19-Feb-93   \n",
       "Match Number           Test # 1156  Test # 1211  Test # 1213  Test # 1214   \n",
       "Result_x                       Won          Won          Won          Won   \n",
       "Overs                          DNB          DNB            2          DNB   \n",
       "Mdns                             -            -            1            -   \n",
       "Runs_y                           -            -            4            -   \n",
       "Wkts                             -            -            0            -   \n",
       "Econ                             -            -            2            -   \n",
       "Pos_y                            -            -            6            -   \n",
       "Inns_y                           3            3            3            3   \n",
       "Dismisal Made                    0            1            2            1   \n",
       "Catch Taken                      0            1            2            1   \n",
       "Opposition_y           v Sri Lanka    v England    v England    v England   \n",
       "Ground_y                Chandigarh      Kolkata      Chennai       Mumbai   \n",
       "Start DateAscending_y    23-Nov-90    29-Jan-93    11-Feb-93    19-Feb-93   \n",
       "Result_y                       Won          Won          Won          Won   \n",
       "\n",
       "                                 4  \n",
       "Runs_x                          62  \n",
       "Mins                           128  \n",
       "BF                             114  \n",
       "4s                               7  \n",
       "6s                               0  \n",
       "SR                           54.38  \n",
       "Pos_x                            4  \n",
       "Dismissal                   caught  \n",
       "Inns_x                           1  \n",
       "Opposition_x            v Zimbabwe  \n",
       "Ground_x                     Delhi  \n",
       "Start DateAscending_x    13-Mar-93  \n",
       "Match Number           Test # 1218  \n",
       "Result_x                       Won  \n",
       "Overs                          DNB  \n",
       "Mdns                             -  \n",
       "Runs_y                           -  \n",
       "Wkts                             -  \n",
       "Econ                             -  \n",
       "Pos_y                            -  \n",
       "Inns_y                           3  \n",
       "Dismisal Made                    0  \n",
       "Catch Taken                      0  \n",
       "Opposition_y            v Zimbabwe  \n",
       "Ground_y                     Delhi  \n",
       "Start DateAscending_y    13-Mar-93  \n",
       "Result_y                       Won  "
      ]
     },
     "execution_count": 18,
     "metadata": {},
     "output_type": "execute_result"
    }
   ],
   "source": [
    "main.head().T"
   ]
  },
  {
   "cell_type": "code",
   "execution_count": 19,
   "metadata": {},
   "outputs": [
    {
     "data": {
      "text/plain": [
       "(200, 27)"
      ]
     },
     "execution_count": 19,
     "metadata": {},
     "output_type": "execute_result"
    }
   ],
   "source": [
    "main.shape"
   ]
  },
  {
   "cell_type": "code",
   "execution_count": 20,
   "metadata": {},
   "outputs": [
    {
     "data": {
      "text/plain": [
       "Index(['Runs_x', 'Mins', 'BF', '4s', '6s', 'SR', 'Pos_x', 'Dismissal',\n",
       "       'Inns_x', 'Opposition_x', 'Ground_x', 'Start DateAscending_x',\n",
       "       'Match Number', 'Result_x', 'Overs', 'Mdns', 'Runs_y', 'Wkts', 'Econ',\n",
       "       'Pos_y', 'Inns_y', 'Dismisal Made', 'Catch Taken', 'Opposition_y',\n",
       "       'Ground_y', 'Start DateAscending_y', 'Result_y'],\n",
       "      dtype='object')"
      ]
     },
     "execution_count": 20,
     "metadata": {},
     "output_type": "execute_result"
    }
   ],
   "source": [
    "#Displaying column names\n",
    "main.columns"
   ]
  },
  {
   "cell_type": "code",
   "execution_count": 21,
   "metadata": {},
   "outputs": [],
   "source": [
    "#dropping the columns which are repeated\n",
    "main=main.drop(['Result_y','Opposition_y','Ground_y','Start DateAscending_y','Result_y','Dismisal Made'],axis=1)"
   ]
  },
  {
   "cell_type": "code",
   "execution_count": 22,
   "metadata": {},
   "outputs": [],
   "source": [
    "#renaming the columns \n",
    "main.rename({'Runs_x': 'Runs_scored', 'Pos_x': 'position','Inns_x':'Inns','Opposition_x':'Opposition','Ground_x':'Ground','Start DateAscending_x':'Start_DateAscending','Result_x':'Result','Runs_y':'Runs_given','Pos_y':'Position_of_bowling','Inns_y':'Inninigs','Catch Taken':'Catch_Taken'}, axis=1, inplace=True)"
   ]
  },
  {
   "cell_type": "code",
   "execution_count": 23,
   "metadata": {
    "scrolled": true
   },
   "outputs": [
    {
     "data": {
      "text/plain": [
       "Index(['Runs_scored', 'Mins', 'BF', '4s', '6s', 'SR', 'position', 'Dismissal',\n",
       "       'Inns', 'Opposition', 'Ground', 'Start_DateAscending', 'Match Number',\n",
       "       'Result', 'Overs', 'Mdns', 'Runs_given', 'Wkts', 'Econ',\n",
       "       'Position_of_bowling', 'Inninigs', 'Catch_Taken'],\n",
       "      dtype='object')"
      ]
     },
     "execution_count": 23,
     "metadata": {},
     "output_type": "execute_result"
    }
   ],
   "source": [
    "main.columns"
   ]
  },
  {
   "cell_type": "code",
   "execution_count": 24,
   "metadata": {},
   "outputs": [
    {
     "data": {
      "text/plain": [
       "Runs_scored            object\n",
       "Mins                   object\n",
       "BF                     object\n",
       "4s                     object\n",
       "6s                     object\n",
       "SR                     object\n",
       "position               object\n",
       "Dismissal              object\n",
       "Inns                   object\n",
       "Opposition             object\n",
       "Ground                 object\n",
       "Start_DateAscending    object\n",
       "Match Number           object\n",
       "Result                 object\n",
       "Overs                  object\n",
       "Mdns                   object\n",
       "Runs_given             object\n",
       "Wkts                   object\n",
       "Econ                   object\n",
       "Position_of_bowling    object\n",
       "Inninigs               object\n",
       "Catch_Taken            object\n",
       "dtype: object"
      ]
     },
     "execution_count": 24,
     "metadata": {},
     "output_type": "execute_result"
    }
   ],
   "source": [
    "main.dtypes"
   ]
  },
  {
   "cell_type": "code",
   "execution_count": 25,
   "metadata": {},
   "outputs": [
    {
     "data": {
      "text/plain": [
       "(200, 22)"
      ]
     },
     "execution_count": 25,
     "metadata": {},
     "output_type": "execute_result"
    }
   ],
   "source": [
    "main.shape"
   ]
  },
  {
   "cell_type": "code",
   "execution_count": 26,
   "metadata": {},
   "outputs": [
    {
     "data": {
      "text/html": [
       "<div>\n",
       "<style scoped>\n",
       "    .dataframe tbody tr th:only-of-type {\n",
       "        vertical-align: middle;\n",
       "    }\n",
       "\n",
       "    .dataframe tbody tr th {\n",
       "        vertical-align: top;\n",
       "    }\n",
       "\n",
       "    .dataframe thead th {\n",
       "        text-align: right;\n",
       "    }\n",
       "</style>\n",
       "<table border=\"1\" class=\"dataframe\">\n",
       "  <thead>\n",
       "    <tr style=\"text-align: right;\">\n",
       "      <th></th>\n",
       "      <th>0</th>\n",
       "      <th>1</th>\n",
       "      <th>2</th>\n",
       "      <th>3</th>\n",
       "      <th>4</th>\n",
       "    </tr>\n",
       "  </thead>\n",
       "  <tbody>\n",
       "    <tr>\n",
       "      <th>Runs_scored</th>\n",
       "      <td>11</td>\n",
       "      <td>9</td>\n",
       "      <td>165</td>\n",
       "      <td>78</td>\n",
       "      <td>62</td>\n",
       "    </tr>\n",
       "    <tr>\n",
       "      <th>Mins</th>\n",
       "      <td>92</td>\n",
       "      <td>17</td>\n",
       "      <td>361</td>\n",
       "      <td>285</td>\n",
       "      <td>128</td>\n",
       "    </tr>\n",
       "    <tr>\n",
       "      <th>BF</th>\n",
       "      <td>-</td>\n",
       "      <td>19</td>\n",
       "      <td>296</td>\n",
       "      <td>213</td>\n",
       "      <td>114</td>\n",
       "    </tr>\n",
       "    <tr>\n",
       "      <th>4s</th>\n",
       "      <td>-</td>\n",
       "      <td>2</td>\n",
       "      <td>24</td>\n",
       "      <td>10</td>\n",
       "      <td>7</td>\n",
       "    </tr>\n",
       "    <tr>\n",
       "      <th>6s</th>\n",
       "      <td>0</td>\n",
       "      <td>0</td>\n",
       "      <td>1</td>\n",
       "      <td>0</td>\n",
       "      <td>0</td>\n",
       "    </tr>\n",
       "    <tr>\n",
       "      <th>SR</th>\n",
       "      <td>-</td>\n",
       "      <td>47.36</td>\n",
       "      <td>55.74</td>\n",
       "      <td>36.61</td>\n",
       "      <td>54.38</td>\n",
       "    </tr>\n",
       "    <tr>\n",
       "      <th>position</th>\n",
       "      <td>6</td>\n",
       "      <td>4</td>\n",
       "      <td>4</td>\n",
       "      <td>4</td>\n",
       "      <td>4</td>\n",
       "    </tr>\n",
       "    <tr>\n",
       "      <th>Dismissal</th>\n",
       "      <td>lbw</td>\n",
       "      <td>not out</td>\n",
       "      <td>caught</td>\n",
       "      <td>lbw</td>\n",
       "      <td>caught</td>\n",
       "    </tr>\n",
       "    <tr>\n",
       "      <th>Inns</th>\n",
       "      <td>1</td>\n",
       "      <td>4</td>\n",
       "      <td>1</td>\n",
       "      <td>2</td>\n",
       "      <td>1</td>\n",
       "    </tr>\n",
       "    <tr>\n",
       "      <th>Opposition</th>\n",
       "      <td>v Sri Lanka</td>\n",
       "      <td>v England</td>\n",
       "      <td>v England</td>\n",
       "      <td>v England</td>\n",
       "      <td>v Zimbabwe</td>\n",
       "    </tr>\n",
       "    <tr>\n",
       "      <th>Ground</th>\n",
       "      <td>Chandigarh</td>\n",
       "      <td>Kolkata</td>\n",
       "      <td>Chennai</td>\n",
       "      <td>Mumbai</td>\n",
       "      <td>Delhi</td>\n",
       "    </tr>\n",
       "    <tr>\n",
       "      <th>Start_DateAscending</th>\n",
       "      <td>23-Nov-90</td>\n",
       "      <td>29-Jan-93</td>\n",
       "      <td>11-Feb-93</td>\n",
       "      <td>19-Feb-93</td>\n",
       "      <td>13-Mar-93</td>\n",
       "    </tr>\n",
       "    <tr>\n",
       "      <th>Match Number</th>\n",
       "      <td>Test # 1156</td>\n",
       "      <td>Test # 1211</td>\n",
       "      <td>Test # 1213</td>\n",
       "      <td>Test # 1214</td>\n",
       "      <td>Test # 1218</td>\n",
       "    </tr>\n",
       "    <tr>\n",
       "      <th>Result</th>\n",
       "      <td>Won</td>\n",
       "      <td>Won</td>\n",
       "      <td>Won</td>\n",
       "      <td>Won</td>\n",
       "      <td>Won</td>\n",
       "    </tr>\n",
       "    <tr>\n",
       "      <th>Overs</th>\n",
       "      <td>DNB</td>\n",
       "      <td>DNB</td>\n",
       "      <td>2</td>\n",
       "      <td>DNB</td>\n",
       "      <td>DNB</td>\n",
       "    </tr>\n",
       "    <tr>\n",
       "      <th>Mdns</th>\n",
       "      <td>-</td>\n",
       "      <td>-</td>\n",
       "      <td>1</td>\n",
       "      <td>-</td>\n",
       "      <td>-</td>\n",
       "    </tr>\n",
       "    <tr>\n",
       "      <th>Runs_given</th>\n",
       "      <td>-</td>\n",
       "      <td>-</td>\n",
       "      <td>4</td>\n",
       "      <td>-</td>\n",
       "      <td>-</td>\n",
       "    </tr>\n",
       "    <tr>\n",
       "      <th>Wkts</th>\n",
       "      <td>-</td>\n",
       "      <td>-</td>\n",
       "      <td>0</td>\n",
       "      <td>-</td>\n",
       "      <td>-</td>\n",
       "    </tr>\n",
       "    <tr>\n",
       "      <th>Econ</th>\n",
       "      <td>-</td>\n",
       "      <td>-</td>\n",
       "      <td>2</td>\n",
       "      <td>-</td>\n",
       "      <td>-</td>\n",
       "    </tr>\n",
       "    <tr>\n",
       "      <th>Position_of_bowling</th>\n",
       "      <td>-</td>\n",
       "      <td>-</td>\n",
       "      <td>6</td>\n",
       "      <td>-</td>\n",
       "      <td>-</td>\n",
       "    </tr>\n",
       "    <tr>\n",
       "      <th>Inninigs</th>\n",
       "      <td>3</td>\n",
       "      <td>3</td>\n",
       "      <td>3</td>\n",
       "      <td>3</td>\n",
       "      <td>3</td>\n",
       "    </tr>\n",
       "    <tr>\n",
       "      <th>Catch_Taken</th>\n",
       "      <td>0</td>\n",
       "      <td>1</td>\n",
       "      <td>2</td>\n",
       "      <td>1</td>\n",
       "      <td>0</td>\n",
       "    </tr>\n",
       "  </tbody>\n",
       "</table>\n",
       "</div>"
      ],
      "text/plain": [
       "                               0            1            2            3  \\\n",
       "Runs_scored                   11            9          165           78   \n",
       "Mins                          92           17          361          285   \n",
       "BF                             -           19          296          213   \n",
       "4s                             -            2           24           10   \n",
       "6s                             0            0            1            0   \n",
       "SR                             -        47.36        55.74        36.61   \n",
       "position                       6            4            4            4   \n",
       "Dismissal                    lbw      not out       caught          lbw   \n",
       "Inns                           1            4            1            2   \n",
       "Opposition           v Sri Lanka    v England    v England    v England   \n",
       "Ground                Chandigarh      Kolkata      Chennai       Mumbai   \n",
       "Start_DateAscending    23-Nov-90    29-Jan-93    11-Feb-93    19-Feb-93   \n",
       "Match Number         Test # 1156  Test # 1211  Test # 1213  Test # 1214   \n",
       "Result                       Won          Won          Won          Won   \n",
       "Overs                        DNB          DNB            2          DNB   \n",
       "Mdns                           -            -            1            -   \n",
       "Runs_given                     -            -            4            -   \n",
       "Wkts                           -            -            0            -   \n",
       "Econ                           -            -            2            -   \n",
       "Position_of_bowling            -            -            6            -   \n",
       "Inninigs                       3            3            3            3   \n",
       "Catch_Taken                    0            1            2            1   \n",
       "\n",
       "                               4  \n",
       "Runs_scored                   62  \n",
       "Mins                         128  \n",
       "BF                           114  \n",
       "4s                             7  \n",
       "6s                             0  \n",
       "SR                         54.38  \n",
       "position                       4  \n",
       "Dismissal                 caught  \n",
       "Inns                           1  \n",
       "Opposition            v Zimbabwe  \n",
       "Ground                     Delhi  \n",
       "Start_DateAscending    13-Mar-93  \n",
       "Match Number         Test # 1218  \n",
       "Result                       Won  \n",
       "Overs                        DNB  \n",
       "Mdns                           -  \n",
       "Runs_given                     -  \n",
       "Wkts                           -  \n",
       "Econ                           -  \n",
       "Position_of_bowling            -  \n",
       "Inninigs                       3  \n",
       "Catch_Taken                    0  "
      ]
     },
     "execution_count": 26,
     "metadata": {},
     "output_type": "execute_result"
    }
   ],
   "source": [
    "main.head().T"
   ]
  },
  {
   "cell_type": "code",
   "execution_count": 27,
   "metadata": {},
   "outputs": [
    {
     "data": {
      "text/plain": [
       "Runs_scored            0\n",
       "Mins                   0\n",
       "BF                     0\n",
       "4s                     0\n",
       "6s                     0\n",
       "SR                     0\n",
       "position               0\n",
       "Dismissal              0\n",
       "Inns                   0\n",
       "Opposition             0\n",
       "Ground                 0\n",
       "Start_DateAscending    0\n",
       "Match Number           0\n",
       "Result                 0\n",
       "Overs                  0\n",
       "Mdns                   0\n",
       "Runs_given             0\n",
       "Wkts                   0\n",
       "Econ                   0\n",
       "Position_of_bowling    0\n",
       "Inninigs               0\n",
       "Catch_Taken            0\n",
       "dtype: int64"
      ]
     },
     "execution_count": 27,
     "metadata": {},
     "output_type": "execute_result"
    }
   ],
   "source": [
    "#checking for missisng values\n",
    "main.isnull().sum()"
   ]
  },
  {
   "cell_type": "code",
   "execution_count": 28,
   "metadata": {},
   "outputs": [
    {
     "data": {
      "text/plain": [
       "caught     83\n",
       "lbw        34\n",
       "not out    30\n",
       "bowled     26\n",
       "-          18\n",
       "run out     8\n",
       "stumped     1\n",
       "Name: Dismissal, dtype: int64"
      ]
     },
     "execution_count": 28,
     "metadata": {},
     "output_type": "execute_result"
    }
   ],
   "source": [
    "#Counting the type of dismissal\n",
    "main.Dismissal.value_counts()"
   ]
  },
  {
   "cell_type": "markdown",
   "metadata": {},
   "source": [
    "Here, '-' is denotes the number of matches Sachin did not bat"
   ]
  },
  {
   "cell_type": "markdown",
   "metadata": {},
   "source": [
    "### Sachin Dismissal type in every match"
   ]
  },
  {
   "cell_type": "code",
   "execution_count": 29,
   "metadata": {},
   "outputs": [
    {
     "data": {
      "image/png": "[encoded data removed]",
      "text/plain": [
       "<Figure size 432x288 with 1 Axes>"
      ]
     },
     "metadata": {},
     "output_type": "display_data"
    }
   ],
   "source": [
    "main.Dismissal.value_counts().plot.pie(autopct='%1.0f%%',title='Dismissal type')\n",
    "plt.show()"
   ]
  },
  {
   "cell_type": "markdown",
   "metadata": {},
   "source": [
    "'Caught' is the most common dismissal type "
   ]
  },
  {
   "cell_type": "markdown",
   "metadata": {},
   "source": [
    "### Match Result type "
   ]
  },
  {
   "cell_type": "code",
   "execution_count": 30,
   "metadata": {},
   "outputs": [
    {
     "data": {
      "text/plain": [
       "Won      72\n",
       "Drawn    72\n",
       "Loss     56\n",
       "Name: Result, dtype: int64"
      ]
     },
     "execution_count": 30,
     "metadata": {},
     "output_type": "execute_result"
    }
   ],
   "source": [
    "main.Result.value_counts()"
   ]
  },
  {
   "cell_type": "code",
   "execution_count": 31,
   "metadata": {},
   "outputs": [
    {
     "name": "stderr",
     "output_type": "stream",
     "text": [
      "C:\\Users\\rakes\\Anaconda3\\lib\\site-packages\\seaborn\\_decorators.py:36: FutureWarning: Pass the following variable as a keyword arg: x. From version 0.12, the only valid positional argument will be `data`, and passing other arguments without an explicit keyword will result in an error or misinterpretation.\n",
      "  warnings.warn(\n"
     ]
    },
    {
     "data": {
      "image/png": "[encoded data removed]",
      "text/plain": [
       "<Figure size 432x288 with 1 Axes>"
      ]
     },
     "metadata": {
      "needs_background": "light"
     },
     "output_type": "display_data"
    }
   ],
   "source": [
    "sns.countplot(main['Result'])\n",
    "plt.title('Result value', fontsize=20)\n",
    "plt.xlabel('Result', fontsize=18)\n",
    "plt.ylabel('count', fontsize=16)\n",
    "plt.show()"
   ]
  },
  {
   "cell_type": "markdown",
   "metadata": {},
   "source": [
    "From the graph, we can conclude that the number of 'won' and 'drawn' matches are same."
   ]
  },
  {
   "cell_type": "markdown",
   "metadata": {},
   "source": [
    "### Matches played aganist particular Opposition"
   ]
  },
  {
   "cell_type": "code",
   "execution_count": 32,
   "metadata": {},
   "outputs": [
    {
     "data": {
      "text/plain": [
       "v Australia       39\n",
       "v England         32\n",
       "v Sri Lanka       25\n",
       "v South Africa    25\n",
       "v New Zealand     24\n",
       "v West Indies     21\n",
       "v Pakistan        18\n",
       "v Zimbabwe         9\n",
       "v Bangladesh       7\n",
       "Name: Opposition, dtype: int64"
      ]
     },
     "execution_count": 32,
     "metadata": {},
     "output_type": "execute_result"
    }
   ],
   "source": [
    "main.Opposition.value_counts()"
   ]
  },
  {
   "cell_type": "code",
   "execution_count": 33,
   "metadata": {
    "scrolled": true
   },
   "outputs": [
    {
     "data": {
      "image/png": "[encoded data removed]",
      "text/plain": [
       "<Figure size 432x288 with 1 Axes>"
      ]
     },
     "metadata": {},
     "output_type": "display_data"
    }
   ],
   "source": [
    "main.Opposition.value_counts().plot.pie(autopct='%1.0f%%',title='Dismissal type')\n",
    "plt.show()"
   ]
  },
  {
   "cell_type": "markdown",
   "metadata": {},
   "source": [
    "Sachin played maximum number of matched aganist Australia."
   ]
  },
  {
   "cell_type": "markdown",
   "metadata": {},
   "source": [
    "### Team Performance aganist other teams"
   ]
  },
  {
   "cell_type": "code",
   "execution_count": 34,
   "metadata": {},
   "outputs": [
    {
     "data": {
      "text/plain": [
       "Opposition      Result\n",
       "v Australia     Loss      17\n",
       "                Won       16\n",
       "                Drawn      6\n",
       "v Bangladesh    Won        6\n",
       "                Drawn      1\n",
       "v England       Drawn     13\n",
       "                Loss      10\n",
       "                Won        9\n",
       "v New Zealand   Drawn     14\n",
       "                Won        6\n",
       "                Loss       4\n",
       "v Pakistan      Drawn      8\n",
       "                Loss       5\n",
       "                Won        5\n",
       "v South Africa  Loss      11\n",
       "                Drawn      8\n",
       "                Won        6\n",
       "v Sri Lanka     Drawn     11\n",
       "                Won       11\n",
       "                Loss       3\n",
       "v West Indies   Drawn      9\n",
       "                Won        8\n",
       "                Loss       4\n",
       "v Zimbabwe      Won        5\n",
       "                Drawn      2\n",
       "                Loss       2\n",
       "Name: Result, dtype: int64"
      ]
     },
     "execution_count": 34,
     "metadata": {},
     "output_type": "execute_result"
    }
   ],
   "source": [
    "main.groupby('Opposition')['Result'].value_counts()"
   ]
  },
  {
   "cell_type": "code",
   "execution_count": 35,
   "metadata": {
    "scrolled": true
   },
   "outputs": [
    {
     "name": "stderr",
     "output_type": "stream",
     "text": [
      "C:\\Users\\rakes\\Anaconda3\\lib\\site-packages\\seaborn\\_decorators.py:36: FutureWarning: Pass the following variable as a keyword arg: x. From version 0.12, the only valid positional argument will be `data`, and passing other arguments without an explicit keyword will result in an error or misinterpretation.\n",
      "  warnings.warn(\n"
     ]
    },
    {
     "data": {
      "image/png": "[encoded data removed]",
      "text/plain": [
       "<Figure size 1440x720 with 1 Axes>"
      ]
     },
     "metadata": {
      "needs_background": "light"
     },
     "output_type": "display_data"
    }
   ],
   "source": [
    "plt.figure(figsize=(20,10))\n",
    "sns.countplot(main['Opposition'],hue=main['Result'],palette='Set1')\n",
    "plt.title('MatchResults', fontsize=20)\n",
    "plt.xlabel('Opposition',fontsize=18)\n",
    "plt.ylabel('count', fontsize=16)\n",
    "plt.show()"
   ]
  },
  {
   "cell_type": "markdown",
   "metadata": {},
   "source": [
    "### Extracting month from datetime to plot the monthly average of Sachin "
   ]
  },
  {
   "cell_type": "code",
   "execution_count": 36,
   "metadata": {},
   "outputs": [
    {
     "name": "stdout",
     "output_type": "stream",
     "text": [
      "2021-03-07 22:38:36.063044\n",
      "Type :-  <class 'datetime.datetime'>\n"
     ]
    }
   ],
   "source": [
    "# import datetime class from datetime module\n",
    "from datetime import datetime\n",
    "\n",
    "# get current date\n",
    "datetime_object = datetime.now()\n",
    "print(datetime_object)\n",
    "print('Type :- ',type(datetime_object))"
   ]
  },
  {
   "cell_type": "code",
   "execution_count": 37,
   "metadata": {},
   "outputs": [],
   "source": [
    "list=[]\n",
    "for i in range(len(main)):\n",
    "    list.append(main['Start_DateAscending'].iloc[i].split('-')[1])"
   ]
  },
  {
   "cell_type": "code",
   "execution_count": 38,
   "metadata": {},
   "outputs": [],
   "source": [
    "main['month']=list"
   ]
  },
  {
   "cell_type": "code",
   "execution_count": 39,
   "metadata": {},
   "outputs": [],
   "source": [
    "main_1=main[main['Runs_scored']!='DNB']"
   ]
  },
  {
   "cell_type": "code",
   "execution_count": 40,
   "metadata": {},
   "outputs": [],
   "source": [
    "main_1=main_1[main_1['Runs_scored']!='TDNB']"
   ]
  },
  {
   "cell_type": "code",
   "execution_count": 41,
   "metadata": {},
   "outputs": [
    {
     "data": {
      "text/plain": [
       "(182, 23)"
      ]
     },
     "execution_count": 41,
     "metadata": {},
     "output_type": "execute_result"
    }
   ],
   "source": [
    "main_1.shape"
   ]
  },
  {
   "cell_type": "code",
   "execution_count": 42,
   "metadata": {},
   "outputs": [],
   "source": [
    "main_1['Runs_scored']=main_1['Runs_scored'].astype('int')"
   ]
  },
  {
   "cell_type": "code",
   "execution_count": 43,
   "metadata": {},
   "outputs": [
    {
     "data": {
      "image/png": "[encoded data removed]",
      "text/plain": [
       "<Figure size 432x288 with 1 Axes>"
      ]
     },
     "metadata": {
      "needs_background": "light"
     },
     "output_type": "display_data"
    }
   ],
   "source": [
    "main_1['Runs_scored'].groupby(main_1['month']).mean().sort_values().plot(kind='bar')\n",
    "plt.title('Avg score according to Months', fontsize=20)\n",
    "plt.xlabel('Month', fontsize=18)\n",
    "plt.ylabel('Avg', fontsize=16)\n",
    "plt.show()"
   ]
  },
  {
   "cell_type": "markdown",
   "metadata": {},
   "source": [
    "In the month of April, his batting average was very low while February was his highest."
   ]
  },
  {
   "cell_type": "markdown",
   "metadata": {},
   "source": [
    "## What I learnt\n",
    "\n",
    "~Merging of dataframes<br>\n",
    "~Grouping and plotting the data<br>\n",
    "~Extracting month from date-time format<br>\n",
    "~Seaborn usage for plotting<br>"
   ]
  },
  {
   "cell_type": "code",
   "execution_count": null,
   "metadata": {},
   "outputs": [],
   "source": []
  }
 ],
 "metadata": {
  "kernelspec": {
   "display_name": "Python 3",
   "language": "python",
   "name": "python3"
  },
  "language_info": {
   "codemirror_mode": {
    "name": "ipython",
    "version": 3
   },
   "file_extension": ".py",
   "mimetype": "text/x-python",
   "name": "python",
   "nbconvert_exporter": "python",
   "pygments_lexer": "ipython3",
   "version": "3.8.5"
  }
 },
 "nbformat": 4,
 "nbformat_minor": 2
}
