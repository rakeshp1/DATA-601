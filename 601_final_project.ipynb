{
  "nbformat": 4,
  "nbformat_minor": 0,
  "metadata": {
    "kernelspec": {
      "display_name": "Python 3",
      "language": "python",
      "name": "python3"
    },
    "language_info": {
      "codemirror_mode": {
        "name": "ipython",
        "version": 3
      },
      "file_extension": ".py",
      "mimetype": "text/x-python",
      "name": "python",
      "nbconvert_exporter": "python",
      "pygments_lexer": "ipython3",
      "version": "3.7.6"
    },
    "colab": {
      "name": "601 final project.ipynb",
      "provenance": [],
      "collapsed_sections": []
    }
  },
  "cells": [
    {
      "cell_type": "markdown",
      "metadata": {
        "id": "pjrz6dMXQXbx"
      },
      "source": [
        "# DATA 601 Final Project\n",
        "\n",
        "Name of the dataset: California SAT score reports<br>\n",
        "Data Source Location: https://data.world/data<br>\n",
        "Description of how data source was found: I have searched in data world with the key term SAT scores, then I found the above data set which have met the requirements of the rubric.<br>\n",
        "Cost incurred to download the dataset: Zero, the dataset is free to download.<br>\n",
        "Legality of the data set: The data set is from a free source and can be accessible by everyone and the data is legal to use.<br>\n",
        "Documented Exploratory Data Analysis: I have searched a lot on google but did not find any previously documented EDA on the datasets.<br>\n",
        "Data types in the dataset: Numeric: Int, Categorical; Datetime<br>\n",
        "Project proposal relevant to 601 objectives: The project that I have selected is relevant to the objective of data601<br>\n",
        "Description (Stories in the Data):  The project is regarding multiple datasets which contains California SAT scores from 1998 to 2016. I am aiming to combine the datasets from 2010 to 2016 and their number of rows are 2431, 2473, 2595, 2293, 2332 and 2335 rows. The common columns the datasets contained are County number, District number, School number, School name, grade 12th marks, mean score, average score in math and verbal.<br>\n",
        "Data size: The combined dataset occupied is 3-4MB. The data combined won’t have more than 12600 rows and the common columns are 7 in number.\n",
        "#### Hypothesis:\n",
        "1.\tI am assuming that the mean score has increased by atleast 10 percent for every years. \n",
        "2.\tI am also assuming that the number of takers are increasing by 15 percent. \n",
        "\n",
        "#### Questions to be answered:\n",
        "1.\tWhich county presented the largest change in the increase of takers?\n",
        "2.\tWhich county presented the largest change in mean scores and are they same?\n",
        "\n",
        "\n"
      ]
    },
    {
      "cell_type": "markdown",
      "metadata": {
        "id": "AFKqzYQ_C7ZD"
      },
      "source": [
        "#### Primary Observation: \n",
        "From the first look, the six datasets have various empty values in particular columns Verbal Mean, Math mean and Writing mean. Many of the records of the dataset, the schools have students who have passed Grade 12 but have not taken the SAT Test. "
      ]
    },
    {
      "cell_type": "markdown",
      "metadata": {
        "id": "etLn_yEK3U-R"
      },
      "source": [
        "### Importing Required libraries"
      ]
    },
    {
      "cell_type": "code",
      "metadata": {
        "id": "hSMkfAGCQXb1"
      },
      "source": [
        "import pandas as pd\n",
        "import numpy as np\n",
        "import seaborn as sns\n",
        "import matplotlib.pyplot as plt\n",
        "from matplotlib import colors\n",
        "from matplotlib.ticker import PercentFormatter"
      ],
      "execution_count": null,
      "outputs": []
    },
    {
      "cell_type": "code",
      "metadata": {
        "id": "iE_1aFg1QXb_",
        "colab": {
          "base_uri": "https://localhost:8080/"
        },
        "outputId": "f3bce6a3-e0a4-430a-e40c-5343e790b522"
      },
      "source": [
        "pip install cufflinks plotly"
      ],
      "execution_count": null,
      "outputs": [
        {
          "output_type": "stream",
          "text": [
            "Requirement already satisfied: cufflinks in /usr/local/lib/python3.7/dist-packages (0.17.3)\n",
            "Requirement already satisfied: plotly in /usr/local/lib/python3.7/dist-packages (4.4.1)\n",
            "Requirement already satisfied: ipywidgets>=7.0.0 in /usr/local/lib/python3.7/dist-packages (from cufflinks) (7.6.3)\n",
            "Requirement already satisfied: six>=1.9.0 in /usr/local/lib/python3.7/dist-packages (from cufflinks) (1.15.0)\n",
            "Requirement already satisfied: colorlover>=0.2.1 in /usr/local/lib/python3.7/dist-packages (from cufflinks) (0.3.0)\n",
            "Requirement already satisfied: setuptools>=34.4.1 in /usr/local/lib/python3.7/dist-packages (from cufflinks) (56.1.0)\n",
            "Requirement already satisfied: ipython>=5.3.0 in /usr/local/lib/python3.7/dist-packages (from cufflinks) (5.5.0)\n",
            "Requirement already satisfied: numpy>=1.9.2 in /usr/local/lib/python3.7/dist-packages (from cufflinks) (1.19.5)\n",
            "Requirement already satisfied: pandas>=0.19.2 in /usr/local/lib/python3.7/dist-packages (from cufflinks) (1.1.5)\n",
            "Requirement already satisfied: retrying>=1.3.3 in /usr/local/lib/python3.7/dist-packages (from plotly) (1.3.3)\n",
            "Requirement already satisfied: widgetsnbextension~=3.5.0 in /usr/local/lib/python3.7/dist-packages (from ipywidgets>=7.0.0->cufflinks) (3.5.1)\n",
            "Requirement already satisfied: ipykernel>=4.5.1 in /usr/local/lib/python3.7/dist-packages (from ipywidgets>=7.0.0->cufflinks) (4.10.1)\n",
            "Requirement already satisfied: nbformat>=4.2.0 in /usr/local/lib/python3.7/dist-packages (from ipywidgets>=7.0.0->cufflinks) (5.1.3)\n",
            "Requirement already satisfied: traitlets>=4.3.1 in /usr/local/lib/python3.7/dist-packages (from ipywidgets>=7.0.0->cufflinks) (5.0.5)\n",
            "Requirement already satisfied: jupyterlab-widgets>=1.0.0; python_version >= \"3.6\" in /usr/local/lib/python3.7/dist-packages (from ipywidgets>=7.0.0->cufflinks) (1.0.0)\n",
            "Requirement already satisfied: decorator in /usr/local/lib/python3.7/dist-packages (from ipython>=5.3.0->cufflinks) (4.4.2)\n",
            "Requirement already satisfied: prompt-toolkit<2.0.0,>=1.0.4 in /usr/local/lib/python3.7/dist-packages (from ipython>=5.3.0->cufflinks) (1.0.18)\n",
            "Requirement already satisfied: pexpect; sys_platform != \"win32\" in /usr/local/lib/python3.7/dist-packages (from ipython>=5.3.0->cufflinks) (4.8.0)\n",
            "Requirement already satisfied: pygments in /usr/local/lib/python3.7/dist-packages (from ipython>=5.3.0->cufflinks) (2.6.1)\n",
            "Requirement already satisfied: simplegeneric>0.8 in /usr/local/lib/python3.7/dist-packages (from ipython>=5.3.0->cufflinks) (0.8.1)\n",
            "Requirement already satisfied: pickleshare in /usr/local/lib/python3.7/dist-packages (from ipython>=5.3.0->cufflinks) (0.7.5)\n",
            "Requirement already satisfied: pytz>=2017.2 in /usr/local/lib/python3.7/dist-packages (from pandas>=0.19.2->cufflinks) (2018.9)\n",
            "Requirement already satisfied: python-dateutil>=2.7.3 in /usr/local/lib/python3.7/dist-packages (from pandas>=0.19.2->cufflinks) (2.8.1)\n",
            "Requirement already satisfied: notebook>=4.4.1 in /usr/local/lib/python3.7/dist-packages (from widgetsnbextension~=3.5.0->ipywidgets>=7.0.0->cufflinks) (5.3.1)\n",
            "Requirement already satisfied: tornado>=4.0 in /usr/local/lib/python3.7/dist-packages (from ipykernel>=4.5.1->ipywidgets>=7.0.0->cufflinks) (5.1.1)\n",
            "Requirement already satisfied: jupyter-client in /usr/local/lib/python3.7/dist-packages (from ipykernel>=4.5.1->ipywidgets>=7.0.0->cufflinks) (5.3.5)\n",
            "Requirement already satisfied: ipython-genutils in /usr/local/lib/python3.7/dist-packages (from nbformat>=4.2.0->ipywidgets>=7.0.0->cufflinks) (0.2.0)\n",
            "Requirement already satisfied: jupyter-core in /usr/local/lib/python3.7/dist-packages (from nbformat>=4.2.0->ipywidgets>=7.0.0->cufflinks) (4.7.1)\n",
            "Requirement already satisfied: jsonschema!=2.5.0,>=2.4 in /usr/local/lib/python3.7/dist-packages (from nbformat>=4.2.0->ipywidgets>=7.0.0->cufflinks) (2.6.0)\n",
            "Requirement already satisfied: wcwidth in /usr/local/lib/python3.7/dist-packages (from prompt-toolkit<2.0.0,>=1.0.4->ipython>=5.3.0->cufflinks) (0.2.5)\n",
            "Requirement already satisfied: ptyprocess>=0.5 in /usr/local/lib/python3.7/dist-packages (from pexpect; sys_platform != \"win32\"->ipython>=5.3.0->cufflinks) (0.7.0)\n",
            "Requirement already satisfied: nbconvert in /usr/local/lib/python3.7/dist-packages (from notebook>=4.4.1->widgetsnbextension~=3.5.0->ipywidgets>=7.0.0->cufflinks) (5.6.1)\n",
            "Requirement already satisfied: jinja2 in /usr/local/lib/python3.7/dist-packages (from notebook>=4.4.1->widgetsnbextension~=3.5.0->ipywidgets>=7.0.0->cufflinks) (2.11.3)\n",
            "Requirement already satisfied: Send2Trash in /usr/local/lib/python3.7/dist-packages (from notebook>=4.4.1->widgetsnbextension~=3.5.0->ipywidgets>=7.0.0->cufflinks) (1.5.0)\n",
            "Requirement already satisfied: terminado>=0.8.1 in /usr/local/lib/python3.7/dist-packages (from notebook>=4.4.1->widgetsnbextension~=3.5.0->ipywidgets>=7.0.0->cufflinks) (0.9.4)\n",
            "Requirement already satisfied: pyzmq>=13 in /usr/local/lib/python3.7/dist-packages (from jupyter-client->ipykernel>=4.5.1->ipywidgets>=7.0.0->cufflinks) (22.0.3)\n",
            "Requirement already satisfied: defusedxml in /usr/local/lib/python3.7/dist-packages (from nbconvert->notebook>=4.4.1->widgetsnbextension~=3.5.0->ipywidgets>=7.0.0->cufflinks) (0.7.1)\n",
            "Requirement already satisfied: mistune<2,>=0.8.1 in /usr/local/lib/python3.7/dist-packages (from nbconvert->notebook>=4.4.1->widgetsnbextension~=3.5.0->ipywidgets>=7.0.0->cufflinks) (0.8.4)\n",
            "Requirement already satisfied: testpath in /usr/local/lib/python3.7/dist-packages (from nbconvert->notebook>=4.4.1->widgetsnbextension~=3.5.0->ipywidgets>=7.0.0->cufflinks) (0.4.4)\n",
            "Requirement already satisfied: bleach in /usr/local/lib/python3.7/dist-packages (from nbconvert->notebook>=4.4.1->widgetsnbextension~=3.5.0->ipywidgets>=7.0.0->cufflinks) (3.3.0)\n",
            "Requirement already satisfied: pandocfilters>=1.4.1 in /usr/local/lib/python3.7/dist-packages (from nbconvert->notebook>=4.4.1->widgetsnbextension~=3.5.0->ipywidgets>=7.0.0->cufflinks) (1.4.3)\n",
            "Requirement already satisfied: entrypoints>=0.2.2 in /usr/local/lib/python3.7/dist-packages (from nbconvert->notebook>=4.4.1->widgetsnbextension~=3.5.0->ipywidgets>=7.0.0->cufflinks) (0.3)\n",
            "Requirement already satisfied: MarkupSafe>=0.23 in /usr/local/lib/python3.7/dist-packages (from jinja2->notebook>=4.4.1->widgetsnbextension~=3.5.0->ipywidgets>=7.0.0->cufflinks) (1.1.1)\n",
            "Requirement already satisfied: webencodings in /usr/local/lib/python3.7/dist-packages (from bleach->nbconvert->notebook>=4.4.1->widgetsnbextension~=3.5.0->ipywidgets>=7.0.0->cufflinks) (0.5.1)\n",
            "Requirement already satisfied: packaging in /usr/local/lib/python3.7/dist-packages (from bleach->nbconvert->notebook>=4.4.1->widgetsnbextension~=3.5.0->ipywidgets>=7.0.0->cufflinks) (20.9)\n",
            "Requirement already satisfied: pyparsing>=2.0.2 in /usr/local/lib/python3.7/dist-packages (from packaging->bleach->nbconvert->notebook>=4.4.1->widgetsnbextension~=3.5.0->ipywidgets>=7.0.0->cufflinks) (2.4.7)\n"
          ],
          "name": "stdout"
        }
      ]
    },
    {
      "cell_type": "code",
      "metadata": {
        "id": "qm_G-EUMQXcN"
      },
      "source": [
        "dataset1=pd.read_excel(\"https://query.data.world/s/i4clrkop6iltjvlglujefknlm6gtsi\",skiprows=3)\n",
        "dataset2=pd.read_excel(\"https://query.data.world/s/g7tradpx6r32zg3yoiztjilacpco7w\",skiprows=3)\n",
        "dataset3=pd.read_excel('https://query.data.world/s/bgk2zmqwuxsfpa7xczawkbpth42g62',skiprows=3)\n",
        "dataset4=pd.read_excel('https://query.data.world/s/i5wpkcdei474jud3ychktwr7oi3obj')\n",
        "dataset5=pd.read_excel('https://query.data.world/s/smza7nh725mb4orq57kezlu7wqqjlm')\n",
        "dataset6=pd.read_excel('http://www3.cde.ca.gov/researchfiles/satactap/sat16.xls',sheet_name='SAT_2016')"
      ],
      "execution_count": null,
      "outputs": []
    },
    {
      "cell_type": "code",
      "metadata": {
        "id": "uJ0Dvw34QXcT",
        "colab": {
          "base_uri": "https://localhost:8080/",
          "height": 513
        },
        "outputId": "db203861-001e-4c4c-e5e1-97daa4264a12"
      },
      "source": [
        "dataset1.head()"
      ],
      "execution_count": null,
      "outputs": [
        {
          "output_type": "execute_result",
          "data": {
            "text/html": [
              "<div>\n",
              "<style scoped>\n",
              "    .dataframe tbody tr th:only-of-type {\n",
              "        vertical-align: middle;\n",
              "    }\n",
              "\n",
              "    .dataframe tbody tr th {\n",
              "        vertical-align: top;\n",
              "    }\n",
              "\n",
              "    .dataframe thead th {\n",
              "        text-align: right;\n",
              "    }\n",
              "</style>\n",
              "<table border=\"1\" class=\"dataframe\">\n",
              "  <thead>\n",
              "    <tr style=\"text-align: right;\">\n",
              "      <th></th>\n",
              "      <th>County\\nNumber</th>\n",
              "      <th>District\\nNumber</th>\n",
              "      <th>School\\nNumber</th>\n",
              "      <th>County Name</th>\n",
              "      <th>District Name</th>\n",
              "      <th>School Name</th>\n",
              "      <th>Grade\\n12</th>\n",
              "      <th>Number\\nTested</th>\n",
              "      <th>Percent\\nTested</th>\n",
              "      <th>V_Mean</th>\n",
              "      <th>M_Mean</th>\n",
              "      <th>W_Mean</th>\n",
              "      <th>Tot_Mean</th>\n",
              "      <th>GE1500Ct</th>\n",
              "      <th>Rate1500</th>\n",
              "    </tr>\n",
              "  </thead>\n",
              "  <tbody>\n",
              "    <tr>\n",
              "      <th>0</th>\n",
              "      <td>1</td>\n",
              "      <td>10017</td>\n",
              "      <td>109835</td>\n",
              "      <td>Alameda</td>\n",
              "      <td>Alameda County Office of Educa</td>\n",
              "      <td>FAME Public Charter</td>\n",
              "      <td>64</td>\n",
              "      <td>18.0</td>\n",
              "      <td>28.13</td>\n",
              "      <td>530.0</td>\n",
              "      <td>529.0</td>\n",
              "      <td>526.0</td>\n",
              "      <td>1585.0</td>\n",
              "      <td>12.0</td>\n",
              "      <td>66.67</td>\n",
              "    </tr>\n",
              "    <tr>\n",
              "      <th>1</th>\n",
              "      <td>1</td>\n",
              "      <td>10017</td>\n",
              "      <td>112607</td>\n",
              "      <td>Alameda</td>\n",
              "      <td>Alameda County Office of Educa</td>\n",
              "      <td>Envision Academy for Arts &amp; Technology</td>\n",
              "      <td>38</td>\n",
              "      <td>35.0</td>\n",
              "      <td>92.11</td>\n",
              "      <td>381.0</td>\n",
              "      <td>372.0</td>\n",
              "      <td>381.0</td>\n",
              "      <td>1134.0</td>\n",
              "      <td>2.0</td>\n",
              "      <td>5.71</td>\n",
              "    </tr>\n",
              "    <tr>\n",
              "      <th>2</th>\n",
              "      <td>1</td>\n",
              "      <td>10017</td>\n",
              "      <td>118489</td>\n",
              "      <td>Alameda</td>\n",
              "      <td>Alameda County Office of Educa</td>\n",
              "      <td>Aspire California College Preparatory Ac</td>\n",
              "      <td>20</td>\n",
              "      <td>NaN</td>\n",
              "      <td>.</td>\n",
              "      <td>NaN</td>\n",
              "      <td>NaN</td>\n",
              "      <td>NaN</td>\n",
              "      <td>NaN</td>\n",
              "      <td>NaN</td>\n",
              "      <td>NaN</td>\n",
              "    </tr>\n",
              "    <tr>\n",
              "      <th>3</th>\n",
              "      <td>1</td>\n",
              "      <td>10017</td>\n",
              "      <td>130401</td>\n",
              "      <td>Alameda</td>\n",
              "      <td>Alameda County Office of Educa</td>\n",
              "      <td>Alameda County Juvenile Hall/Court</td>\n",
              "      <td>131</td>\n",
              "      <td>NaN</td>\n",
              "      <td>.</td>\n",
              "      <td>NaN</td>\n",
              "      <td>NaN</td>\n",
              "      <td>NaN</td>\n",
              "      <td>NaN</td>\n",
              "      <td>NaN</td>\n",
              "      <td>NaN</td>\n",
              "    </tr>\n",
              "    <tr>\n",
              "      <th>4</th>\n",
              "      <td>1</td>\n",
              "      <td>10017</td>\n",
              "      <td>130419</td>\n",
              "      <td>Alameda</td>\n",
              "      <td>Alameda County Office of Educa</td>\n",
              "      <td>Alameda County Community</td>\n",
              "      <td>25</td>\n",
              "      <td>NaN</td>\n",
              "      <td>.</td>\n",
              "      <td>NaN</td>\n",
              "      <td>NaN</td>\n",
              "      <td>NaN</td>\n",
              "      <td>NaN</td>\n",
              "      <td>NaN</td>\n",
              "      <td>NaN</td>\n",
              "    </tr>\n",
              "  </tbody>\n",
              "</table>\n",
              "</div>"
            ],
            "text/plain": [
              "   County\\nNumber  District\\nNumber  ...  GE1500Ct Rate1500\n",
              "0               1             10017  ...      12.0    66.67\n",
              "1               1             10017  ...       2.0     5.71\n",
              "2               1             10017  ...       NaN      NaN\n",
              "3               1             10017  ...       NaN      NaN\n",
              "4               1             10017  ...       NaN      NaN\n",
              "\n",
              "[5 rows x 15 columns]"
            ]
          },
          "metadata": {
            "tags": []
          },
          "execution_count": 5
        }
      ]
    },
    {
      "cell_type": "code",
      "metadata": {
        "id": "xUhKKDE_QXcc"
      },
      "source": [
        "dataset1.columns=['County_Number','District_Number','School_Number','County_Name','District_Name','School_Name','Grade_12','Number_Tested','Percent_Tested','Verbal_Mean','Math_Mean','Writing_Mean','Total_Mean','Num_Greater_1500','Percent_Greater_1500']"
      ],
      "execution_count": null,
      "outputs": []
    },
    {
      "cell_type": "code",
      "metadata": {
        "id": "no429aNtQXcu",
        "colab": {
          "base_uri": "https://localhost:8080/"
        },
        "outputId": "e90de263-7389-4a7a-f575-0f01129a714e"
      },
      "source": [
        "dataset1.dtypes"
      ],
      "execution_count": null,
      "outputs": [
        {
          "output_type": "execute_result",
          "data": {
            "text/plain": [
              "County_Number             int64\n",
              "District_Number           int64\n",
              "School_Number             int64\n",
              "County_Name              object\n",
              "District_Name            object\n",
              "School_Name              object\n",
              "Grade_12                  int64\n",
              "Number_Tested           float64\n",
              "Percent_Tested           object\n",
              "Verbal_Mean             float64\n",
              "Math_Mean               float64\n",
              "Writing_Mean            float64\n",
              "Total_Mean              float64\n",
              "Num_Greater_1500        float64\n",
              "Percent_Greater_1500    float64\n",
              "dtype: object"
            ]
          },
          "metadata": {
            "tags": []
          },
          "execution_count": 7
        }
      ]
    },
    {
      "cell_type": "code",
      "metadata": {
        "id": "IzctFNmsRfOd"
      },
      "source": [
        "dataset1['County_Number']=dataset1['County_Number'].astype(str)\n",
        "dataset1['District_Number']=dataset1['District_Number'].astype(str)\n",
        "dataset1['School_Number']=dataset1['School_Number'].astype(str)"
      ],
      "execution_count": null,
      "outputs": []
    },
    {
      "cell_type": "markdown",
      "metadata": {
        "id": "1-wG9VrHQXca"
      },
      "source": [
        "The columns County Number, District Number, School Number are combined to one column to have a unique ID called CDS.<br> Additionally, the columns County Number, District Number, School Number are dropped as they have no use now.<br>The year column is added to separate every dataset"
      ]
    },
    {
      "cell_type": "code",
      "metadata": {
        "id": "i3VIxDf7RjJ4"
      },
      "source": [
        "dataset1 = dataset1.assign(CDS=dataset1.County_Number+dataset1.District_Number+dataset1.School_Number)"
      ],
      "execution_count": null,
      "outputs": []
    },
    {
      "cell_type": "code",
      "metadata": {
        "id": "NtOjELAmRkQp",
        "colab": {
          "base_uri": "https://localhost:8080/",
          "height": 340
        },
        "outputId": "01e5b1ba-d43d-47a9-97c8-a6d953c4b727"
      },
      "source": [
        "dataset1=dataset1.drop([\"County_Number\",\"District_Number\",\"School_Number\"],axis=1)\n",
        "dataset1=dataset1[['CDS','County_Name','District_Name','School_Name','Grade_12','Number_Tested','Percent_Tested','Verbal_Mean','Math_Mean','Writing_Mean','Total_Mean','Num_Greater_1500','Percent_Greater_1500']]\n",
        "dataset1=dataset1.drop([\"Percent_Tested\",\"Percent_Greater_1500\"],axis=1)\n",
        "dataset1['year']=2010\n",
        "dataset1.head()"
      ],
      "execution_count": null,
      "outputs": [
        {
          "output_type": "execute_result",
          "data": {
            "text/html": [
              "<div>\n",
              "<style scoped>\n",
              "    .dataframe tbody tr th:only-of-type {\n",
              "        vertical-align: middle;\n",
              "    }\n",
              "\n",
              "    .dataframe tbody tr th {\n",
              "        vertical-align: top;\n",
              "    }\n",
              "\n",
              "    .dataframe thead th {\n",
              "        text-align: right;\n",
              "    }\n",
              "</style>\n",
              "<table border=\"1\" class=\"dataframe\">\n",
              "  <thead>\n",
              "    <tr style=\"text-align: right;\">\n",
              "      <th></th>\n",
              "      <th>CDS</th>\n",
              "      <th>County_Name</th>\n",
              "      <th>District_Name</th>\n",
              "      <th>School_Name</th>\n",
              "      <th>Grade_12</th>\n",
              "      <th>Number_Tested</th>\n",
              "      <th>Verbal_Mean</th>\n",
              "      <th>Math_Mean</th>\n",
              "      <th>Writing_Mean</th>\n",
              "      <th>Total_Mean</th>\n",
              "      <th>Num_Greater_1500</th>\n",
              "      <th>year</th>\n",
              "    </tr>\n",
              "  </thead>\n",
              "  <tbody>\n",
              "    <tr>\n",
              "      <th>0</th>\n",
              "      <td>110017109835</td>\n",
              "      <td>Alameda</td>\n",
              "      <td>Alameda County Office of Educa</td>\n",
              "      <td>FAME Public Charter</td>\n",
              "      <td>64</td>\n",
              "      <td>18.0</td>\n",
              "      <td>530.0</td>\n",
              "      <td>529.0</td>\n",
              "      <td>526.0</td>\n",
              "      <td>1585.0</td>\n",
              "      <td>12.0</td>\n",
              "      <td>2010</td>\n",
              "    </tr>\n",
              "    <tr>\n",
              "      <th>1</th>\n",
              "      <td>110017112607</td>\n",
              "      <td>Alameda</td>\n",
              "      <td>Alameda County Office of Educa</td>\n",
              "      <td>Envision Academy for Arts &amp; Technology</td>\n",
              "      <td>38</td>\n",
              "      <td>35.0</td>\n",
              "      <td>381.0</td>\n",
              "      <td>372.0</td>\n",
              "      <td>381.0</td>\n",
              "      <td>1134.0</td>\n",
              "      <td>2.0</td>\n",
              "      <td>2010</td>\n",
              "    </tr>\n",
              "    <tr>\n",
              "      <th>2</th>\n",
              "      <td>110017118489</td>\n",
              "      <td>Alameda</td>\n",
              "      <td>Alameda County Office of Educa</td>\n",
              "      <td>Aspire California College Preparatory Ac</td>\n",
              "      <td>20</td>\n",
              "      <td>NaN</td>\n",
              "      <td>NaN</td>\n",
              "      <td>NaN</td>\n",
              "      <td>NaN</td>\n",
              "      <td>NaN</td>\n",
              "      <td>NaN</td>\n",
              "      <td>2010</td>\n",
              "    </tr>\n",
              "    <tr>\n",
              "      <th>3</th>\n",
              "      <td>110017130401</td>\n",
              "      <td>Alameda</td>\n",
              "      <td>Alameda County Office of Educa</td>\n",
              "      <td>Alameda County Juvenile Hall/Court</td>\n",
              "      <td>131</td>\n",
              "      <td>NaN</td>\n",
              "      <td>NaN</td>\n",
              "      <td>NaN</td>\n",
              "      <td>NaN</td>\n",
              "      <td>NaN</td>\n",
              "      <td>NaN</td>\n",
              "      <td>2010</td>\n",
              "    </tr>\n",
              "    <tr>\n",
              "      <th>4</th>\n",
              "      <td>110017130419</td>\n",
              "      <td>Alameda</td>\n",
              "      <td>Alameda County Office of Educa</td>\n",
              "      <td>Alameda County Community</td>\n",
              "      <td>25</td>\n",
              "      <td>NaN</td>\n",
              "      <td>NaN</td>\n",
              "      <td>NaN</td>\n",
              "      <td>NaN</td>\n",
              "      <td>NaN</td>\n",
              "      <td>NaN</td>\n",
              "      <td>2010</td>\n",
              "    </tr>\n",
              "  </tbody>\n",
              "</table>\n",
              "</div>"
            ],
            "text/plain": [
              "            CDS County_Name  ... Num_Greater_1500  year\n",
              "0  110017109835     Alameda  ...             12.0  2010\n",
              "1  110017112607     Alameda  ...              2.0  2010\n",
              "2  110017118489     Alameda  ...              NaN  2010\n",
              "3  110017130401     Alameda  ...              NaN  2010\n",
              "4  110017130419     Alameda  ...              NaN  2010\n",
              "\n",
              "[5 rows x 12 columns]"
            ]
          },
          "metadata": {
            "tags": []
          },
          "execution_count": 10
        }
      ]
    },
    {
      "cell_type": "code",
      "metadata": {
        "id": "L42II9cBQXc5",
        "colab": {
          "base_uri": "https://localhost:8080/"
        },
        "outputId": "738e7895-c45a-4f0c-f95d-22839a082d43"
      },
      "source": [
        "dataset1.isna().sum()"
      ],
      "execution_count": null,
      "outputs": [
        {
          "output_type": "execute_result",
          "data": {
            "text/plain": [
              "CDS                    0\n",
              "County_Name            0\n",
              "District_Name          0\n",
              "School_Name            0\n",
              "Grade_12               0\n",
              "Number_Tested        962\n",
              "Verbal_Mean         1282\n",
              "Math_Mean           1282\n",
              "Writing_Mean        1282\n",
              "Total_Mean          1282\n",
              "Num_Greater_1500    1282\n",
              "year                   0\n",
              "dtype: int64"
            ]
          },
          "metadata": {
            "tags": []
          },
          "execution_count": 11
        }
      ]
    },
    {
      "cell_type": "code",
      "metadata": {
        "id": "upIaGNe2TYcW"
      },
      "source": [
        "dataset1=dataset1.fillna(0)"
      ],
      "execution_count": null,
      "outputs": []
    },
    {
      "cell_type": "code",
      "metadata": {
        "id": "itvowyh7S3By"
      },
      "source": [
        "dataset1['Verbal_Mean']=dataset1['Verbal_Mean'].astype('int64')\n",
        "dataset1['Math_Mean']=dataset1['Math_Mean'].astype('int64')\n",
        "dataset1['Writing_Mean']=dataset1['Writing_Mean'].astype('int64')\n",
        "dataset1['Total_Mean']=dataset1['Total_Mean'].astype('int64')"
      ],
      "execution_count": null,
      "outputs": []
    },
    {
      "cell_type": "code",
      "metadata": {
        "id": "T_T4W2meTl7U",
        "colab": {
          "base_uri": "https://localhost:8080/",
          "height": 340
        },
        "outputId": "1a9b9935-2ac1-4a8e-ca19-807d5cfdba11"
      },
      "source": [
        "dataset1.head()"
      ],
      "execution_count": null,
      "outputs": [
        {
          "output_type": "execute_result",
          "data": {
            "text/html": [
              "<div>\n",
              "<style scoped>\n",
              "    .dataframe tbody tr th:only-of-type {\n",
              "        vertical-align: middle;\n",
              "    }\n",
              "\n",
              "    .dataframe tbody tr th {\n",
              "        vertical-align: top;\n",
              "    }\n",
              "\n",
              "    .dataframe thead th {\n",
              "        text-align: right;\n",
              "    }\n",
              "</style>\n",
              "<table border=\"1\" class=\"dataframe\">\n",
              "  <thead>\n",
              "    <tr style=\"text-align: right;\">\n",
              "      <th></th>\n",
              "      <th>CDS</th>\n",
              "      <th>County_Name</th>\n",
              "      <th>District_Name</th>\n",
              "      <th>School_Name</th>\n",
              "      <th>Grade_12</th>\n",
              "      <th>Number_Tested</th>\n",
              "      <th>Verbal_Mean</th>\n",
              "      <th>Math_Mean</th>\n",
              "      <th>Writing_Mean</th>\n",
              "      <th>Total_Mean</th>\n",
              "      <th>Num_Greater_1500</th>\n",
              "      <th>year</th>\n",
              "    </tr>\n",
              "  </thead>\n",
              "  <tbody>\n",
              "    <tr>\n",
              "      <th>0</th>\n",
              "      <td>110017109835</td>\n",
              "      <td>Alameda</td>\n",
              "      <td>Alameda County Office of Educa</td>\n",
              "      <td>FAME Public Charter</td>\n",
              "      <td>64</td>\n",
              "      <td>18.0</td>\n",
              "      <td>530</td>\n",
              "      <td>529</td>\n",
              "      <td>526</td>\n",
              "      <td>1585</td>\n",
              "      <td>12.0</td>\n",
              "      <td>2010</td>\n",
              "    </tr>\n",
              "    <tr>\n",
              "      <th>1</th>\n",
              "      <td>110017112607</td>\n",
              "      <td>Alameda</td>\n",
              "      <td>Alameda County Office of Educa</td>\n",
              "      <td>Envision Academy for Arts &amp; Technology</td>\n",
              "      <td>38</td>\n",
              "      <td>35.0</td>\n",
              "      <td>381</td>\n",
              "      <td>372</td>\n",
              "      <td>381</td>\n",
              "      <td>1134</td>\n",
              "      <td>2.0</td>\n",
              "      <td>2010</td>\n",
              "    </tr>\n",
              "    <tr>\n",
              "      <th>2</th>\n",
              "      <td>110017118489</td>\n",
              "      <td>Alameda</td>\n",
              "      <td>Alameda County Office of Educa</td>\n",
              "      <td>Aspire California College Preparatory Ac</td>\n",
              "      <td>20</td>\n",
              "      <td>0.0</td>\n",
              "      <td>0</td>\n",
              "      <td>0</td>\n",
              "      <td>0</td>\n",
              "      <td>0</td>\n",
              "      <td>0.0</td>\n",
              "      <td>2010</td>\n",
              "    </tr>\n",
              "    <tr>\n",
              "      <th>3</th>\n",
              "      <td>110017130401</td>\n",
              "      <td>Alameda</td>\n",
              "      <td>Alameda County Office of Educa</td>\n",
              "      <td>Alameda County Juvenile Hall/Court</td>\n",
              "      <td>131</td>\n",
              "      <td>0.0</td>\n",
              "      <td>0</td>\n",
              "      <td>0</td>\n",
              "      <td>0</td>\n",
              "      <td>0</td>\n",
              "      <td>0.0</td>\n",
              "      <td>2010</td>\n",
              "    </tr>\n",
              "    <tr>\n",
              "      <th>4</th>\n",
              "      <td>110017130419</td>\n",
              "      <td>Alameda</td>\n",
              "      <td>Alameda County Office of Educa</td>\n",
              "      <td>Alameda County Community</td>\n",
              "      <td>25</td>\n",
              "      <td>0.0</td>\n",
              "      <td>0</td>\n",
              "      <td>0</td>\n",
              "      <td>0</td>\n",
              "      <td>0</td>\n",
              "      <td>0.0</td>\n",
              "      <td>2010</td>\n",
              "    </tr>\n",
              "  </tbody>\n",
              "</table>\n",
              "</div>"
            ],
            "text/plain": [
              "            CDS County_Name  ... Num_Greater_1500  year\n",
              "0  110017109835     Alameda  ...             12.0  2010\n",
              "1  110017112607     Alameda  ...              2.0  2010\n",
              "2  110017118489     Alameda  ...              0.0  2010\n",
              "3  110017130401     Alameda  ...              0.0  2010\n",
              "4  110017130419     Alameda  ...              0.0  2010\n",
              "\n",
              "[5 rows x 12 columns]"
            ]
          },
          "metadata": {
            "tags": []
          },
          "execution_count": 14
        }
      ]
    },
    {
      "cell_type": "code",
      "metadata": {
        "id": "KvmasKV6Uvok",
        "colab": {
          "base_uri": "https://localhost:8080/",
          "height": 513
        },
        "outputId": "bd7bd040-e667-4db7-9f15-289001d642fa"
      },
      "source": [
        "dataset2.head()"
      ],
      "execution_count": null,
      "outputs": [
        {
          "output_type": "execute_result",
          "data": {
            "text/html": [
              "<div>\n",
              "<style scoped>\n",
              "    .dataframe tbody tr th:only-of-type {\n",
              "        vertical-align: middle;\n",
              "    }\n",
              "\n",
              "    .dataframe tbody tr th {\n",
              "        vertical-align: top;\n",
              "    }\n",
              "\n",
              "    .dataframe thead th {\n",
              "        text-align: right;\n",
              "    }\n",
              "</style>\n",
              "<table border=\"1\" class=\"dataframe\">\n",
              "  <thead>\n",
              "    <tr style=\"text-align: right;\">\n",
              "      <th></th>\n",
              "      <th>County\\nNumber</th>\n",
              "      <th>District\\nNumber</th>\n",
              "      <th>School\\nNumber</th>\n",
              "      <th>County Name</th>\n",
              "      <th>District Name</th>\n",
              "      <th>School Name</th>\n",
              "      <th>Grade\\n12</th>\n",
              "      <th>Number\\nTested</th>\n",
              "      <th>Percent\\nTested</th>\n",
              "      <th>V_Mean</th>\n",
              "      <th>M_Mean</th>\n",
              "      <th>W_Mean</th>\n",
              "      <th>Tot_Mean</th>\n",
              "      <th>GE1500Ct</th>\n",
              "      <th>Rate1500</th>\n",
              "    </tr>\n",
              "  </thead>\n",
              "  <tbody>\n",
              "    <tr>\n",
              "      <th>0</th>\n",
              "      <td>1</td>\n",
              "      <td>10017</td>\n",
              "      <td>109835</td>\n",
              "      <td>Alameda</td>\n",
              "      <td>Alameda County Office of Education</td>\n",
              "      <td>FAME Public Charter</td>\n",
              "      <td>67</td>\n",
              "      <td>26.0</td>\n",
              "      <td>38.81</td>\n",
              "      <td>498.0</td>\n",
              "      <td>505.0</td>\n",
              "      <td>519.0</td>\n",
              "      <td>1523.0</td>\n",
              "      <td>12.0</td>\n",
              "      <td>46.15</td>\n",
              "    </tr>\n",
              "    <tr>\n",
              "      <th>1</th>\n",
              "      <td>1</td>\n",
              "      <td>10017</td>\n",
              "      <td>112607</td>\n",
              "      <td>Alameda</td>\n",
              "      <td>Alameda County Office of Education</td>\n",
              "      <td>Envision Academy for Arts &amp; Technology</td>\n",
              "      <td>59</td>\n",
              "      <td>47.0</td>\n",
              "      <td>79.66</td>\n",
              "      <td>368.0</td>\n",
              "      <td>381.0</td>\n",
              "      <td>383.0</td>\n",
              "      <td>1132.0</td>\n",
              "      <td>3.0</td>\n",
              "      <td>6.38</td>\n",
              "    </tr>\n",
              "    <tr>\n",
              "      <th>2</th>\n",
              "      <td>1</td>\n",
              "      <td>10017</td>\n",
              "      <td>118489</td>\n",
              "      <td>Alameda</td>\n",
              "      <td>Alameda County Office of Education</td>\n",
              "      <td>Aspire California College Preparatory Academy</td>\n",
              "      <td>44</td>\n",
              "      <td>NaN</td>\n",
              "      <td>NaN</td>\n",
              "      <td>NaN</td>\n",
              "      <td>NaN</td>\n",
              "      <td>NaN</td>\n",
              "      <td>NaN</td>\n",
              "      <td>NaN</td>\n",
              "      <td>NaN</td>\n",
              "    </tr>\n",
              "    <tr>\n",
              "      <th>3</th>\n",
              "      <td>1</td>\n",
              "      <td>10017</td>\n",
              "      <td>130401</td>\n",
              "      <td>Alameda</td>\n",
              "      <td>Alameda County Office of Education</td>\n",
              "      <td>Alameda County Juvenile Hall/Court</td>\n",
              "      <td>66</td>\n",
              "      <td>NaN</td>\n",
              "      <td>NaN</td>\n",
              "      <td>NaN</td>\n",
              "      <td>NaN</td>\n",
              "      <td>NaN</td>\n",
              "      <td>NaN</td>\n",
              "      <td>NaN</td>\n",
              "      <td>NaN</td>\n",
              "    </tr>\n",
              "    <tr>\n",
              "      <th>4</th>\n",
              "      <td>1</td>\n",
              "      <td>10017</td>\n",
              "      <td>130419</td>\n",
              "      <td>Alameda</td>\n",
              "      <td>Alameda County Office of Education</td>\n",
              "      <td>Alameda County Community</td>\n",
              "      <td>24</td>\n",
              "      <td>NaN</td>\n",
              "      <td>NaN</td>\n",
              "      <td>NaN</td>\n",
              "      <td>NaN</td>\n",
              "      <td>NaN</td>\n",
              "      <td>NaN</td>\n",
              "      <td>NaN</td>\n",
              "      <td>NaN</td>\n",
              "    </tr>\n",
              "  </tbody>\n",
              "</table>\n",
              "</div>"
            ],
            "text/plain": [
              "   County\\nNumber  District\\nNumber  ...  GE1500Ct Rate1500\n",
              "0               1             10017  ...      12.0    46.15\n",
              "1               1             10017  ...       3.0     6.38\n",
              "2               1             10017  ...       NaN      NaN\n",
              "3               1             10017  ...       NaN      NaN\n",
              "4               1             10017  ...       NaN      NaN\n",
              "\n",
              "[5 rows x 15 columns]"
            ]
          },
          "metadata": {
            "tags": []
          },
          "execution_count": 15
        }
      ]
    },
    {
      "cell_type": "code",
      "metadata": {
        "id": "mI0SdIc1ToyC"
      },
      "source": [
        "dataset2.columns=['County_Number','District_Number','School_Number','County_Name','District_Name','School_Name','Grade_12','Number_Tested','Percent_Tested','Verbal_Mean','Math_Mean','Writing_Mean','Total_Mean','Num_Greater_1500','Percent_Greater_1500']"
      ],
      "execution_count": null,
      "outputs": []
    },
    {
      "cell_type": "code",
      "metadata": {
        "id": "x1TVQSo59ZST",
        "colab": {
          "base_uri": "https://localhost:8080/"
        },
        "outputId": "db07d87b-634d-4227-904b-e579b21e028a"
      },
      "source": [
        "dataset2.dtypes"
      ],
      "execution_count": null,
      "outputs": [
        {
          "output_type": "execute_result",
          "data": {
            "text/plain": [
              "County_Number             int64\n",
              "District_Number           int64\n",
              "School_Number             int64\n",
              "County_Name              object\n",
              "District_Name            object\n",
              "School_Name              object\n",
              "Grade_12                  int64\n",
              "Number_Tested           float64\n",
              "Percent_Tested          float64\n",
              "Verbal_Mean             float64\n",
              "Math_Mean               float64\n",
              "Writing_Mean            float64\n",
              "Total_Mean              float64\n",
              "Num_Greater_1500        float64\n",
              "Percent_Greater_1500    float64\n",
              "dtype: object"
            ]
          },
          "metadata": {
            "tags": []
          },
          "execution_count": 17
        }
      ]
    },
    {
      "cell_type": "code",
      "metadata": {
        "id": "4eAxZEAVUV5j"
      },
      "source": [
        "dataset2['County_Number']=dataset2['County_Number'].astype(str)\n",
        "dataset2['District_Number']=dataset2['District_Number'].astype(str)\n",
        "dataset2['School_Number']=dataset2['School_Number'].astype(str)\n",
        "dataset2 = dataset2.assign(CDS=dataset2.County_Number+dataset2.District_Number+dataset2.School_Number)\n",
        "dataset2=dataset2.drop([\"County_Number\",\"District_Number\",\"School_Number\"],axis=1)\n"
      ],
      "execution_count": null,
      "outputs": []
    },
    {
      "cell_type": "code",
      "metadata": {
        "id": "WnaclrWpUsrA",
        "colab": {
          "base_uri": "https://localhost:8080/",
          "height": 391
        },
        "outputId": "116f8349-661a-40c8-e1c6-f1aa4bbd0ef7"
      },
      "source": [
        "dataset2=dataset2[['CDS','County_Name','District_Name','School_Name','Grade_12','Number_Tested','Percent_Tested','Verbal_Mean','Math_Mean','Writing_Mean','Total_Mean','Num_Greater_1500','Percent_Greater_1500']]\n",
        "dataset2=dataset2.drop([\"Percent_Tested\",\"Percent_Greater_1500\"],axis=1)\n",
        "dataset2['year']=2011\n",
        "dataset2.head()"
      ],
      "execution_count": null,
      "outputs": [
        {
          "output_type": "execute_result",
          "data": {
            "text/html": [
              "<div>\n",
              "<style scoped>\n",
              "    .dataframe tbody tr th:only-of-type {\n",
              "        vertical-align: middle;\n",
              "    }\n",
              "\n",
              "    .dataframe tbody tr th {\n",
              "        vertical-align: top;\n",
              "    }\n",
              "\n",
              "    .dataframe thead th {\n",
              "        text-align: right;\n",
              "    }\n",
              "</style>\n",
              "<table border=\"1\" class=\"dataframe\">\n",
              "  <thead>\n",
              "    <tr style=\"text-align: right;\">\n",
              "      <th></th>\n",
              "      <th>CDS</th>\n",
              "      <th>County_Name</th>\n",
              "      <th>District_Name</th>\n",
              "      <th>School_Name</th>\n",
              "      <th>Grade_12</th>\n",
              "      <th>Number_Tested</th>\n",
              "      <th>Verbal_Mean</th>\n",
              "      <th>Math_Mean</th>\n",
              "      <th>Writing_Mean</th>\n",
              "      <th>Total_Mean</th>\n",
              "      <th>Num_Greater_1500</th>\n",
              "      <th>year</th>\n",
              "    </tr>\n",
              "  </thead>\n",
              "  <tbody>\n",
              "    <tr>\n",
              "      <th>0</th>\n",
              "      <td>110017109835</td>\n",
              "      <td>Alameda</td>\n",
              "      <td>Alameda County Office of Education</td>\n",
              "      <td>FAME Public Charter</td>\n",
              "      <td>67</td>\n",
              "      <td>26.0</td>\n",
              "      <td>498.0</td>\n",
              "      <td>505.0</td>\n",
              "      <td>519.0</td>\n",
              "      <td>1523.0</td>\n",
              "      <td>12.0</td>\n",
              "      <td>2011</td>\n",
              "    </tr>\n",
              "    <tr>\n",
              "      <th>1</th>\n",
              "      <td>110017112607</td>\n",
              "      <td>Alameda</td>\n",
              "      <td>Alameda County Office of Education</td>\n",
              "      <td>Envision Academy for Arts &amp; Technology</td>\n",
              "      <td>59</td>\n",
              "      <td>47.0</td>\n",
              "      <td>368.0</td>\n",
              "      <td>381.0</td>\n",
              "      <td>383.0</td>\n",
              "      <td>1132.0</td>\n",
              "      <td>3.0</td>\n",
              "      <td>2011</td>\n",
              "    </tr>\n",
              "    <tr>\n",
              "      <th>2</th>\n",
              "      <td>110017118489</td>\n",
              "      <td>Alameda</td>\n",
              "      <td>Alameda County Office of Education</td>\n",
              "      <td>Aspire California College Preparatory Academy</td>\n",
              "      <td>44</td>\n",
              "      <td>NaN</td>\n",
              "      <td>NaN</td>\n",
              "      <td>NaN</td>\n",
              "      <td>NaN</td>\n",
              "      <td>NaN</td>\n",
              "      <td>NaN</td>\n",
              "      <td>2011</td>\n",
              "    </tr>\n",
              "    <tr>\n",
              "      <th>3</th>\n",
              "      <td>110017130401</td>\n",
              "      <td>Alameda</td>\n",
              "      <td>Alameda County Office of Education</td>\n",
              "      <td>Alameda County Juvenile Hall/Court</td>\n",
              "      <td>66</td>\n",
              "      <td>NaN</td>\n",
              "      <td>NaN</td>\n",
              "      <td>NaN</td>\n",
              "      <td>NaN</td>\n",
              "      <td>NaN</td>\n",
              "      <td>NaN</td>\n",
              "      <td>2011</td>\n",
              "    </tr>\n",
              "    <tr>\n",
              "      <th>4</th>\n",
              "      <td>110017130419</td>\n",
              "      <td>Alameda</td>\n",
              "      <td>Alameda County Office of Education</td>\n",
              "      <td>Alameda County Community</td>\n",
              "      <td>24</td>\n",
              "      <td>NaN</td>\n",
              "      <td>NaN</td>\n",
              "      <td>NaN</td>\n",
              "      <td>NaN</td>\n",
              "      <td>NaN</td>\n",
              "      <td>NaN</td>\n",
              "      <td>2011</td>\n",
              "    </tr>\n",
              "  </tbody>\n",
              "</table>\n",
              "</div>"
            ],
            "text/plain": [
              "            CDS County_Name  ... Num_Greater_1500  year\n",
              "0  110017109835     Alameda  ...             12.0  2011\n",
              "1  110017112607     Alameda  ...              3.0  2011\n",
              "2  110017118489     Alameda  ...              NaN  2011\n",
              "3  110017130401     Alameda  ...              NaN  2011\n",
              "4  110017130419     Alameda  ...              NaN  2011\n",
              "\n",
              "[5 rows x 12 columns]"
            ]
          },
          "metadata": {
            "tags": []
          },
          "execution_count": 19
        }
      ]
    },
    {
      "cell_type": "code",
      "metadata": {
        "id": "FPplutK2U2XQ",
        "colab": {
          "base_uri": "https://localhost:8080/"
        },
        "outputId": "9841c20f-9c96-4ed3-c705-e46e422f5db6"
      },
      "source": [
        "dataset2.isna().sum()"
      ],
      "execution_count": null,
      "outputs": [
        {
          "output_type": "execute_result",
          "data": {
            "text/plain": [
              "CDS                    0\n",
              "County_Name            0\n",
              "District_Name          0\n",
              "School_Name            0\n",
              "Grade_12               0\n",
              "Number_Tested        975\n",
              "Verbal_Mean         1285\n",
              "Math_Mean           1285\n",
              "Writing_Mean        1285\n",
              "Total_Mean          1285\n",
              "Num_Greater_1500    1285\n",
              "year                   0\n",
              "dtype: int64"
            ]
          },
          "metadata": {
            "tags": []
          },
          "execution_count": 20
        }
      ]
    },
    {
      "cell_type": "code",
      "metadata": {
        "id": "AiVUicppVZVb"
      },
      "source": [
        "dataset2=dataset2.fillna(0)\n",
        "dataset2['Verbal_Mean']=dataset2['Verbal_Mean'].astype('int64')\n",
        "dataset2['Math_Mean']=dataset2['Math_Mean'].astype('int64')\n",
        "dataset2['Writing_Mean']=dataset2['Writing_Mean'].astype('int64')\n",
        "dataset2['Total_Mean']=dataset2['Total_Mean'].astype('int64')"
      ],
      "execution_count": null,
      "outputs": []
    },
    {
      "cell_type": "code",
      "metadata": {
        "id": "oxHR-fX6Vb_d",
        "colab": {
          "base_uri": "https://localhost:8080/",
          "height": 391
        },
        "outputId": "a66ba5ae-c5fc-43b8-e402-7d1cedd55715"
      },
      "source": [
        "dataset2.head()"
      ],
      "execution_count": null,
      "outputs": [
        {
          "output_type": "execute_result",
          "data": {
            "text/html": [
              "<div>\n",
              "<style scoped>\n",
              "    .dataframe tbody tr th:only-of-type {\n",
              "        vertical-align: middle;\n",
              "    }\n",
              "\n",
              "    .dataframe tbody tr th {\n",
              "        vertical-align: top;\n",
              "    }\n",
              "\n",
              "    .dataframe thead th {\n",
              "        text-align: right;\n",
              "    }\n",
              "</style>\n",
              "<table border=\"1\" class=\"dataframe\">\n",
              "  <thead>\n",
              "    <tr style=\"text-align: right;\">\n",
              "      <th></th>\n",
              "      <th>CDS</th>\n",
              "      <th>County_Name</th>\n",
              "      <th>District_Name</th>\n",
              "      <th>School_Name</th>\n",
              "      <th>Grade_12</th>\n",
              "      <th>Number_Tested</th>\n",
              "      <th>Verbal_Mean</th>\n",
              "      <th>Math_Mean</th>\n",
              "      <th>Writing_Mean</th>\n",
              "      <th>Total_Mean</th>\n",
              "      <th>Num_Greater_1500</th>\n",
              "      <th>year</th>\n",
              "    </tr>\n",
              "  </thead>\n",
              "  <tbody>\n",
              "    <tr>\n",
              "      <th>0</th>\n",
              "      <td>110017109835</td>\n",
              "      <td>Alameda</td>\n",
              "      <td>Alameda County Office of Education</td>\n",
              "      <td>FAME Public Charter</td>\n",
              "      <td>67</td>\n",
              "      <td>26.0</td>\n",
              "      <td>498</td>\n",
              "      <td>505</td>\n",
              "      <td>519</td>\n",
              "      <td>1523</td>\n",
              "      <td>12.0</td>\n",
              "      <td>2011</td>\n",
              "    </tr>\n",
              "    <tr>\n",
              "      <th>1</th>\n",
              "      <td>110017112607</td>\n",
              "      <td>Alameda</td>\n",
              "      <td>Alameda County Office of Education</td>\n",
              "      <td>Envision Academy for Arts &amp; Technology</td>\n",
              "      <td>59</td>\n",
              "      <td>47.0</td>\n",
              "      <td>368</td>\n",
              "      <td>381</td>\n",
              "      <td>383</td>\n",
              "      <td>1132</td>\n",
              "      <td>3.0</td>\n",
              "      <td>2011</td>\n",
              "    </tr>\n",
              "    <tr>\n",
              "      <th>2</th>\n",
              "      <td>110017118489</td>\n",
              "      <td>Alameda</td>\n",
              "      <td>Alameda County Office of Education</td>\n",
              "      <td>Aspire California College Preparatory Academy</td>\n",
              "      <td>44</td>\n",
              "      <td>0.0</td>\n",
              "      <td>0</td>\n",
              "      <td>0</td>\n",
              "      <td>0</td>\n",
              "      <td>0</td>\n",
              "      <td>0.0</td>\n",
              "      <td>2011</td>\n",
              "    </tr>\n",
              "    <tr>\n",
              "      <th>3</th>\n",
              "      <td>110017130401</td>\n",
              "      <td>Alameda</td>\n",
              "      <td>Alameda County Office of Education</td>\n",
              "      <td>Alameda County Juvenile Hall/Court</td>\n",
              "      <td>66</td>\n",
              "      <td>0.0</td>\n",
              "      <td>0</td>\n",
              "      <td>0</td>\n",
              "      <td>0</td>\n",
              "      <td>0</td>\n",
              "      <td>0.0</td>\n",
              "      <td>2011</td>\n",
              "    </tr>\n",
              "    <tr>\n",
              "      <th>4</th>\n",
              "      <td>110017130419</td>\n",
              "      <td>Alameda</td>\n",
              "      <td>Alameda County Office of Education</td>\n",
              "      <td>Alameda County Community</td>\n",
              "      <td>24</td>\n",
              "      <td>0.0</td>\n",
              "      <td>0</td>\n",
              "      <td>0</td>\n",
              "      <td>0</td>\n",
              "      <td>0</td>\n",
              "      <td>0.0</td>\n",
              "      <td>2011</td>\n",
              "    </tr>\n",
              "  </tbody>\n",
              "</table>\n",
              "</div>"
            ],
            "text/plain": [
              "            CDS County_Name  ... Num_Greater_1500  year\n",
              "0  110017109835     Alameda  ...             12.0  2011\n",
              "1  110017112607     Alameda  ...              3.0  2011\n",
              "2  110017118489     Alameda  ...              0.0  2011\n",
              "3  110017130401     Alameda  ...              0.0  2011\n",
              "4  110017130419     Alameda  ...              0.0  2011\n",
              "\n",
              "[5 rows x 12 columns]"
            ]
          },
          "metadata": {
            "tags": []
          },
          "execution_count": 22
        }
      ]
    },
    {
      "cell_type": "code",
      "metadata": {
        "id": "f0iQN4eaVxm3",
        "colab": {
          "base_uri": "https://localhost:8080/",
          "height": 496
        },
        "outputId": "c902b010-880f-44d3-c948-87a3d70df7c6"
      },
      "source": [
        "dataset3.head()"
      ],
      "execution_count": null,
      "outputs": [
        {
          "output_type": "execute_result",
          "data": {
            "text/html": [
              "<div>\n",
              "<style scoped>\n",
              "    .dataframe tbody tr th:only-of-type {\n",
              "        vertical-align: middle;\n",
              "    }\n",
              "\n",
              "    .dataframe tbody tr th {\n",
              "        vertical-align: top;\n",
              "    }\n",
              "\n",
              "    .dataframe thead th {\n",
              "        text-align: right;\n",
              "    }\n",
              "</style>\n",
              "<table border=\"1\" class=\"dataframe\">\n",
              "  <thead>\n",
              "    <tr style=\"text-align: right;\">\n",
              "      <th></th>\n",
              "      <th>County\\nNumber</th>\n",
              "      <th>District\\nNumber</th>\n",
              "      <th>School\\nNumber</th>\n",
              "      <th>County Name</th>\n",
              "      <th>District Name</th>\n",
              "      <th>School Name</th>\n",
              "      <th>Grade\\n12</th>\n",
              "      <th>Number\\nTested</th>\n",
              "      <th>Percent\\nTested</th>\n",
              "      <th>V_Mean</th>\n",
              "      <th>M_Mean</th>\n",
              "      <th>W_Mean</th>\n",
              "      <th>Tot_Mean</th>\n",
              "      <th>GE1500Ct</th>\n",
              "      <th>Rate1500</th>\n",
              "    </tr>\n",
              "  </thead>\n",
              "  <tbody>\n",
              "    <tr>\n",
              "      <th>0</th>\n",
              "      <td>1</td>\n",
              "      <td>110017</td>\n",
              "      <td>109835</td>\n",
              "      <td>Alameda</td>\n",
              "      <td>Alameda County Office of Educa</td>\n",
              "      <td>FAME Public Charter</td>\n",
              "      <td>75</td>\n",
              "      <td>27.0</td>\n",
              "      <td>36.00</td>\n",
              "      <td>501.0</td>\n",
              "      <td>467.0</td>\n",
              "      <td>526.0</td>\n",
              "      <td>1494.0</td>\n",
              "      <td>12.0</td>\n",
              "      <td>44.44</td>\n",
              "    </tr>\n",
              "    <tr>\n",
              "      <th>1</th>\n",
              "      <td>1</td>\n",
              "      <td>110017</td>\n",
              "      <td>112607</td>\n",
              "      <td>Alameda</td>\n",
              "      <td>Alameda County Office of Educa</td>\n",
              "      <td>Envision Academy for Arts &amp; Te</td>\n",
              "      <td>59</td>\n",
              "      <td>50.0</td>\n",
              "      <td>84.75</td>\n",
              "      <td>392.0</td>\n",
              "      <td>388.0</td>\n",
              "      <td>397.0</td>\n",
              "      <td>1178.0</td>\n",
              "      <td>6.0</td>\n",
              "      <td>12.00</td>\n",
              "    </tr>\n",
              "    <tr>\n",
              "      <th>2</th>\n",
              "      <td>1</td>\n",
              "      <td>110017</td>\n",
              "      <td>118489</td>\n",
              "      <td>Alameda</td>\n",
              "      <td>Alameda County Office of Educa</td>\n",
              "      <td>Aspire California College Preparato</td>\n",
              "      <td>53</td>\n",
              "      <td>NaN</td>\n",
              "      <td>NaN</td>\n",
              "      <td>NaN</td>\n",
              "      <td>NaN</td>\n",
              "      <td>NaN</td>\n",
              "      <td>NaN</td>\n",
              "      <td>NaN</td>\n",
              "      <td>NaN</td>\n",
              "    </tr>\n",
              "    <tr>\n",
              "      <th>3</th>\n",
              "      <td>1</td>\n",
              "      <td>110017</td>\n",
              "      <td>130401</td>\n",
              "      <td>Alameda</td>\n",
              "      <td>Alameda County Office of Education</td>\n",
              "      <td>Alameda County Juvenile Hall/Court</td>\n",
              "      <td>67</td>\n",
              "      <td>NaN</td>\n",
              "      <td>NaN</td>\n",
              "      <td>NaN</td>\n",
              "      <td>NaN</td>\n",
              "      <td>NaN</td>\n",
              "      <td>NaN</td>\n",
              "      <td>NaN</td>\n",
              "      <td>NaN</td>\n",
              "    </tr>\n",
              "    <tr>\n",
              "      <th>4</th>\n",
              "      <td>1</td>\n",
              "      <td>110017</td>\n",
              "      <td>130419</td>\n",
              "      <td>Alameda</td>\n",
              "      <td>Alameda County Office of Educa</td>\n",
              "      <td>Alameda County Community</td>\n",
              "      <td>34</td>\n",
              "      <td>NaN</td>\n",
              "      <td>NaN</td>\n",
              "      <td>NaN</td>\n",
              "      <td>NaN</td>\n",
              "      <td>NaN</td>\n",
              "      <td>NaN</td>\n",
              "      <td>NaN</td>\n",
              "      <td>NaN</td>\n",
              "    </tr>\n",
              "  </tbody>\n",
              "</table>\n",
              "</div>"
            ],
            "text/plain": [
              "   County\\nNumber  District\\nNumber  ...  GE1500Ct Rate1500\n",
              "0               1            110017  ...      12.0    44.44\n",
              "1               1            110017  ...       6.0    12.00\n",
              "2               1            110017  ...       NaN      NaN\n",
              "3               1            110017  ...       NaN      NaN\n",
              "4               1            110017  ...       NaN      NaN\n",
              "\n",
              "[5 rows x 15 columns]"
            ]
          },
          "metadata": {
            "tags": []
          },
          "execution_count": 23
        }
      ]
    },
    {
      "cell_type": "code",
      "metadata": {
        "id": "acDuNDioVemg",
        "colab": {
          "base_uri": "https://localhost:8080/",
          "height": 340
        },
        "outputId": "686116e3-019f-4029-c149-ca9059b7db3e"
      },
      "source": [
        "dataset3.columns=['County_Number','District_Number','School_Number','County_Name','District_Name','School_Name','Grade_12','Number_Tested','Percent_Tested','Verbal_Mean','Math_Mean','Writing_Mean','Total_Mean','Num_Greater_1500','Percent_Greater_1500']\n",
        "dataset3['County_Number']=dataset3['County_Number'].astype(str)\n",
        "dataset3['District_Number']=dataset3['District_Number'].astype(str)\n",
        "dataset3['School_Number']=dataset3['School_Number'].astype(str)\n",
        "dataset3 = dataset3.assign(CDS=dataset3.County_Number+dataset3.District_Number+dataset3.School_Number)\n",
        "dataset3=dataset3.drop([\"County_Number\",\"District_Number\",\"School_Number\"],axis=1)\n",
        "dataset3=dataset3[['CDS','County_Name','District_Name','School_Name','Grade_12','Number_Tested','Percent_Tested','Verbal_Mean','Math_Mean','Writing_Mean','Total_Mean','Num_Greater_1500','Percent_Greater_1500']]\n",
        "dataset3=dataset3.drop([\"Percent_Tested\",\"Percent_Greater_1500\"],axis=1)\n",
        "dataset3['year']=2012\n",
        "dataset3.head()"
      ],
      "execution_count": null,
      "outputs": [
        {
          "output_type": "execute_result",
          "data": {
            "text/html": [
              "<div>\n",
              "<style scoped>\n",
              "    .dataframe tbody tr th:only-of-type {\n",
              "        vertical-align: middle;\n",
              "    }\n",
              "\n",
              "    .dataframe tbody tr th {\n",
              "        vertical-align: top;\n",
              "    }\n",
              "\n",
              "    .dataframe thead th {\n",
              "        text-align: right;\n",
              "    }\n",
              "</style>\n",
              "<table border=\"1\" class=\"dataframe\">\n",
              "  <thead>\n",
              "    <tr style=\"text-align: right;\">\n",
              "      <th></th>\n",
              "      <th>CDS</th>\n",
              "      <th>County_Name</th>\n",
              "      <th>District_Name</th>\n",
              "      <th>School_Name</th>\n",
              "      <th>Grade_12</th>\n",
              "      <th>Number_Tested</th>\n",
              "      <th>Verbal_Mean</th>\n",
              "      <th>Math_Mean</th>\n",
              "      <th>Writing_Mean</th>\n",
              "      <th>Total_Mean</th>\n",
              "      <th>Num_Greater_1500</th>\n",
              "      <th>year</th>\n",
              "    </tr>\n",
              "  </thead>\n",
              "  <tbody>\n",
              "    <tr>\n",
              "      <th>0</th>\n",
              "      <td>1110017109835</td>\n",
              "      <td>Alameda</td>\n",
              "      <td>Alameda County Office of Educa</td>\n",
              "      <td>FAME Public Charter</td>\n",
              "      <td>75</td>\n",
              "      <td>27.0</td>\n",
              "      <td>501.0</td>\n",
              "      <td>467.0</td>\n",
              "      <td>526.0</td>\n",
              "      <td>1494.0</td>\n",
              "      <td>12.0</td>\n",
              "      <td>2012</td>\n",
              "    </tr>\n",
              "    <tr>\n",
              "      <th>1</th>\n",
              "      <td>1110017112607</td>\n",
              "      <td>Alameda</td>\n",
              "      <td>Alameda County Office of Educa</td>\n",
              "      <td>Envision Academy for Arts &amp; Te</td>\n",
              "      <td>59</td>\n",
              "      <td>50.0</td>\n",
              "      <td>392.0</td>\n",
              "      <td>388.0</td>\n",
              "      <td>397.0</td>\n",
              "      <td>1178.0</td>\n",
              "      <td>6.0</td>\n",
              "      <td>2012</td>\n",
              "    </tr>\n",
              "    <tr>\n",
              "      <th>2</th>\n",
              "      <td>1110017118489</td>\n",
              "      <td>Alameda</td>\n",
              "      <td>Alameda County Office of Educa</td>\n",
              "      <td>Aspire California College Preparato</td>\n",
              "      <td>53</td>\n",
              "      <td>NaN</td>\n",
              "      <td>NaN</td>\n",
              "      <td>NaN</td>\n",
              "      <td>NaN</td>\n",
              "      <td>NaN</td>\n",
              "      <td>NaN</td>\n",
              "      <td>2012</td>\n",
              "    </tr>\n",
              "    <tr>\n",
              "      <th>3</th>\n",
              "      <td>1110017130401</td>\n",
              "      <td>Alameda</td>\n",
              "      <td>Alameda County Office of Education</td>\n",
              "      <td>Alameda County Juvenile Hall/Court</td>\n",
              "      <td>67</td>\n",
              "      <td>NaN</td>\n",
              "      <td>NaN</td>\n",
              "      <td>NaN</td>\n",
              "      <td>NaN</td>\n",
              "      <td>NaN</td>\n",
              "      <td>NaN</td>\n",
              "      <td>2012</td>\n",
              "    </tr>\n",
              "    <tr>\n",
              "      <th>4</th>\n",
              "      <td>1110017130419</td>\n",
              "      <td>Alameda</td>\n",
              "      <td>Alameda County Office of Educa</td>\n",
              "      <td>Alameda County Community</td>\n",
              "      <td>34</td>\n",
              "      <td>NaN</td>\n",
              "      <td>NaN</td>\n",
              "      <td>NaN</td>\n",
              "      <td>NaN</td>\n",
              "      <td>NaN</td>\n",
              "      <td>NaN</td>\n",
              "      <td>2012</td>\n",
              "    </tr>\n",
              "  </tbody>\n",
              "</table>\n",
              "</div>"
            ],
            "text/plain": [
              "             CDS County_Name  ... Num_Greater_1500  year\n",
              "0  1110017109835     Alameda  ...             12.0  2012\n",
              "1  1110017112607     Alameda  ...              6.0  2012\n",
              "2  1110017118489     Alameda  ...              NaN  2012\n",
              "3  1110017130401     Alameda  ...              NaN  2012\n",
              "4  1110017130419     Alameda  ...              NaN  2012\n",
              "\n",
              "[5 rows x 12 columns]"
            ]
          },
          "metadata": {
            "tags": []
          },
          "execution_count": 24
        }
      ]
    },
    {
      "cell_type": "code",
      "metadata": {
        "id": "F641vvFpV5o1",
        "colab": {
          "base_uri": "https://localhost:8080/"
        },
        "outputId": "4e38fdfb-00e3-4f83-e26f-4cd1f85a4d17"
      },
      "source": [
        "dataset3.isna().sum()"
      ],
      "execution_count": null,
      "outputs": [
        {
          "output_type": "execute_result",
          "data": {
            "text/plain": [
              "CDS                    0\n",
              "County_Name            0\n",
              "District_Name          0\n",
              "School_Name            0\n",
              "Grade_12               0\n",
              "Number_Tested       1052\n",
              "Verbal_Mean         1366\n",
              "Math_Mean           1366\n",
              "Writing_Mean        1366\n",
              "Total_Mean          1366\n",
              "Num_Greater_1500    1366\n",
              "year                   0\n",
              "dtype: int64"
            ]
          },
          "metadata": {
            "tags": []
          },
          "execution_count": 25
        }
      ]
    },
    {
      "cell_type": "code",
      "metadata": {
        "id": "Xa6OhN9vV-Qn"
      },
      "source": [
        "dataset3=dataset3.fillna(0)\n",
        "dataset3['Verbal_Mean']=dataset3['Verbal_Mean'].astype('int64')\n",
        "dataset3['Math_Mean']=dataset3['Math_Mean'].astype('int64')\n",
        "dataset3['Writing_Mean']=dataset3['Writing_Mean'].astype('int64')\n",
        "dataset3['Total_Mean']=dataset3['Total_Mean'].astype('int64')"
      ],
      "execution_count": null,
      "outputs": []
    },
    {
      "cell_type": "code",
      "metadata": {
        "id": "zPxgWo1aWBux",
        "colab": {
          "base_uri": "https://localhost:8080/",
          "height": 340
        },
        "outputId": "312948f6-7801-4b28-c036-6ff78648deba"
      },
      "source": [
        "dataset3.head()"
      ],
      "execution_count": null,
      "outputs": [
        {
          "output_type": "execute_result",
          "data": {
            "text/html": [
              "<div>\n",
              "<style scoped>\n",
              "    .dataframe tbody tr th:only-of-type {\n",
              "        vertical-align: middle;\n",
              "    }\n",
              "\n",
              "    .dataframe tbody tr th {\n",
              "        vertical-align: top;\n",
              "    }\n",
              "\n",
              "    .dataframe thead th {\n",
              "        text-align: right;\n",
              "    }\n",
              "</style>\n",
              "<table border=\"1\" class=\"dataframe\">\n",
              "  <thead>\n",
              "    <tr style=\"text-align: right;\">\n",
              "      <th></th>\n",
              "      <th>CDS</th>\n",
              "      <th>County_Name</th>\n",
              "      <th>District_Name</th>\n",
              "      <th>School_Name</th>\n",
              "      <th>Grade_12</th>\n",
              "      <th>Number_Tested</th>\n",
              "      <th>Verbal_Mean</th>\n",
              "      <th>Math_Mean</th>\n",
              "      <th>Writing_Mean</th>\n",
              "      <th>Total_Mean</th>\n",
              "      <th>Num_Greater_1500</th>\n",
              "      <th>year</th>\n",
              "    </tr>\n",
              "  </thead>\n",
              "  <tbody>\n",
              "    <tr>\n",
              "      <th>0</th>\n",
              "      <td>1110017109835</td>\n",
              "      <td>Alameda</td>\n",
              "      <td>Alameda County Office of Educa</td>\n",
              "      <td>FAME Public Charter</td>\n",
              "      <td>75</td>\n",
              "      <td>27.0</td>\n",
              "      <td>501</td>\n",
              "      <td>467</td>\n",
              "      <td>526</td>\n",
              "      <td>1494</td>\n",
              "      <td>12.0</td>\n",
              "      <td>2012</td>\n",
              "    </tr>\n",
              "    <tr>\n",
              "      <th>1</th>\n",
              "      <td>1110017112607</td>\n",
              "      <td>Alameda</td>\n",
              "      <td>Alameda County Office of Educa</td>\n",
              "      <td>Envision Academy for Arts &amp; Te</td>\n",
              "      <td>59</td>\n",
              "      <td>50.0</td>\n",
              "      <td>392</td>\n",
              "      <td>388</td>\n",
              "      <td>397</td>\n",
              "      <td>1178</td>\n",
              "      <td>6.0</td>\n",
              "      <td>2012</td>\n",
              "    </tr>\n",
              "    <tr>\n",
              "      <th>2</th>\n",
              "      <td>1110017118489</td>\n",
              "      <td>Alameda</td>\n",
              "      <td>Alameda County Office of Educa</td>\n",
              "      <td>Aspire California College Preparato</td>\n",
              "      <td>53</td>\n",
              "      <td>0.0</td>\n",
              "      <td>0</td>\n",
              "      <td>0</td>\n",
              "      <td>0</td>\n",
              "      <td>0</td>\n",
              "      <td>0.0</td>\n",
              "      <td>2012</td>\n",
              "    </tr>\n",
              "    <tr>\n",
              "      <th>3</th>\n",
              "      <td>1110017130401</td>\n",
              "      <td>Alameda</td>\n",
              "      <td>Alameda County Office of Education</td>\n",
              "      <td>Alameda County Juvenile Hall/Court</td>\n",
              "      <td>67</td>\n",
              "      <td>0.0</td>\n",
              "      <td>0</td>\n",
              "      <td>0</td>\n",
              "      <td>0</td>\n",
              "      <td>0</td>\n",
              "      <td>0.0</td>\n",
              "      <td>2012</td>\n",
              "    </tr>\n",
              "    <tr>\n",
              "      <th>4</th>\n",
              "      <td>1110017130419</td>\n",
              "      <td>Alameda</td>\n",
              "      <td>Alameda County Office of Educa</td>\n",
              "      <td>Alameda County Community</td>\n",
              "      <td>34</td>\n",
              "      <td>0.0</td>\n",
              "      <td>0</td>\n",
              "      <td>0</td>\n",
              "      <td>0</td>\n",
              "      <td>0</td>\n",
              "      <td>0.0</td>\n",
              "      <td>2012</td>\n",
              "    </tr>\n",
              "  </tbody>\n",
              "</table>\n",
              "</div>"
            ],
            "text/plain": [
              "             CDS County_Name  ... Num_Greater_1500  year\n",
              "0  1110017109835     Alameda  ...             12.0  2012\n",
              "1  1110017112607     Alameda  ...              6.0  2012\n",
              "2  1110017118489     Alameda  ...              0.0  2012\n",
              "3  1110017130401     Alameda  ...              0.0  2012\n",
              "4  1110017130419     Alameda  ...              0.0  2012\n",
              "\n",
              "[5 rows x 12 columns]"
            ]
          },
          "metadata": {
            "tags": []
          },
          "execution_count": 27
        }
      ]
    },
    {
      "cell_type": "code",
      "metadata": {
        "id": "yfoXc1EYWLMA",
        "colab": {
          "base_uri": "https://localhost:8080/",
          "height": 255
        },
        "outputId": "ac41b740-f5fd-4885-9766-1570a2554d1d"
      },
      "source": [
        "dataset4.head()"
      ],
      "execution_count": null,
      "outputs": [
        {
          "output_type": "execute_result",
          "data": {
            "text/html": [
              "<div>\n",
              "<style scoped>\n",
              "    .dataframe tbody tr th:only-of-type {\n",
              "        vertical-align: middle;\n",
              "    }\n",
              "\n",
              "    .dataframe tbody tr th {\n",
              "        vertical-align: top;\n",
              "    }\n",
              "\n",
              "    .dataframe thead th {\n",
              "        text-align: right;\n",
              "    }\n",
              "</style>\n",
              "<table border=\"1\" class=\"dataframe\">\n",
              "  <thead>\n",
              "    <tr style=\"text-align: right;\">\n",
              "      <th></th>\n",
              "      <th>cds</th>\n",
              "      <th>rtype</th>\n",
              "      <th>sname</th>\n",
              "      <th>dname</th>\n",
              "      <th>cname</th>\n",
              "      <th>enroll12</th>\n",
              "      <th>NumTstTakr</th>\n",
              "      <th>AvgScrRead</th>\n",
              "      <th>AvgScrMath</th>\n",
              "      <th>AvgScrWrite</th>\n",
              "      <th>NumGE1500</th>\n",
              "      <th>PctGE1500</th>\n",
              "    </tr>\n",
              "  </thead>\n",
              "  <tbody>\n",
              "    <tr>\n",
              "      <th>0</th>\n",
              "      <td>0</td>\n",
              "      <td>X</td>\n",
              "      <td>NaN</td>\n",
              "      <td>NaN</td>\n",
              "      <td>NaN</td>\n",
              "      <td>498403</td>\n",
              "      <td>204848</td>\n",
              "      <td>492</td>\n",
              "      <td>506</td>\n",
              "      <td>489</td>\n",
              "      <td>93937</td>\n",
              "      <td>45.86</td>\n",
              "    </tr>\n",
              "    <tr>\n",
              "      <th>1</th>\n",
              "      <td>1000000000000</td>\n",
              "      <td>C</td>\n",
              "      <td>NaN</td>\n",
              "      <td>NaN</td>\n",
              "      <td>Alameda</td>\n",
              "      <td>16990</td>\n",
              "      <td>8625</td>\n",
              "      <td>521</td>\n",
              "      <td>543</td>\n",
              "      <td>523</td>\n",
              "      <td>4967</td>\n",
              "      <td>57.59</td>\n",
              "    </tr>\n",
              "    <tr>\n",
              "      <th>2</th>\n",
              "      <td>1100170000000</td>\n",
              "      <td>D</td>\n",
              "      <td>NaN</td>\n",
              "      <td>Alameda County Office of Educa</td>\n",
              "      <td>Alameda</td>\n",
              "      <td>222</td>\n",
              "      <td>53</td>\n",
              "      <td>424</td>\n",
              "      <td>429</td>\n",
              "      <td>427</td>\n",
              "      <td>11</td>\n",
              "      <td>20.75</td>\n",
              "    </tr>\n",
              "    <tr>\n",
              "      <th>3</th>\n",
              "      <td>1100170109835</td>\n",
              "      <td>S</td>\n",
              "      <td>FAME Public Charter</td>\n",
              "      <td>Alameda County Office of Educa</td>\n",
              "      <td>Alameda</td>\n",
              "      <td>47</td>\n",
              "      <td>12</td>\n",
              "      <td>553</td>\n",
              "      <td>523</td>\n",
              "      <td>534</td>\n",
              "      <td>8</td>\n",
              "      <td>66.67</td>\n",
              "    </tr>\n",
              "    <tr>\n",
              "      <th>4</th>\n",
              "      <td>1100170112607</td>\n",
              "      <td>S</td>\n",
              "      <td>Envision Academy for Arts &amp; Technology</td>\n",
              "      <td>Alameda County Office of Educa</td>\n",
              "      <td>Alameda</td>\n",
              "      <td>48</td>\n",
              "      <td>41</td>\n",
              "      <td>387</td>\n",
              "      <td>402</td>\n",
              "      <td>396</td>\n",
              "      <td>3</td>\n",
              "      <td>7.32</td>\n",
              "    </tr>\n",
              "  </tbody>\n",
              "</table>\n",
              "</div>"
            ],
            "text/plain": [
              "             cds rtype  ... NumGE1500 PctGE1500\n",
              "0              0     X  ...     93937     45.86\n",
              "1  1000000000000     C  ...      4967     57.59\n",
              "2  1100170000000     D  ...        11     20.75\n",
              "3  1100170109835     S  ...         8     66.67\n",
              "4  1100170112607     S  ...         3      7.32\n",
              "\n",
              "[5 rows x 12 columns]"
            ]
          },
          "metadata": {
            "tags": []
          },
          "execution_count": 28
        }
      ]
    },
    {
      "cell_type": "markdown",
      "metadata": {
        "id": "d9V6s4V9WVMb"
      },
      "source": [
        "This dataset follows a different format than the above dataframes.<br>Additionally, some rows are dropped when the columns District_Name and School_Name are blank and those rows had the sum of the number of takers and other columns."
      ]
    },
    {
      "cell_type": "code",
      "metadata": {
        "id": "lLB-4FtmWOt3"
      },
      "source": [
        "dataset4=dataset4.drop([\"rtype\"],axis=1)"
      ],
      "execution_count": null,
      "outputs": []
    },
    {
      "cell_type": "code",
      "metadata": {
        "id": "x1_5YsG691V7",
        "colab": {
          "base_uri": "https://localhost:8080/"
        },
        "outputId": "b953db7d-88f2-479f-9a8e-29cd17e8e3af"
      },
      "source": [
        "dataset4.dtypes"
      ],
      "execution_count": null,
      "outputs": [
        {
          "output_type": "execute_result",
          "data": {
            "text/plain": [
              "cds             int64\n",
              "sname          object\n",
              "dname          object\n",
              "cname          object\n",
              "enroll12        int64\n",
              "NumTstTakr      int64\n",
              "AvgScrRead     object\n",
              "AvgScrMath     object\n",
              "AvgScrWrite    object\n",
              "NumGE1500      object\n",
              "PctGE1500      object\n",
              "dtype: object"
            ]
          },
          "metadata": {
            "tags": []
          },
          "execution_count": 30
        }
      ]
    },
    {
      "cell_type": "code",
      "metadata": {
        "id": "i1xIaQyNW3PT"
      },
      "source": [
        "dataset4.columns=['CDS','School_Name','District_Name','County_Name','Grade_12','Number_Tested','Verbal_Mean','Math_Mean','Writing_Mean','Num_Greater_1500','Percent_Greater_1500']\n",
        "dataset4=dataset4.drop([\"Percent_Greater_1500\"],axis=1)"
      ],
      "execution_count": null,
      "outputs": []
    },
    {
      "cell_type": "code",
      "metadata": {
        "id": "NocNGDtCXSKV",
        "colab": {
          "base_uri": "https://localhost:8080/"
        },
        "outputId": "691cad99-471d-43c5-94be-4b3777987118"
      },
      "source": [
        "dataset4.isna().sum()"
      ],
      "execution_count": null,
      "outputs": [
        {
          "output_type": "execute_result",
          "data": {
            "text/plain": [
              "CDS                   0\n",
              "School_Name         581\n",
              "District_Name        58\n",
              "County_Name           1\n",
              "Grade_12              0\n",
              "Number_Tested         0\n",
              "Verbal_Mean         328\n",
              "Math_Mean           328\n",
              "Writing_Mean        328\n",
              "Num_Greater_1500    328\n",
              "dtype: int64"
            ]
          },
          "metadata": {
            "tags": []
          },
          "execution_count": 32
        }
      ]
    },
    {
      "cell_type": "code",
      "metadata": {
        "id": "E5V1XhBbXPxX"
      },
      "source": [
        "dataset4=dataset4.dropna(subset=['District_Name','School_Name'])"
      ],
      "execution_count": null,
      "outputs": []
    },
    {
      "cell_type": "code",
      "metadata": {
        "id": "s-BNZe97XdBK",
        "colab": {
          "base_uri": "https://localhost:8080/",
          "height": 289
        },
        "outputId": "d5b2c34f-667f-482a-87a4-430a9ed358fa"
      },
      "source": [
        "dataset4['year']=2013\n",
        "dataset4=dataset4.replace('*',np.nan)\n",
        "dataset4.head()"
      ],
      "execution_count": null,
      "outputs": [
        {
          "output_type": "execute_result",
          "data": {
            "text/html": [
              "<div>\n",
              "<style scoped>\n",
              "    .dataframe tbody tr th:only-of-type {\n",
              "        vertical-align: middle;\n",
              "    }\n",
              "\n",
              "    .dataframe tbody tr th {\n",
              "        vertical-align: top;\n",
              "    }\n",
              "\n",
              "    .dataframe thead th {\n",
              "        text-align: right;\n",
              "    }\n",
              "</style>\n",
              "<table border=\"1\" class=\"dataframe\">\n",
              "  <thead>\n",
              "    <tr style=\"text-align: right;\">\n",
              "      <th></th>\n",
              "      <th>CDS</th>\n",
              "      <th>School_Name</th>\n",
              "      <th>District_Name</th>\n",
              "      <th>County_Name</th>\n",
              "      <th>Grade_12</th>\n",
              "      <th>Number_Tested</th>\n",
              "      <th>Verbal_Mean</th>\n",
              "      <th>Math_Mean</th>\n",
              "      <th>Writing_Mean</th>\n",
              "      <th>Num_Greater_1500</th>\n",
              "      <th>year</th>\n",
              "    </tr>\n",
              "  </thead>\n",
              "  <tbody>\n",
              "    <tr>\n",
              "      <th>3</th>\n",
              "      <td>1100170109835</td>\n",
              "      <td>FAME Public Charter</td>\n",
              "      <td>Alameda County Office of Educa</td>\n",
              "      <td>Alameda</td>\n",
              "      <td>47</td>\n",
              "      <td>12</td>\n",
              "      <td>553</td>\n",
              "      <td>523</td>\n",
              "      <td>534</td>\n",
              "      <td>8</td>\n",
              "      <td>2013</td>\n",
              "    </tr>\n",
              "    <tr>\n",
              "      <th>4</th>\n",
              "      <td>1100170112607</td>\n",
              "      <td>Envision Academy for Arts &amp; Technology</td>\n",
              "      <td>Alameda County Office of Educa</td>\n",
              "      <td>Alameda</td>\n",
              "      <td>48</td>\n",
              "      <td>41</td>\n",
              "      <td>387</td>\n",
              "      <td>402</td>\n",
              "      <td>396</td>\n",
              "      <td>3</td>\n",
              "      <td>2013</td>\n",
              "    </tr>\n",
              "    <tr>\n",
              "      <th>5</th>\n",
              "      <td>1100170118489</td>\n",
              "      <td>Aspire California College Preparatory Ac</td>\n",
              "      <td>Alameda County Office of Educa</td>\n",
              "      <td>Alameda</td>\n",
              "      <td>51</td>\n",
              "      <td>0</td>\n",
              "      <td>NaN</td>\n",
              "      <td>NaN</td>\n",
              "      <td>NaN</td>\n",
              "      <td>NaN</td>\n",
              "      <td>2013</td>\n",
              "    </tr>\n",
              "    <tr>\n",
              "      <th>6</th>\n",
              "      <td>1316170131763</td>\n",
              "      <td>California School for the Deaf-Fremont</td>\n",
              "      <td>California School for the Deaf</td>\n",
              "      <td>Alameda</td>\n",
              "      <td>76</td>\n",
              "      <td>1</td>\n",
              "      <td>NaN</td>\n",
              "      <td>NaN</td>\n",
              "      <td>NaN</td>\n",
              "      <td>NaN</td>\n",
              "      <td>2013</td>\n",
              "    </tr>\n",
              "    <tr>\n",
              "      <th>8</th>\n",
              "      <td>1611190106401</td>\n",
              "      <td>Alameda Science and Technology Institute</td>\n",
              "      <td>Alameda Unified</td>\n",
              "      <td>Alameda</td>\n",
              "      <td>41</td>\n",
              "      <td>40</td>\n",
              "      <td>572</td>\n",
              "      <td>605</td>\n",
              "      <td>561</td>\n",
              "      <td>33</td>\n",
              "      <td>2013</td>\n",
              "    </tr>\n",
              "  </tbody>\n",
              "</table>\n",
              "</div>"
            ],
            "text/plain": [
              "             CDS  ...  year\n",
              "3  1100170109835  ...  2013\n",
              "4  1100170112607  ...  2013\n",
              "5  1100170118489  ...  2013\n",
              "6  1316170131763  ...  2013\n",
              "8  1611190106401  ...  2013\n",
              "\n",
              "[5 rows x 11 columns]"
            ]
          },
          "metadata": {
            "tags": []
          },
          "execution_count": 34
        }
      ]
    },
    {
      "cell_type": "code",
      "metadata": {
        "id": "I00ON52HYUwC",
        "colab": {
          "base_uri": "https://localhost:8080/"
        },
        "outputId": "696ef310-397a-4930-8ae5-f067d090c596"
      },
      "source": [
        "dataset4.isna().sum()"
      ],
      "execution_count": null,
      "outputs": [
        {
          "output_type": "execute_result",
          "data": {
            "text/plain": [
              "CDS                   0\n",
              "School_Name           0\n",
              "District_Name         0\n",
              "County_Name           0\n",
              "Grade_12              0\n",
              "Number_Tested         0\n",
              "Verbal_Mean         530\n",
              "Math_Mean           530\n",
              "Writing_Mean        530\n",
              "Num_Greater_1500    530\n",
              "year                  0\n",
              "dtype: int64"
            ]
          },
          "metadata": {
            "tags": []
          },
          "execution_count": 35
        }
      ]
    },
    {
      "cell_type": "markdown",
      "metadata": {
        "id": "gSVyzjxOZc_G"
      },
      "source": [
        "This dataset doesnot have the column Total_Mean and this can be obtained by adding the column Verbal_Mean, Math_Mean and Writing_Mean and the some cells contained '-' which are filled with zero values"
      ]
    },
    {
      "cell_type": "code",
      "metadata": {
        "id": "Q-ySxRlPYixb"
      },
      "source": [
        "dataset4=dataset4.fillna(0)\n",
        "dataset4['Verbal_Mean']=dataset4['Verbal_Mean'].astype('int64')\n",
        "dataset4['Math_Mean']=dataset4['Math_Mean'].astype('int64')\n",
        "dataset4['Writing_Mean']=dataset4['Writing_Mean'].astype('int64')\n",
        "dataset4['Total_Mean']=dataset4['Verbal_Mean']+dataset4['Math_Mean']+dataset4['Writing_Mean']\n",
        "dataset4['Total_Mean']=dataset4['Total_Mean'].astype('int64')"
      ],
      "execution_count": null,
      "outputs": []
    },
    {
      "cell_type": "code",
      "metadata": {
        "id": "Wya_xV8SZo2q",
        "colab": {
          "base_uri": "https://localhost:8080/",
          "height": 357
        },
        "outputId": "3f8885dc-a799-4c40-a4a4-3c7044983eba"
      },
      "source": [
        "dataset4.head()"
      ],
      "execution_count": null,
      "outputs": [
        {
          "output_type": "execute_result",
          "data": {
            "text/html": [
              "<div>\n",
              "<style scoped>\n",
              "    .dataframe tbody tr th:only-of-type {\n",
              "        vertical-align: middle;\n",
              "    }\n",
              "\n",
              "    .dataframe tbody tr th {\n",
              "        vertical-align: top;\n",
              "    }\n",
              "\n",
              "    .dataframe thead th {\n",
              "        text-align: right;\n",
              "    }\n",
              "</style>\n",
              "<table border=\"1\" class=\"dataframe\">\n",
              "  <thead>\n",
              "    <tr style=\"text-align: right;\">\n",
              "      <th></th>\n",
              "      <th>CDS</th>\n",
              "      <th>School_Name</th>\n",
              "      <th>District_Name</th>\n",
              "      <th>County_Name</th>\n",
              "      <th>Grade_12</th>\n",
              "      <th>Number_Tested</th>\n",
              "      <th>Verbal_Mean</th>\n",
              "      <th>Math_Mean</th>\n",
              "      <th>Writing_Mean</th>\n",
              "      <th>Num_Greater_1500</th>\n",
              "      <th>year</th>\n",
              "      <th>Total_Mean</th>\n",
              "    </tr>\n",
              "  </thead>\n",
              "  <tbody>\n",
              "    <tr>\n",
              "      <th>3</th>\n",
              "      <td>1100170109835</td>\n",
              "      <td>FAME Public Charter</td>\n",
              "      <td>Alameda County Office of Educa</td>\n",
              "      <td>Alameda</td>\n",
              "      <td>47</td>\n",
              "      <td>12</td>\n",
              "      <td>553</td>\n",
              "      <td>523</td>\n",
              "      <td>534</td>\n",
              "      <td>8</td>\n",
              "      <td>2013</td>\n",
              "      <td>1610</td>\n",
              "    </tr>\n",
              "    <tr>\n",
              "      <th>4</th>\n",
              "      <td>1100170112607</td>\n",
              "      <td>Envision Academy for Arts &amp; Technology</td>\n",
              "      <td>Alameda County Office of Educa</td>\n",
              "      <td>Alameda</td>\n",
              "      <td>48</td>\n",
              "      <td>41</td>\n",
              "      <td>387</td>\n",
              "      <td>402</td>\n",
              "      <td>396</td>\n",
              "      <td>3</td>\n",
              "      <td>2013</td>\n",
              "      <td>1185</td>\n",
              "    </tr>\n",
              "    <tr>\n",
              "      <th>5</th>\n",
              "      <td>1100170118489</td>\n",
              "      <td>Aspire California College Preparatory Ac</td>\n",
              "      <td>Alameda County Office of Educa</td>\n",
              "      <td>Alameda</td>\n",
              "      <td>51</td>\n",
              "      <td>0</td>\n",
              "      <td>0</td>\n",
              "      <td>0</td>\n",
              "      <td>0</td>\n",
              "      <td>0</td>\n",
              "      <td>2013</td>\n",
              "      <td>0</td>\n",
              "    </tr>\n",
              "    <tr>\n",
              "      <th>6</th>\n",
              "      <td>1316170131763</td>\n",
              "      <td>California School for the Deaf-Fremont</td>\n",
              "      <td>California School for the Deaf</td>\n",
              "      <td>Alameda</td>\n",
              "      <td>76</td>\n",
              "      <td>1</td>\n",
              "      <td>0</td>\n",
              "      <td>0</td>\n",
              "      <td>0</td>\n",
              "      <td>0</td>\n",
              "      <td>2013</td>\n",
              "      <td>0</td>\n",
              "    </tr>\n",
              "    <tr>\n",
              "      <th>8</th>\n",
              "      <td>1611190106401</td>\n",
              "      <td>Alameda Science and Technology Institute</td>\n",
              "      <td>Alameda Unified</td>\n",
              "      <td>Alameda</td>\n",
              "      <td>41</td>\n",
              "      <td>40</td>\n",
              "      <td>572</td>\n",
              "      <td>605</td>\n",
              "      <td>561</td>\n",
              "      <td>33</td>\n",
              "      <td>2013</td>\n",
              "      <td>1738</td>\n",
              "    </tr>\n",
              "  </tbody>\n",
              "</table>\n",
              "</div>"
            ],
            "text/plain": [
              "             CDS                               School_Name  ...  year Total_Mean\n",
              "3  1100170109835                       FAME Public Charter  ...  2013       1610\n",
              "4  1100170112607    Envision Academy for Arts & Technology  ...  2013       1185\n",
              "5  1100170118489  Aspire California College Preparatory Ac  ...  2013          0\n",
              "6  1316170131763    California School for the Deaf-Fremont  ...  2013          0\n",
              "8  1611190106401  Alameda Science and Technology Institute  ...  2013       1738\n",
              "\n",
              "[5 rows x 12 columns]"
            ]
          },
          "metadata": {
            "tags": []
          },
          "execution_count": 37
        }
      ]
    },
    {
      "cell_type": "code",
      "metadata": {
        "id": "xM0KfQLiabA2",
        "colab": {
          "base_uri": "https://localhost:8080/",
          "height": 255
        },
        "outputId": "34608805-e01f-4419-e8d1-24dd66425faf"
      },
      "source": [
        "dataset5.head()"
      ],
      "execution_count": null,
      "outputs": [
        {
          "output_type": "execute_result",
          "data": {
            "text/html": [
              "<div>\n",
              "<style scoped>\n",
              "    .dataframe tbody tr th:only-of-type {\n",
              "        vertical-align: middle;\n",
              "    }\n",
              "\n",
              "    .dataframe tbody tr th {\n",
              "        vertical-align: top;\n",
              "    }\n",
              "\n",
              "    .dataframe thead th {\n",
              "        text-align: right;\n",
              "    }\n",
              "</style>\n",
              "<table border=\"1\" class=\"dataframe\">\n",
              "  <thead>\n",
              "    <tr style=\"text-align: right;\">\n",
              "      <th></th>\n",
              "      <th>cds</th>\n",
              "      <th>rtype</th>\n",
              "      <th>sname</th>\n",
              "      <th>dname</th>\n",
              "      <th>cname</th>\n",
              "      <th>enroll12</th>\n",
              "      <th>NumTstTakr</th>\n",
              "      <th>AvgScrRead</th>\n",
              "      <th>AvgScrMath</th>\n",
              "      <th>AvgScrWrite</th>\n",
              "      <th>NumGE1500</th>\n",
              "      <th>PctGE1500</th>\n",
              "    </tr>\n",
              "  </thead>\n",
              "  <tbody>\n",
              "    <tr>\n",
              "      <th>0</th>\n",
              "      <td>0</td>\n",
              "      <td>X</td>\n",
              "      <td>NaN</td>\n",
              "      <td>NaN</td>\n",
              "      <td>NaN</td>\n",
              "      <td>496901</td>\n",
              "      <td>210706</td>\n",
              "      <td>489</td>\n",
              "      <td>500</td>\n",
              "      <td>484</td>\n",
              "      <td>93334</td>\n",
              "      <td>44.30</td>\n",
              "    </tr>\n",
              "    <tr>\n",
              "      <th>1</th>\n",
              "      <td>1000000000000</td>\n",
              "      <td>C</td>\n",
              "      <td>NaN</td>\n",
              "      <td>NaN</td>\n",
              "      <td>Alameda</td>\n",
              "      <td>16978</td>\n",
              "      <td>8855</td>\n",
              "      <td>516</td>\n",
              "      <td>536</td>\n",
              "      <td>517</td>\n",
              "      <td>4900</td>\n",
              "      <td>55.34</td>\n",
              "    </tr>\n",
              "    <tr>\n",
              "      <th>2</th>\n",
              "      <td>1100170000000</td>\n",
              "      <td>D</td>\n",
              "      <td>NaN</td>\n",
              "      <td>Alameda County Office of Education</td>\n",
              "      <td>Alameda</td>\n",
              "      <td>398</td>\n",
              "      <td>88</td>\n",
              "      <td>418</td>\n",
              "      <td>418</td>\n",
              "      <td>417</td>\n",
              "      <td>14</td>\n",
              "      <td>15.91</td>\n",
              "    </tr>\n",
              "    <tr>\n",
              "      <th>3</th>\n",
              "      <td>1100170109835</td>\n",
              "      <td>S</td>\n",
              "      <td>FAME Public Charter</td>\n",
              "      <td>Alameda County Office of Education</td>\n",
              "      <td>Alameda</td>\n",
              "      <td>62</td>\n",
              "      <td>17</td>\n",
              "      <td>503</td>\n",
              "      <td>546</td>\n",
              "      <td>505</td>\n",
              "      <td>9</td>\n",
              "      <td>52.94</td>\n",
              "    </tr>\n",
              "    <tr>\n",
              "      <th>4</th>\n",
              "      <td>1100170112607</td>\n",
              "      <td>S</td>\n",
              "      <td>Envision Academy for Arts &amp; Technology</td>\n",
              "      <td>Alameda County Office of Education</td>\n",
              "      <td>Alameda</td>\n",
              "      <td>75</td>\n",
              "      <td>71</td>\n",
              "      <td>397</td>\n",
              "      <td>387</td>\n",
              "      <td>395</td>\n",
              "      <td>5</td>\n",
              "      <td>7.04</td>\n",
              "    </tr>\n",
              "  </tbody>\n",
              "</table>\n",
              "</div>"
            ],
            "text/plain": [
              "             cds rtype  ... NumGE1500 PctGE1500\n",
              "0              0     X  ...     93334     44.30\n",
              "1  1000000000000     C  ...      4900     55.34\n",
              "2  1100170000000     D  ...        14     15.91\n",
              "3  1100170109835     S  ...         9     52.94\n",
              "4  1100170112607     S  ...         5      7.04\n",
              "\n",
              "[5 rows x 12 columns]"
            ]
          },
          "metadata": {
            "tags": []
          },
          "execution_count": 38
        }
      ]
    },
    {
      "cell_type": "code",
      "metadata": {
        "id": "e1-0JlGeZrJW"
      },
      "source": [
        "dataset5=dataset5.drop([\"rtype\"],axis=1)"
      ],
      "execution_count": null,
      "outputs": []
    },
    {
      "cell_type": "code",
      "metadata": {
        "id": "NtScurKlaVqH",
        "colab": {
          "base_uri": "https://localhost:8080/",
          "height": 289
        },
        "outputId": "1c5dbf19-5086-4f26-aabb-30bb1352f868"
      },
      "source": [
        "dataset5.columns=['CDS','School_Name','District_Name','County_Name','Grade_12','Number_Tested','Verbal_Mean','Math_Mean','Writing_Mean','Num_Greater_1500','Percent_Greater_1500']\n",
        "#dataset5=dataset5[['CDS','County_Name','District_Name','School_Name','Grade_12','Number_Tested','Verbal_Mean','Math_Mean','Writing_Mean','Num_Greater_1500','Percent_Greater_1500']]\n",
        "dataset5=dataset5.dropna(subset=['District_Name','School_Name'])\n",
        "dataset5=dataset5.drop(['Percent_Greater_1500'],axis=1)\n",
        "dataset5['year']=2014\n",
        "dataset5=dataset5.replace('*',np.nan)\n",
        "dataset5.head()"
      ],
      "execution_count": null,
      "outputs": [
        {
          "output_type": "execute_result",
          "data": {
            "text/html": [
              "<div>\n",
              "<style scoped>\n",
              "    .dataframe tbody tr th:only-of-type {\n",
              "        vertical-align: middle;\n",
              "    }\n",
              "\n",
              "    .dataframe tbody tr th {\n",
              "        vertical-align: top;\n",
              "    }\n",
              "\n",
              "    .dataframe thead th {\n",
              "        text-align: right;\n",
              "    }\n",
              "</style>\n",
              "<table border=\"1\" class=\"dataframe\">\n",
              "  <thead>\n",
              "    <tr style=\"text-align: right;\">\n",
              "      <th></th>\n",
              "      <th>CDS</th>\n",
              "      <th>School_Name</th>\n",
              "      <th>District_Name</th>\n",
              "      <th>County_Name</th>\n",
              "      <th>Grade_12</th>\n",
              "      <th>Number_Tested</th>\n",
              "      <th>Verbal_Mean</th>\n",
              "      <th>Math_Mean</th>\n",
              "      <th>Writing_Mean</th>\n",
              "      <th>Num_Greater_1500</th>\n",
              "      <th>year</th>\n",
              "    </tr>\n",
              "  </thead>\n",
              "  <tbody>\n",
              "    <tr>\n",
              "      <th>3</th>\n",
              "      <td>1100170109835</td>\n",
              "      <td>FAME Public Charter</td>\n",
              "      <td>Alameda County Office of Education</td>\n",
              "      <td>Alameda</td>\n",
              "      <td>62</td>\n",
              "      <td>17</td>\n",
              "      <td>503</td>\n",
              "      <td>546</td>\n",
              "      <td>505</td>\n",
              "      <td>9</td>\n",
              "      <td>2014</td>\n",
              "    </tr>\n",
              "    <tr>\n",
              "      <th>4</th>\n",
              "      <td>1100170112607</td>\n",
              "      <td>Envision Academy for Arts &amp; Technology</td>\n",
              "      <td>Alameda County Office of Education</td>\n",
              "      <td>Alameda</td>\n",
              "      <td>75</td>\n",
              "      <td>71</td>\n",
              "      <td>397</td>\n",
              "      <td>387</td>\n",
              "      <td>395</td>\n",
              "      <td>5</td>\n",
              "      <td>2014</td>\n",
              "    </tr>\n",
              "    <tr>\n",
              "      <th>5</th>\n",
              "      <td>1100170118489</td>\n",
              "      <td>Aspire California College Preparatory Academy</td>\n",
              "      <td>Alameda County Office of Education</td>\n",
              "      <td>Alameda</td>\n",
              "      <td>61</td>\n",
              "      <td>0</td>\n",
              "      <td>NaN</td>\n",
              "      <td>NaN</td>\n",
              "      <td>NaN</td>\n",
              "      <td>NaN</td>\n",
              "      <td>2014</td>\n",
              "    </tr>\n",
              "    <tr>\n",
              "      <th>7</th>\n",
              "      <td>1611190106401</td>\n",
              "      <td>Alameda Science and Technology Institute</td>\n",
              "      <td>Alameda Unified</td>\n",
              "      <td>Alameda</td>\n",
              "      <td>36</td>\n",
              "      <td>36</td>\n",
              "      <td>562</td>\n",
              "      <td>590</td>\n",
              "      <td>555</td>\n",
              "      <td>29</td>\n",
              "      <td>2014</td>\n",
              "    </tr>\n",
              "    <tr>\n",
              "      <th>8</th>\n",
              "      <td>1611190119222</td>\n",
              "      <td>Nea Community Learning Center</td>\n",
              "      <td>Alameda Unified</td>\n",
              "      <td>Alameda</td>\n",
              "      <td>12</td>\n",
              "      <td>6</td>\n",
              "      <td>NaN</td>\n",
              "      <td>NaN</td>\n",
              "      <td>NaN</td>\n",
              "      <td>NaN</td>\n",
              "      <td>2014</td>\n",
              "    </tr>\n",
              "  </tbody>\n",
              "</table>\n",
              "</div>"
            ],
            "text/plain": [
              "             CDS  ...  year\n",
              "3  1100170109835  ...  2014\n",
              "4  1100170112607  ...  2014\n",
              "5  1100170118489  ...  2014\n",
              "7  1611190106401  ...  2014\n",
              "8  1611190119222  ...  2014\n",
              "\n",
              "[5 rows x 11 columns]"
            ]
          },
          "metadata": {
            "tags": []
          },
          "execution_count": 40
        }
      ]
    },
    {
      "cell_type": "code",
      "metadata": {
        "id": "2UNxFBlDakhi",
        "colab": {
          "base_uri": "https://localhost:8080/"
        },
        "outputId": "1f4afb1f-7134-48d0-93c8-870181d91336"
      },
      "source": [
        "dataset5.isna().sum()"
      ],
      "execution_count": null,
      "outputs": [
        {
          "output_type": "execute_result",
          "data": {
            "text/plain": [
              "CDS                   0\n",
              "School_Name           0\n",
              "District_Name         0\n",
              "County_Name           0\n",
              "Grade_12              0\n",
              "Number_Tested         0\n",
              "Verbal_Mean         499\n",
              "Math_Mean           499\n",
              "Writing_Mean        499\n",
              "Num_Greater_1500    499\n",
              "year                  0\n",
              "dtype: int64"
            ]
          },
          "metadata": {
            "tags": []
          },
          "execution_count": 41
        }
      ]
    },
    {
      "cell_type": "code",
      "metadata": {
        "id": "RaGEYv3Eao6p"
      },
      "source": [
        "dataset5=dataset5.fillna(0)\n",
        "dataset5['Verbal_Mean']=dataset5['Verbal_Mean'].astype('int64')\n",
        "dataset5['Math_Mean']=dataset5['Math_Mean'].astype('int64')\n",
        "dataset5['Writing_Mean']=dataset5['Writing_Mean'].astype('int64')\n",
        "dataset5['Total_Mean']=dataset5['Verbal_Mean']+dataset5['Math_Mean']+dataset5['Writing_Mean']\n",
        "dataset5['Total_Mean']=dataset5['Total_Mean'].astype('int64')"
      ],
      "execution_count": null,
      "outputs": []
    },
    {
      "cell_type": "code",
      "metadata": {
        "id": "l0HsolBFasAq",
        "colab": {
          "base_uri": "https://localhost:8080/",
          "height": 374
        },
        "outputId": "e6bc37a5-29f4-4ae1-d679-a98038a51e79"
      },
      "source": [
        "dataset5.head()"
      ],
      "execution_count": null,
      "outputs": [
        {
          "output_type": "execute_result",
          "data": {
            "text/html": [
              "<div>\n",
              "<style scoped>\n",
              "    .dataframe tbody tr th:only-of-type {\n",
              "        vertical-align: middle;\n",
              "    }\n",
              "\n",
              "    .dataframe tbody tr th {\n",
              "        vertical-align: top;\n",
              "    }\n",
              "\n",
              "    .dataframe thead th {\n",
              "        text-align: right;\n",
              "    }\n",
              "</style>\n",
              "<table border=\"1\" class=\"dataframe\">\n",
              "  <thead>\n",
              "    <tr style=\"text-align: right;\">\n",
              "      <th></th>\n",
              "      <th>CDS</th>\n",
              "      <th>School_Name</th>\n",
              "      <th>District_Name</th>\n",
              "      <th>County_Name</th>\n",
              "      <th>Grade_12</th>\n",
              "      <th>Number_Tested</th>\n",
              "      <th>Verbal_Mean</th>\n",
              "      <th>Math_Mean</th>\n",
              "      <th>Writing_Mean</th>\n",
              "      <th>Num_Greater_1500</th>\n",
              "      <th>year</th>\n",
              "      <th>Total_Mean</th>\n",
              "    </tr>\n",
              "  </thead>\n",
              "  <tbody>\n",
              "    <tr>\n",
              "      <th>3</th>\n",
              "      <td>1100170109835</td>\n",
              "      <td>FAME Public Charter</td>\n",
              "      <td>Alameda County Office of Education</td>\n",
              "      <td>Alameda</td>\n",
              "      <td>62</td>\n",
              "      <td>17</td>\n",
              "      <td>503</td>\n",
              "      <td>546</td>\n",
              "      <td>505</td>\n",
              "      <td>9</td>\n",
              "      <td>2014</td>\n",
              "      <td>1554</td>\n",
              "    </tr>\n",
              "    <tr>\n",
              "      <th>4</th>\n",
              "      <td>1100170112607</td>\n",
              "      <td>Envision Academy for Arts &amp; Technology</td>\n",
              "      <td>Alameda County Office of Education</td>\n",
              "      <td>Alameda</td>\n",
              "      <td>75</td>\n",
              "      <td>71</td>\n",
              "      <td>397</td>\n",
              "      <td>387</td>\n",
              "      <td>395</td>\n",
              "      <td>5</td>\n",
              "      <td>2014</td>\n",
              "      <td>1179</td>\n",
              "    </tr>\n",
              "    <tr>\n",
              "      <th>5</th>\n",
              "      <td>1100170118489</td>\n",
              "      <td>Aspire California College Preparatory Academy</td>\n",
              "      <td>Alameda County Office of Education</td>\n",
              "      <td>Alameda</td>\n",
              "      <td>61</td>\n",
              "      <td>0</td>\n",
              "      <td>0</td>\n",
              "      <td>0</td>\n",
              "      <td>0</td>\n",
              "      <td>0</td>\n",
              "      <td>2014</td>\n",
              "      <td>0</td>\n",
              "    </tr>\n",
              "    <tr>\n",
              "      <th>7</th>\n",
              "      <td>1611190106401</td>\n",
              "      <td>Alameda Science and Technology Institute</td>\n",
              "      <td>Alameda Unified</td>\n",
              "      <td>Alameda</td>\n",
              "      <td>36</td>\n",
              "      <td>36</td>\n",
              "      <td>562</td>\n",
              "      <td>590</td>\n",
              "      <td>555</td>\n",
              "      <td>29</td>\n",
              "      <td>2014</td>\n",
              "      <td>1707</td>\n",
              "    </tr>\n",
              "    <tr>\n",
              "      <th>8</th>\n",
              "      <td>1611190119222</td>\n",
              "      <td>Nea Community Learning Center</td>\n",
              "      <td>Alameda Unified</td>\n",
              "      <td>Alameda</td>\n",
              "      <td>12</td>\n",
              "      <td>6</td>\n",
              "      <td>0</td>\n",
              "      <td>0</td>\n",
              "      <td>0</td>\n",
              "      <td>0</td>\n",
              "      <td>2014</td>\n",
              "      <td>0</td>\n",
              "    </tr>\n",
              "  </tbody>\n",
              "</table>\n",
              "</div>"
            ],
            "text/plain": [
              "             CDS  ... Total_Mean\n",
              "3  1100170109835  ...       1554\n",
              "4  1100170112607  ...       1179\n",
              "5  1100170118489  ...          0\n",
              "7  1611190106401  ...       1707\n",
              "8  1611190119222  ...          0\n",
              "\n",
              "[5 rows x 12 columns]"
            ]
          },
          "metadata": {
            "tags": []
          },
          "execution_count": 43
        }
      ]
    },
    {
      "cell_type": "code",
      "metadata": {
        "id": "oTFRL1cYav5x",
        "colab": {
          "base_uri": "https://localhost:8080/",
          "height": 238
        },
        "outputId": "0397cfb2-1a03-474c-8ac7-6dba3f9266b5"
      },
      "source": [
        "dataset6.head()"
      ],
      "execution_count": null,
      "outputs": [
        {
          "output_type": "execute_result",
          "data": {
            "text/html": [
              "<div>\n",
              "<style scoped>\n",
              "    .dataframe tbody tr th:only-of-type {\n",
              "        vertical-align: middle;\n",
              "    }\n",
              "\n",
              "    .dataframe tbody tr th {\n",
              "        vertical-align: top;\n",
              "    }\n",
              "\n",
              "    .dataframe thead th {\n",
              "        text-align: right;\n",
              "    }\n",
              "</style>\n",
              "<table border=\"1\" class=\"dataframe\">\n",
              "  <thead>\n",
              "    <tr style=\"text-align: right;\">\n",
              "      <th></th>\n",
              "      <th>cds</th>\n",
              "      <th>rtype</th>\n",
              "      <th>sname</th>\n",
              "      <th>dname</th>\n",
              "      <th>cname</th>\n",
              "      <th>enroll12</th>\n",
              "      <th>NumTstTakr</th>\n",
              "      <th>AvgScrRead</th>\n",
              "      <th>AvgScrMath</th>\n",
              "      <th>AvgScrWrit</th>\n",
              "      <th>NumGE1500</th>\n",
              "      <th>PctGE1500</th>\n",
              "      <th>year</th>\n",
              "    </tr>\n",
              "  </thead>\n",
              "  <tbody>\n",
              "    <tr>\n",
              "      <th>0</th>\n",
              "      <td>0</td>\n",
              "      <td>X</td>\n",
              "      <td>NaN</td>\n",
              "      <td>NaN</td>\n",
              "      <td>NaN</td>\n",
              "      <td>492835</td>\n",
              "      <td>214262</td>\n",
              "      <td>484</td>\n",
              "      <td>494</td>\n",
              "      <td>477</td>\n",
              "      <td>89840</td>\n",
              "      <td>41.93</td>\n",
              "      <td>1516</td>\n",
              "    </tr>\n",
              "    <tr>\n",
              "      <th>1</th>\n",
              "      <td>1000000000000</td>\n",
              "      <td>C</td>\n",
              "      <td>NaN</td>\n",
              "      <td>NaN</td>\n",
              "      <td>Alameda</td>\n",
              "      <td>16662</td>\n",
              "      <td>8611</td>\n",
              "      <td>517</td>\n",
              "      <td>534</td>\n",
              "      <td>515</td>\n",
              "      <td>4696</td>\n",
              "      <td>54.53</td>\n",
              "      <td>1516</td>\n",
              "    </tr>\n",
              "    <tr>\n",
              "      <th>2</th>\n",
              "      <td>1100170000000</td>\n",
              "      <td>D</td>\n",
              "      <td>NaN</td>\n",
              "      <td>Alameda County Office of Education</td>\n",
              "      <td>Alameda</td>\n",
              "      <td>263</td>\n",
              "      <td>95</td>\n",
              "      <td>395</td>\n",
              "      <td>378</td>\n",
              "      <td>388</td>\n",
              "      <td>6</td>\n",
              "      <td>6.32</td>\n",
              "      <td>1516</td>\n",
              "    </tr>\n",
              "    <tr>\n",
              "      <th>3</th>\n",
              "      <td>1100170112607</td>\n",
              "      <td>S</td>\n",
              "      <td>Envision Academy for Arts &amp; Technology</td>\n",
              "      <td>Alameda County Office of Education</td>\n",
              "      <td>Alameda</td>\n",
              "      <td>88</td>\n",
              "      <td>92</td>\n",
              "      <td>391</td>\n",
              "      <td>376</td>\n",
              "      <td>386</td>\n",
              "      <td>5</td>\n",
              "      <td>5.43</td>\n",
              "      <td>1516</td>\n",
              "    </tr>\n",
              "    <tr>\n",
              "      <th>4</th>\n",
              "      <td>1611190000000</td>\n",
              "      <td>D</td>\n",
              "      <td>NaN</td>\n",
              "      <td>Alameda Unified</td>\n",
              "      <td>Alameda</td>\n",
              "      <td>858</td>\n",
              "      <td>472</td>\n",
              "      <td>527</td>\n",
              "      <td>543</td>\n",
              "      <td>514</td>\n",
              "      <td>301</td>\n",
              "      <td>63.77</td>\n",
              "      <td>1516</td>\n",
              "    </tr>\n",
              "  </tbody>\n",
              "</table>\n",
              "</div>"
            ],
            "text/plain": [
              "             cds rtype  ... PctGE1500  year\n",
              "0              0     X  ...     41.93  1516\n",
              "1  1000000000000     C  ...     54.53  1516\n",
              "2  1100170000000     D  ...      6.32  1516\n",
              "3  1100170112607     S  ...      5.43  1516\n",
              "4  1611190000000     D  ...     63.77  1516\n",
              "\n",
              "[5 rows x 13 columns]"
            ]
          },
          "metadata": {
            "tags": []
          },
          "execution_count": 44
        }
      ]
    },
    {
      "cell_type": "code",
      "metadata": {
        "id": "oGoPQkk_ayal",
        "colab": {
          "base_uri": "https://localhost:8080/",
          "height": 272
        },
        "outputId": "4ed54314-4ba1-4100-8250-724326bb6d5c"
      },
      "source": [
        "dataset6=dataset6.drop([\"rtype\",\"year\"],axis=1)\n",
        "dataset6.columns=['CDS','School_Name','District_Name','County_Name','Grade_12','Number_Tested','Verbal_Mean','Math_Mean','Writing_Mean','Num_Greater_1500','Percent_Greater_1500']\n",
        "#dataset6=dataset6[['CDS','County_Name','District_Name','School_Name','Grade_12','Number_Tested','Verbal_Mean','Math_Mean','Writing_Mean','Num_Greater_1500','Percent_Greater_1500']]\n",
        "dataset6=dataset6.dropna(subset=['District_Name','School_Name'])\n",
        "dataset6['year']=2015\n",
        "dataset6=dataset6.replace('*',np.nan)\n",
        "dataset6=dataset6.drop(['Percent_Greater_1500'],axis=1)\n",
        "dataset6.head()"
      ],
      "execution_count": null,
      "outputs": [
        {
          "output_type": "execute_result",
          "data": {
            "text/html": [
              "<div>\n",
              "<style scoped>\n",
              "    .dataframe tbody tr th:only-of-type {\n",
              "        vertical-align: middle;\n",
              "    }\n",
              "\n",
              "    .dataframe tbody tr th {\n",
              "        vertical-align: top;\n",
              "    }\n",
              "\n",
              "    .dataframe thead th {\n",
              "        text-align: right;\n",
              "    }\n",
              "</style>\n",
              "<table border=\"1\" class=\"dataframe\">\n",
              "  <thead>\n",
              "    <tr style=\"text-align: right;\">\n",
              "      <th></th>\n",
              "      <th>CDS</th>\n",
              "      <th>School_Name</th>\n",
              "      <th>District_Name</th>\n",
              "      <th>County_Name</th>\n",
              "      <th>Grade_12</th>\n",
              "      <th>Number_Tested</th>\n",
              "      <th>Verbal_Mean</th>\n",
              "      <th>Math_Mean</th>\n",
              "      <th>Writing_Mean</th>\n",
              "      <th>Num_Greater_1500</th>\n",
              "      <th>year</th>\n",
              "    </tr>\n",
              "  </thead>\n",
              "  <tbody>\n",
              "    <tr>\n",
              "      <th>3</th>\n",
              "      <td>1100170112607</td>\n",
              "      <td>Envision Academy for Arts &amp; Technology</td>\n",
              "      <td>Alameda County Office of Education</td>\n",
              "      <td>Alameda</td>\n",
              "      <td>88</td>\n",
              "      <td>92</td>\n",
              "      <td>391</td>\n",
              "      <td>376</td>\n",
              "      <td>386</td>\n",
              "      <td>5</td>\n",
              "      <td>2015</td>\n",
              "    </tr>\n",
              "    <tr>\n",
              "      <th>5</th>\n",
              "      <td>1611190106401</td>\n",
              "      <td>Alameda Science and Technology Institute</td>\n",
              "      <td>Alameda Unified</td>\n",
              "      <td>Alameda</td>\n",
              "      <td>37</td>\n",
              "      <td>35</td>\n",
              "      <td>572</td>\n",
              "      <td>612</td>\n",
              "      <td>530</td>\n",
              "      <td>30</td>\n",
              "      <td>2015</td>\n",
              "    </tr>\n",
              "    <tr>\n",
              "      <th>6</th>\n",
              "      <td>1611190119222</td>\n",
              "      <td>Nea Community Learning Center</td>\n",
              "      <td>Alameda Unified</td>\n",
              "      <td>Alameda</td>\n",
              "      <td>25</td>\n",
              "      <td>14</td>\n",
              "      <td>NaN</td>\n",
              "      <td>NaN</td>\n",
              "      <td>NaN</td>\n",
              "      <td>NaN</td>\n",
              "      <td>2015</td>\n",
              "    </tr>\n",
              "    <tr>\n",
              "      <th>7</th>\n",
              "      <td>1611190130229</td>\n",
              "      <td>Alameda High</td>\n",
              "      <td>Alameda Unified</td>\n",
              "      <td>Alameda</td>\n",
              "      <td>381</td>\n",
              "      <td>255</td>\n",
              "      <td>539</td>\n",
              "      <td>562</td>\n",
              "      <td>533</td>\n",
              "      <td>180</td>\n",
              "      <td>2015</td>\n",
              "    </tr>\n",
              "    <tr>\n",
              "      <th>8</th>\n",
              "      <td>1611190130609</td>\n",
              "      <td>Alameda Community Learning Center</td>\n",
              "      <td>Alameda Unified</td>\n",
              "      <td>Alameda</td>\n",
              "      <td>52</td>\n",
              "      <td>46</td>\n",
              "      <td>538</td>\n",
              "      <td>539</td>\n",
              "      <td>516</td>\n",
              "      <td>30</td>\n",
              "      <td>2015</td>\n",
              "    </tr>\n",
              "  </tbody>\n",
              "</table>\n",
              "</div>"
            ],
            "text/plain": [
              "             CDS  ...  year\n",
              "3  1100170112607  ...  2015\n",
              "5  1611190106401  ...  2015\n",
              "6  1611190119222  ...  2015\n",
              "7  1611190130229  ...  2015\n",
              "8  1611190130609  ...  2015\n",
              "\n",
              "[5 rows x 11 columns]"
            ]
          },
          "metadata": {
            "tags": []
          },
          "execution_count": 45
        }
      ]
    },
    {
      "cell_type": "code",
      "metadata": {
        "id": "xmMV3JcAa5bI",
        "colab": {
          "base_uri": "https://localhost:8080/"
        },
        "outputId": "47c0cdc9-d695-46f0-c1c6-be2ec94dbabb"
      },
      "source": [
        "dataset6.isna().sum()"
      ],
      "execution_count": null,
      "outputs": [
        {
          "output_type": "execute_result",
          "data": {
            "text/plain": [
              "CDS                   0\n",
              "School_Name           0\n",
              "District_Name         0\n",
              "County_Name           0\n",
              "Grade_12              0\n",
              "Number_Tested         0\n",
              "Verbal_Mean         502\n",
              "Math_Mean           502\n",
              "Writing_Mean        502\n",
              "Num_Greater_1500    502\n",
              "year                  0\n",
              "dtype: int64"
            ]
          },
          "metadata": {
            "tags": []
          },
          "execution_count": 46
        }
      ]
    },
    {
      "cell_type": "code",
      "metadata": {
        "id": "ELRWJAasbBqh"
      },
      "source": [
        "dataset6=dataset6.fillna(0) \n",
        "dataset6['Verbal_Mean']=dataset6['Verbal_Mean'].astype('int64')\n",
        "dataset6['Math_Mean']=dataset6['Math_Mean'].astype('int64')\n",
        "dataset6['Writing_Mean']=dataset6['Writing_Mean'].astype('int64')\n",
        "dataset6['Total_Mean']=dataset6['Verbal_Mean']+dataset6['Math_Mean']+dataset6['Writing_Mean']\n",
        "dataset6['Total_Mean']=dataset6['Total_Mean'].astype('int64')"
      ],
      "execution_count": null,
      "outputs": []
    },
    {
      "cell_type": "code",
      "metadata": {
        "id": "QokREXx0bEMk",
        "colab": {
          "base_uri": "https://localhost:8080/",
          "height": 323
        },
        "outputId": "df7869a8-3d02-4ed8-e28c-dafa856a6c67"
      },
      "source": [
        "dataset6.head()"
      ],
      "execution_count": null,
      "outputs": [
        {
          "output_type": "execute_result",
          "data": {
            "text/html": [
              "<div>\n",
              "<style scoped>\n",
              "    .dataframe tbody tr th:only-of-type {\n",
              "        vertical-align: middle;\n",
              "    }\n",
              "\n",
              "    .dataframe tbody tr th {\n",
              "        vertical-align: top;\n",
              "    }\n",
              "\n",
              "    .dataframe thead th {\n",
              "        text-align: right;\n",
              "    }\n",
              "</style>\n",
              "<table border=\"1\" class=\"dataframe\">\n",
              "  <thead>\n",
              "    <tr style=\"text-align: right;\">\n",
              "      <th></th>\n",
              "      <th>CDS</th>\n",
              "      <th>School_Name</th>\n",
              "      <th>District_Name</th>\n",
              "      <th>County_Name</th>\n",
              "      <th>Grade_12</th>\n",
              "      <th>Number_Tested</th>\n",
              "      <th>Verbal_Mean</th>\n",
              "      <th>Math_Mean</th>\n",
              "      <th>Writing_Mean</th>\n",
              "      <th>Num_Greater_1500</th>\n",
              "      <th>year</th>\n",
              "      <th>Total_Mean</th>\n",
              "    </tr>\n",
              "  </thead>\n",
              "  <tbody>\n",
              "    <tr>\n",
              "      <th>3</th>\n",
              "      <td>1100170112607</td>\n",
              "      <td>Envision Academy for Arts &amp; Technology</td>\n",
              "      <td>Alameda County Office of Education</td>\n",
              "      <td>Alameda</td>\n",
              "      <td>88</td>\n",
              "      <td>92</td>\n",
              "      <td>391</td>\n",
              "      <td>376</td>\n",
              "      <td>386</td>\n",
              "      <td>5</td>\n",
              "      <td>2015</td>\n",
              "      <td>1153</td>\n",
              "    </tr>\n",
              "    <tr>\n",
              "      <th>5</th>\n",
              "      <td>1611190106401</td>\n",
              "      <td>Alameda Science and Technology Institute</td>\n",
              "      <td>Alameda Unified</td>\n",
              "      <td>Alameda</td>\n",
              "      <td>37</td>\n",
              "      <td>35</td>\n",
              "      <td>572</td>\n",
              "      <td>612</td>\n",
              "      <td>530</td>\n",
              "      <td>30</td>\n",
              "      <td>2015</td>\n",
              "      <td>1714</td>\n",
              "    </tr>\n",
              "    <tr>\n",
              "      <th>6</th>\n",
              "      <td>1611190119222</td>\n",
              "      <td>Nea Community Learning Center</td>\n",
              "      <td>Alameda Unified</td>\n",
              "      <td>Alameda</td>\n",
              "      <td>25</td>\n",
              "      <td>14</td>\n",
              "      <td>0</td>\n",
              "      <td>0</td>\n",
              "      <td>0</td>\n",
              "      <td>0</td>\n",
              "      <td>2015</td>\n",
              "      <td>0</td>\n",
              "    </tr>\n",
              "    <tr>\n",
              "      <th>7</th>\n",
              "      <td>1611190130229</td>\n",
              "      <td>Alameda High</td>\n",
              "      <td>Alameda Unified</td>\n",
              "      <td>Alameda</td>\n",
              "      <td>381</td>\n",
              "      <td>255</td>\n",
              "      <td>539</td>\n",
              "      <td>562</td>\n",
              "      <td>533</td>\n",
              "      <td>180</td>\n",
              "      <td>2015</td>\n",
              "      <td>1634</td>\n",
              "    </tr>\n",
              "    <tr>\n",
              "      <th>8</th>\n",
              "      <td>1611190130609</td>\n",
              "      <td>Alameda Community Learning Center</td>\n",
              "      <td>Alameda Unified</td>\n",
              "      <td>Alameda</td>\n",
              "      <td>52</td>\n",
              "      <td>46</td>\n",
              "      <td>538</td>\n",
              "      <td>539</td>\n",
              "      <td>516</td>\n",
              "      <td>30</td>\n",
              "      <td>2015</td>\n",
              "      <td>1593</td>\n",
              "    </tr>\n",
              "  </tbody>\n",
              "</table>\n",
              "</div>"
            ],
            "text/plain": [
              "             CDS                               School_Name  ...  year Total_Mean\n",
              "3  1100170112607    Envision Academy for Arts & Technology  ...  2015       1153\n",
              "5  1611190106401  Alameda Science and Technology Institute  ...  2015       1714\n",
              "6  1611190119222             Nea Community Learning Center  ...  2015          0\n",
              "7  1611190130229                              Alameda High  ...  2015       1634\n",
              "8  1611190130609         Alameda Community Learning Center  ...  2015       1593\n",
              "\n",
              "[5 rows x 12 columns]"
            ]
          },
          "metadata": {
            "tags": []
          },
          "execution_count": 48
        }
      ]
    },
    {
      "cell_type": "code",
      "metadata": {
        "id": "tJy1jl4ubG8T"
      },
      "source": [
        "merged_table=pd.merge(dataset1,dataset2,on=['CDS','County_Name','District_Name','School_Name','Grade_12','Number_Tested','Verbal_Mean','Math_Mean','Writing_Mean','Total_Mean','Num_Greater_1500','year'],how='outer')"
      ],
      "execution_count": null,
      "outputs": []
    },
    {
      "cell_type": "code",
      "metadata": {
        "id": "RCXMWg7tbZMK",
        "colab": {
          "base_uri": "https://localhost:8080/"
        },
        "outputId": "c706b890-6ba4-4c27-a57f-b77137fd8b30"
      },
      "source": [
        "merged_table.shape"
      ],
      "execution_count": null,
      "outputs": [
        {
          "output_type": "execute_result",
          "data": {
            "text/plain": [
              "(4896, 12)"
            ]
          },
          "metadata": {
            "tags": []
          },
          "execution_count": 50
        }
      ]
    },
    {
      "cell_type": "code",
      "metadata": {
        "id": "ExwiMY-7cmei"
      },
      "source": [
        "merged_table1=pd.merge(merged_table,dataset3,on=['CDS','County_Name','District_Name','School_Name','Grade_12','Number_Tested','Verbal_Mean','Math_Mean','Writing_Mean','Total_Mean','Num_Greater_1500','year'],how='outer')"
      ],
      "execution_count": null,
      "outputs": []
    },
    {
      "cell_type": "code",
      "metadata": {
        "id": "jigNR7WycoqP",
        "colab": {
          "base_uri": "https://localhost:8080/"
        },
        "outputId": "b0644216-75ca-4908-adf8-f9bd3a64ba58"
      },
      "source": [
        "merged_table1.shape"
      ],
      "execution_count": null,
      "outputs": [
        {
          "output_type": "execute_result",
          "data": {
            "text/plain": [
              "(7487, 12)"
            ]
          },
          "metadata": {
            "tags": []
          },
          "execution_count": 52
        }
      ]
    },
    {
      "cell_type": "code",
      "metadata": {
        "id": "P5fUBqQ9cuTp",
        "colab": {
          "base_uri": "https://localhost:8080/"
        },
        "outputId": "07dc93cd-c434-4165-e845-2ecd723016e8"
      },
      "source": [
        "merged_table1.dtypes"
      ],
      "execution_count": null,
      "outputs": [
        {
          "output_type": "execute_result",
          "data": {
            "text/plain": [
              "CDS                  object\n",
              "County_Name          object\n",
              "District_Name        object\n",
              "School_Name          object\n",
              "Grade_12              int64\n",
              "Number_Tested       float64\n",
              "Verbal_Mean           int64\n",
              "Math_Mean             int64\n",
              "Writing_Mean          int64\n",
              "Total_Mean            int64\n",
              "Num_Greater_1500    float64\n",
              "year                  int64\n",
              "dtype: object"
            ]
          },
          "metadata": {
            "tags": []
          },
          "execution_count": 53
        }
      ]
    },
    {
      "cell_type": "code",
      "metadata": {
        "id": "LAIyMjSmdPNV",
        "colab": {
          "base_uri": "https://localhost:8080/"
        },
        "outputId": "8163a08b-8547-495b-8a5b-b59944b1b6c0"
      },
      "source": [
        "dataset4.dtypes"
      ],
      "execution_count": null,
      "outputs": [
        {
          "output_type": "execute_result",
          "data": {
            "text/plain": [
              "CDS                  int64\n",
              "School_Name         object\n",
              "District_Name       object\n",
              "County_Name         object\n",
              "Grade_12             int64\n",
              "Number_Tested        int64\n",
              "Verbal_Mean          int64\n",
              "Math_Mean            int64\n",
              "Writing_Mean         int64\n",
              "Num_Greater_1500    object\n",
              "year                 int64\n",
              "Total_Mean           int64\n",
              "dtype: object"
            ]
          },
          "metadata": {
            "tags": []
          },
          "execution_count": 54
        }
      ]
    },
    {
      "cell_type": "code",
      "metadata": {
        "id": "smHH8vmBdiK2"
      },
      "source": [
        "merged_table1['CDS']=merged_table1['CDS'].astype('int64')\n",
        "merged_table1['Number_Tested']=merged_table1['Number_Tested'].astype('int64')\n",
        "merged_table1['Num_Greater_1500']=merged_table1['Num_Greater_1500'].astype('int64')"
      ],
      "execution_count": null,
      "outputs": []
    },
    {
      "cell_type": "code",
      "metadata": {
        "id": "njAqtu3pc_UH"
      },
      "source": [
        "merged_table2=pd.merge(merged_table1,dataset4,on=['CDS','County_Name','District_Name','School_Name','Grade_12','Number_Tested','Verbal_Mean','Math_Mean','Writing_Mean','Total_Mean','Num_Greater_1500','year'],how='outer')"
      ],
      "execution_count": null,
      "outputs": []
    },
    {
      "cell_type": "code",
      "metadata": {
        "id": "LxCRsErMbX6O"
      },
      "source": [
        "merged_table3=pd.merge(merged_table2,dataset5,on=['CDS','County_Name','District_Name','School_Name','Grade_12','Number_Tested','Verbal_Mean','Math_Mean','Writing_Mean','Total_Mean','Num_Greater_1500','year'],how='outer')"
      ],
      "execution_count": null,
      "outputs": []
    },
    {
      "cell_type": "code",
      "metadata": {
        "id": "RU5IuZMjeeHB",
        "colab": {
          "base_uri": "https://localhost:8080/",
          "height": 340
        },
        "outputId": "62e50d4e-2ac6-4b4a-e4f2-eeb9ce4a88c8"
      },
      "source": [
        "merged_table4=pd.merge(merged_table3,dataset6,on=['CDS','County_Name','District_Name','School_Name','Grade_12','Number_Tested','Verbal_Mean','Math_Mean','Writing_Mean','Total_Mean','Num_Greater_1500','year'],how='outer')\n",
        "merged_table4.head()"
      ],
      "execution_count": null,
      "outputs": [
        {
          "output_type": "execute_result",
          "data": {
            "text/html": [
              "<div>\n",
              "<style scoped>\n",
              "    .dataframe tbody tr th:only-of-type {\n",
              "        vertical-align: middle;\n",
              "    }\n",
              "\n",
              "    .dataframe tbody tr th {\n",
              "        vertical-align: top;\n",
              "    }\n",
              "\n",
              "    .dataframe thead th {\n",
              "        text-align: right;\n",
              "    }\n",
              "</style>\n",
              "<table border=\"1\" class=\"dataframe\">\n",
              "  <thead>\n",
              "    <tr style=\"text-align: right;\">\n",
              "      <th></th>\n",
              "      <th>CDS</th>\n",
              "      <th>County_Name</th>\n",
              "      <th>District_Name</th>\n",
              "      <th>School_Name</th>\n",
              "      <th>Grade_12</th>\n",
              "      <th>Number_Tested</th>\n",
              "      <th>Verbal_Mean</th>\n",
              "      <th>Math_Mean</th>\n",
              "      <th>Writing_Mean</th>\n",
              "      <th>Total_Mean</th>\n",
              "      <th>Num_Greater_1500</th>\n",
              "      <th>year</th>\n",
              "    </tr>\n",
              "  </thead>\n",
              "  <tbody>\n",
              "    <tr>\n",
              "      <th>0</th>\n",
              "      <td>110017109835</td>\n",
              "      <td>Alameda</td>\n",
              "      <td>Alameda County Office of Educa</td>\n",
              "      <td>FAME Public Charter</td>\n",
              "      <td>64</td>\n",
              "      <td>18</td>\n",
              "      <td>530</td>\n",
              "      <td>529</td>\n",
              "      <td>526</td>\n",
              "      <td>1585</td>\n",
              "      <td>12.0</td>\n",
              "      <td>2010</td>\n",
              "    </tr>\n",
              "    <tr>\n",
              "      <th>1</th>\n",
              "      <td>110017112607</td>\n",
              "      <td>Alameda</td>\n",
              "      <td>Alameda County Office of Educa</td>\n",
              "      <td>Envision Academy for Arts &amp; Technology</td>\n",
              "      <td>38</td>\n",
              "      <td>35</td>\n",
              "      <td>381</td>\n",
              "      <td>372</td>\n",
              "      <td>381</td>\n",
              "      <td>1134</td>\n",
              "      <td>2.0</td>\n",
              "      <td>2010</td>\n",
              "    </tr>\n",
              "    <tr>\n",
              "      <th>2</th>\n",
              "      <td>110017118489</td>\n",
              "      <td>Alameda</td>\n",
              "      <td>Alameda County Office of Educa</td>\n",
              "      <td>Aspire California College Preparatory Ac</td>\n",
              "      <td>20</td>\n",
              "      <td>0</td>\n",
              "      <td>0</td>\n",
              "      <td>0</td>\n",
              "      <td>0</td>\n",
              "      <td>0</td>\n",
              "      <td>0.0</td>\n",
              "      <td>2010</td>\n",
              "    </tr>\n",
              "    <tr>\n",
              "      <th>3</th>\n",
              "      <td>110017130401</td>\n",
              "      <td>Alameda</td>\n",
              "      <td>Alameda County Office of Educa</td>\n",
              "      <td>Alameda County Juvenile Hall/Court</td>\n",
              "      <td>131</td>\n",
              "      <td>0</td>\n",
              "      <td>0</td>\n",
              "      <td>0</td>\n",
              "      <td>0</td>\n",
              "      <td>0</td>\n",
              "      <td>0.0</td>\n",
              "      <td>2010</td>\n",
              "    </tr>\n",
              "    <tr>\n",
              "      <th>4</th>\n",
              "      <td>110017130419</td>\n",
              "      <td>Alameda</td>\n",
              "      <td>Alameda County Office of Educa</td>\n",
              "      <td>Alameda County Community</td>\n",
              "      <td>25</td>\n",
              "      <td>0</td>\n",
              "      <td>0</td>\n",
              "      <td>0</td>\n",
              "      <td>0</td>\n",
              "      <td>0</td>\n",
              "      <td>0.0</td>\n",
              "      <td>2010</td>\n",
              "    </tr>\n",
              "  </tbody>\n",
              "</table>\n",
              "</div>"
            ],
            "text/plain": [
              "            CDS County_Name  ... Num_Greater_1500  year\n",
              "0  110017109835     Alameda  ...             12.0  2010\n",
              "1  110017112607     Alameda  ...              2.0  2010\n",
              "2  110017118489     Alameda  ...              0.0  2010\n",
              "3  110017130401     Alameda  ...              0.0  2010\n",
              "4  110017130419     Alameda  ...              0.0  2010\n",
              "\n",
              "[5 rows x 12 columns]"
            ]
          },
          "metadata": {
            "tags": []
          },
          "execution_count": 58
        }
      ]
    },
    {
      "cell_type": "code",
      "metadata": {
        "id": "KX1v2-_ZefS-",
        "colab": {
          "base_uri": "https://localhost:8080/"
        },
        "outputId": "495cbf68-60a0-456a-b7c2-c5c770b93798"
      },
      "source": [
        "merged_table4.shape"
      ],
      "execution_count": null,
      "outputs": [
        {
          "output_type": "execute_result",
          "data": {
            "text/plain": [
              "(12705, 12)"
            ]
          },
          "metadata": {
            "tags": []
          },
          "execution_count": 59
        }
      ]
    },
    {
      "cell_type": "code",
      "metadata": {
        "id": "Q1UwfXC9fHF0",
        "colab": {
          "base_uri": "https://localhost:8080/"
        },
        "outputId": "1ef7597c-828e-4107-bb05-024593e54a58"
      },
      "source": [
        "merged_table4.info()"
      ],
      "execution_count": null,
      "outputs": [
        {
          "output_type": "stream",
          "text": [
            "<class 'pandas.core.frame.DataFrame'>\n",
            "Int64Index: 12705 entries, 0 to 12704\n",
            "Data columns (total 12 columns):\n",
            " #   Column            Non-Null Count  Dtype  \n",
            "---  ------            --------------  -----  \n",
            " 0   CDS               12705 non-null  int64  \n",
            " 1   County_Name       12705 non-null  object \n",
            " 2   District_Name     12705 non-null  object \n",
            " 3   School_Name       12705 non-null  object \n",
            " 4   Grade_12          12705 non-null  int64  \n",
            " 5   Number_Tested     12705 non-null  int64  \n",
            " 6   Verbal_Mean       12705 non-null  int64  \n",
            " 7   Math_Mean         12705 non-null  int64  \n",
            " 8   Writing_Mean      12705 non-null  int64  \n",
            " 9   Total_Mean        12705 non-null  int64  \n",
            " 10  Num_Greater_1500  12705 non-null  float64\n",
            " 11  year              12705 non-null  int64  \n",
            "dtypes: float64(1), int64(8), object(3)\n",
            "memory usage: 1.3+ MB\n"
          ],
          "name": "stdout"
        }
      ]
    },
    {
      "cell_type": "markdown",
      "metadata": {
        "id": "Fa3a5bu9hwSk"
      },
      "source": [
        "## Hypothesis 1:  Mean Score will increase by at least 10 percent per year :NO"
      ]
    },
    {
      "cell_type": "code",
      "metadata": {
        "id": "6Y_LCsezhKl6",
        "colab": {
          "base_uri": "https://localhost:8080/"
        },
        "outputId": "ae27da29-a6f4-40ba-d60c-4b30709b2e26"
      },
      "source": [
        "change_meanscore=merged_table4.groupby('year')['Total_Mean'].mean()\n",
        "change_meanscore"
      ],
      "execution_count": null,
      "outputs": [
        {
          "output_type": "execute_result",
          "data": {
            "text/plain": [
              "year\n",
              "2010     683.368768\n",
              "2011     688.854192\n",
              "2012     677.969124\n",
              "2013     997.047341\n",
              "2014    1020.163149\n",
              "2015    1011.297035\n",
              "Name: Total_Mean, dtype: float64"
            ]
          },
          "metadata": {
            "tags": []
          },
          "execution_count": 61
        }
      ]
    },
    {
      "cell_type": "code",
      "metadata": {
        "id": "7Bf2OKuIh2hL",
        "colab": {
          "base_uri": "https://localhost:8080/"
        },
        "outputId": "7ed76a40-0ce2-480f-bf9d-e082a57405b4"
      },
      "source": [
        "change_meanscore_perct_change=[]\n",
        "for a, b in zip(change_meanscore[::1], change_meanscore[1::1]):\n",
        "    change_meanscore_perct_change.append(100 * (b - a) / a)\n",
        "change_meanscore_perct_change"
      ],
      "execution_count": null,
      "outputs": [
        {
          "output_type": "execute_result",
          "data": {
            "text/plain": [
              "[0.8027033442033392,\n",
              " -1.580170116824412,\n",
              " 47.06382718656202,\n",
              " 2.3184263381251893,\n",
              " -0.8690878071328363]"
            ]
          },
          "metadata": {
            "tags": []
          },
          "execution_count": 62
        }
      ]
    },
    {
      "cell_type": "code",
      "metadata": {
        "id": "yM4--KSCiI8F",
        "colab": {
          "base_uri": "https://localhost:8080/",
          "height": 295
        },
        "outputId": "ec3cd214-67e2-48ee-f22e-81b0f7428bf7"
      },
      "source": [
        "plt.plot(change_meanscore_perct_change)\n",
        "plt.rcParams['figure.figsize']=(20,10)\n",
        "plt.xlabel('Years')\n",
        "plt.ylabel('The change in percentage')\n",
        "plt.title('Percentage change of Mean Score in years 2010-2015')\n",
        "x=[2011,2012,2013,2014,2015]\n",
        "xi = list(range(len(x)))\n",
        "plt.xticks(xi, x)\n",
        "plt.show()"
      ],
      "execution_count": null,
      "outputs": [
        {
          "output_type": "display_data",
          "data": {
            "image/png": "[encoded data removed]",
            "text/plain": [
              "<Figure size 432x288 with 1 Axes>"
            ]
          },
          "metadata": {
            "tags": [],
            "needs_background": "light"
          }
        }
      ]
    },
    {
      "cell_type": "markdown",
      "metadata": {
        "id": "c76PxtxWlR4-"
      },
      "source": [
        "## Hypothesis 2: Number of takers will increase by at least 15 percent per year : NO"
      ]
    },
    {
      "cell_type": "code",
      "metadata": {
        "id": "Drk_96FaiTzJ",
        "colab": {
          "base_uri": "https://localhost:8080/"
        },
        "outputId": "6ddaecfd-f673-4426-babb-f711c0052d55"
      },
      "source": [
        "change_takers=merged_table4.groupby('year')['Number_Tested'].mean()\n",
        "change_takers"
      ],
      "execution_count": null,
      "outputs": [
        {
          "output_type": "execute_result",
          "data": {
            "text/plain": [
              "year\n",
              "2010     76.072105\n",
              "2011     78.651681\n",
              "2012     77.399846\n",
              "2013    117.552309\n",
              "2014    119.837422\n",
              "2015    121.952109\n",
              "Name: Number_Tested, dtype: float64"
            ]
          },
          "metadata": {
            "tags": []
          },
          "execution_count": 64
        }
      ]
    },
    {
      "cell_type": "code",
      "metadata": {
        "id": "xMKz2wPKmF8m",
        "colab": {
          "base_uri": "https://localhost:8080/"
        },
        "outputId": "e7398554-953d-42bd-ef5b-d5470997210d"
      },
      "source": [
        "change_takers_perct_change=[]\n",
        "for a, b in zip(change_takers[::1], change_takers[1::1]):\n",
        "    change_takers_perct_change.append(100 * (b - a) / a)\n",
        "change_takers_perct_change"
      ],
      "execution_count": null,
      "outputs": [
        {
          "output_type": "execute_result",
          "data": {
            "text/plain": [
              "[3.3909609128769254,\n",
              " -1.591619161327323,\n",
              " 51.87667061951349,\n",
              " 1.9439116074779386,\n",
              " 1.7646306750141256]"
            ]
          },
          "metadata": {
            "tags": []
          },
          "execution_count": 65
        }
      ]
    },
    {
      "cell_type": "code",
      "metadata": {
        "id": "WFw6mJRXmeiq",
        "colab": {
          "base_uri": "https://localhost:8080/",
          "height": 621
        },
        "outputId": "0ef06653-eda8-4343-b6ad-e2fe3b62df5a"
      },
      "source": [
        "plt.plot(change_takers_perct_change)\n",
        "plt.rcParams['figure.figsize']=(20,10)\n",
        "plt.xlabel('Years')\n",
        "plt.ylabel('The change in percentage')\n",
        "plt.title('Percentage change of number of takers in years 2010-2015')\n",
        "x=[2011,2012,2013,2014,2015]\n",
        "xi = list(range(len(x)))\n",
        "plt.xticks(xi, x)\n",
        "plt.show()"
      ],
      "execution_count": null,
      "outputs": [
        {
          "output_type": "display_data",
          "data": {
            "image/png": "[encoded data removed]",
            "text/plain": [
              "<Figure size 1440x720 with 1 Axes>"
            ]
          },
          "metadata": {
            "tags": [],
            "needs_background": "light"
          }
        }
      ]
    },
    {
      "cell_type": "markdown",
      "metadata": {
        "id": "aWRGyi3MnzhP"
      },
      "source": [
        "##Questions to be answered:\n",
        "Which county presented the largest change in the increase of takers?<br>\n",
        "Which county has the largest change in the mean scores and are they same?"
      ]
    },
    {
      "cell_type": "markdown",
      "metadata": {
        "id": "0AWCNafA2ss5"
      },
      "source": [
        "##Which county presented the largest change in the increase of takers?<br>Riverside"
      ]
    },
    {
      "cell_type": "markdown",
      "metadata": {
        "id": "tN_ek5TFrs1S"
      },
      "source": [
        "A dictionary is taken where the list of counties present were appended as keys in dictionary and the number of takers as the values for the keys. This dictionary contained multiple values mapped to one key. The multiple key values are added through iterating the groupby dataframe and accessing them. The groupby Dataframe has a series datatype "
      ]
    },
    {
      "cell_type": "code",
      "metadata": {
        "id": "RCVL1risro_G",
        "colab": {
          "base_uri": "https://localhost:8080/"
        },
        "outputId": "c311cc32-4ffc-4e3e-df69-8896ffa560c7"
      },
      "source": [
        "county_numbertested=merged_table4.groupby(['County_Name','year'])['Number_Tested'].sum()\n",
        "list_of_county=merged_table4['County_Name'].unique()\n",
        "dict_numbertested = {}\n",
        "for i in list_of_county:\n",
        "    dict_numbertested[i] = []\n",
        "for i in county_numbertested.iteritems():\n",
        "    dict_numbertested[i[0][0]].append(i[1])\n",
        "dict_numbertested"
      ],
      "execution_count": null,
      "outputs": [
        {
          "output_type": "execute_result",
          "data": {
            "text/plain": [
              "{'Alameda': [8106, 8521, 8519, 8625, 8855, 8503],\n",
              " 'Alpine': [0, 0],\n",
              " 'Amador': [108, 95, 93, 97, 97, 88],\n",
              " 'Butte': [725, 677, 668, 692, 636, 694],\n",
              " 'Calaveras': [149, 142, 140, 147, 125, 130],\n",
              " 'Colusa': [96, 98, 97, 87, 104, 109],\n",
              " 'Contra Costa': [5765, 5850, 6088, 6869, 7027, 6865],\n",
              " 'Del Norte': [97, 95, 57, 71, 81, 54],\n",
              " 'El Dorado': [931, 1061, 974, 1041, 938, 950],\n",
              " 'Fresno': [4603, 5095, 5240, 5543, 5907, 5992],\n",
              " 'Glenn': [74, 94, 78, 109, 107, 108],\n",
              " 'Humboldt': [463, 479, 444, 413, 469, 443],\n",
              " 'Imperial': [638, 785, 840, 816, 898, 867],\n",
              " 'Inyo': [93, 102, 88, 83, 87, 106],\n",
              " 'Kern': [3597, 3874, 4110, 4076, 4300, 4353],\n",
              " 'Kings': [512, 532, 572, 580, 586, 539],\n",
              " 'Lake': [190, 191, 185, 175, 207, 180],\n",
              " 'Lassen': [80, 81, 75, 85, 87, 83],\n",
              " 'Los Angeles': [50677, 54557, 56566, 54787, 59663, 60396],\n",
              " 'Madera': [483, 587, 606, 602, 782, 710],\n",
              " 'Marin': [1223, 1250, 1345, 1319, 1233, 1167],\n",
              " 'Mariposa': [60, 47, 31, 53, 39, 50],\n",
              " 'Mendocino': [259, 288, 291, 273, 279, 320],\n",
              " 'Merced': [1136, 1246, 1274, 1181, 1494, 1490],\n",
              " 'Modoc': [32, 37, 37, 39, 24, 39],\n",
              " 'Mono': [48, 64, 35, 60, 66, 49],\n",
              " 'Monterey': [1518, 1604, 1582, 1693, 1679, 1686],\n",
              " 'Napa': [586, 607, 626, 663, 652, 737],\n",
              " 'Nevada': [410, 396, 362, 335, 279, 288],\n",
              " 'Orange': [18017, 18185, 18753, 19066, 19076, 17775],\n",
              " 'Placer': [2439, 2503, 2884, 2897, 2851, 2863],\n",
              " 'Plumas': [77, 76, 65, 53, 63, 67],\n",
              " 'Riverside': [10825, 11943, 12476, 12905, 13426, 17763],\n",
              " 'Sacramento': [6628, 6899, 7082, 7240, 7180, 7394],\n",
              " 'San Benito': [291, 258, 308, 281, 305, 328],\n",
              " 'San Bernardino': [9700, 10559, 11127, 11215, 12193, 12832],\n",
              " 'San Diego': [16658, 16985, 17271, 17343, 18042, 18061],\n",
              " 'San Francisco': [2875, 3043, 3107, 2991, 2971, 2872],\n",
              " 'San Joaquin': [3594, 3346, 3461, 3414, 3606, 3771],\n",
              " 'San Luis Obispo': [1085, 1120, 1055, 1012, 1070, 1003],\n",
              " 'San Mateo': [3396, 3366, 3568, 3540, 3425, 3373],\n",
              " 'Santa Barbara': [1635, 1644, 1677, 1755, 1771, 1788],\n",
              " 'Santa Clara': [9738, 10147, 10198, 10531, 10690, 10268],\n",
              " 'Santa Cruz': [993, 1107, 1134, 1116, 1184, 1064],\n",
              " 'Shasta': [527, 515, 534, 500, 469, 503],\n",
              " 'Sierra': [15, 16, 20, 14, 10, 13],\n",
              " 'Siskiyou': [147, 110, 127, 152, 136, 150],\n",
              " 'Solano': [1731, 1733, 1853, 1778, 1678, 1818],\n",
              " 'Sonoma': [1760, 1817, 1866, 1866, 1831, 1909],\n",
              " 'Stanislaus': [2083, 2285, 2586, 2702, 2768, 2789],\n",
              " 'Sutter': [412, 452, 448, 394, 466, 478],\n",
              " 'Tehama': [174, 180, 154, 183, 158, 143],\n",
              " 'Trinity': [56, 59, 54, 66, 35, 31],\n",
              " 'Tulare': [1743, 1892, 2027, 2184, 2318, 2294],\n",
              " 'Tuolumne': [142, 158, 155, 118, 149, 128],\n",
              " 'Ventura': [4016, 4083, 4246, 4109, 4173, 4138],\n",
              " 'Yolo': [993, 1035, 1096, 990, 1119, 1071],\n",
              " 'Yuba': [218, 220, 188, 203, 211, 221]}"
            ]
          },
          "metadata": {
            "tags": []
          },
          "execution_count": 67
        }
      ]
    },
    {
      "cell_type": "markdown",
      "metadata": {
        "id": "J9oH1qKUr_XO"
      },
      "source": [
        "The percentage change is calculated by accessing the values from the dictionary. If the county has been zero then the exceptional math error is calculated."
      ]
    },
    {
      "cell_type": "code",
      "metadata": {
        "id": "RuI3NuR-ru8a",
        "colab": {
          "base_uri": "https://localhost:8080/"
        },
        "outputId": "25780960-42e4-4ad4-8e7c-0b854baf055f"
      },
      "source": [
        "percent_change=[]\n",
        "for key,value in dict_numbertested.items():\n",
        "    try:\n",
        "        percent_change.append(100*(dict_numbertested[key][-1]-dict_numbertested[key][0])/dict_numbertested[key][0])    \n",
        "    except ZeroDivisionError:\n",
        "        percent_change.append(0)        \n",
        "\n",
        "maximum_percent=max(percent_change)\n",
        "index_of_max=percent_change.index(maximum_percent)\n",
        "print('The highest change in the number of takers through years is for the County '+list_of_county[index_of_max])"
      ],
      "execution_count": null,
      "outputs": [
        {
          "output_type": "stream",
          "text": [
            "The highest change in the number of takers through years is for the County Riverside\n"
          ],
          "name": "stdout"
        }
      ]
    },
    {
      "cell_type": "code",
      "metadata": {
        "id": "9hR3rvEZsDeT",
        "colab": {
          "base_uri": "https://localhost:8080/",
          "height": 542
        },
        "outputId": "4264959a-4fdf-439f-c380-5957ac6970a4"
      },
      "source": [
        "import plotly.graph_objects as go\n",
        "\n",
        "fig = go.Figure()\n",
        "fig.add_trace(go.Bar(\n",
        "    y=list_of_county,\n",
        "    x=percent_change,\n",
        "    orientation='h',\n",
        "    marker=dict(\n",
        "        color='rgba(246, 78, 139, 0.6)',\n",
        "        line=dict(color='rgba(246, 60, 19, 1.0)', width=3)\n",
        "    )\n",
        "))\n",
        "\n",
        "fig.update_layout(\n",
        "    title=\"Percentage change of exam takers\",\n",
        "    xaxis_title=\"Percentage\",\n",
        "    yaxis_title=\"Counties present\",\n",
        "    font=dict(\n",
        "        family=\"Courier New, monospace\",\n",
        "        size=10,\n",
        "        color=\"#7f7f7f\"\n",
        "    )\n",
        ")\n",
        "\n",
        "fig.show()"
      ],
      "execution_count": null,
      "outputs": [
        {
          "output_type": "display_data",
          "data": {
            "text/html": [
              "<html>\n",
              "<head><meta charset=\"utf-8\" /></head>\n",
              "<body>\n",
              "    <div>\n",
              "            <script src=\"https://cdnjs.cloudflare.com/ajax/libs/mathjax/2.7.5/MathJax.js?config=TeX-AMS-MML_SVG\"></script><script type=\"text/javascript\">if (window.MathJax) {MathJax.Hub.Config({SVG: {font: \"STIX-Web\"}});}</script>\n",
              "                <script type=\"text/javascript\">window.PlotlyConfig = {MathJaxConfig: 'local'};</script>\n",
              "        <script src=\"https://cdn.plot.ly/plotly-latest.min.js\"></script>    \n",
              "            <div id=\"6f3ec851-d2b9-4f41-966d-f099207abd5d\" class=\"plotly-graph-div\" style=\"height:525px; width:100%;\"></div>\n",
              "            <script type=\"text/javascript\">\n",
              "                \n",
              "                    window.PLOTLYENV=window.PLOTLYENV || {};\n",
              "                    \n",
              "                if (document.getElementById(\"6f3ec851-d2b9-4f41-966d-f099207abd5d\")) {\n",
              "                    Plotly.newPlot(\n",
              "                        '6f3ec851-d2b9-4f41-966d-f099207abd5d',\n",
              "                        [{\"marker\": {\"color\": \"rgba(246, 78, 139, 0.6)\", \"line\": {\"color\": \"rgba(246, 60, 19, 1.0)\", \"width\": 3}}, \"orientation\": \"h\", \"type\": \"bar\", \"x\": [4.897606711078214, -18.51851851851852, -4.275862068965517, -12.751677852348994, 13.541666666666666, 19.080659150043367, -44.329896907216494, 2.0408163265306123, 30.175972192048665, 45.945945945945944, -4.319654427645788, 35.893416927899686, 13.978494623655914, 21.017514595496248, 5.2734375, -5.2631578947368425, 3.75, 19.178325473094304, 46.997929606625256, -4.5789043336058874, -16.666666666666668, 23.55212355212355, 31.161971830985916, 21.875, 2.0833333333333335, 11.067193675889328, 25.7679180887372, -29.75609756097561, -1.3431758894377532, 17.384173841738416, -12.987012987012987, 64.09237875288683, 11.55703077851539, 12.714776632302405, 32.28865979381443, 8.422379637411455, -0.10434782608695652, 4.924874791318865, -7.557603686635945, -0.6772673733804476, 9.357798165137615, 5.442596015608955, 7.150050352467271, -4.554079696394687, -13.333333333333334, 2.0408163265306123, 5.025996533795494, 8.465909090909092, 33.893422947671624, 16.019417475728154, -17.816091954022987, -44.642857142857146, 31.61216293746414, -9.859154929577464, 3.037848605577689, 7.854984894259819, 1.3761467889908257, 0], \"y\": [\"Alameda\", \"Amador\", \"Butte\", \"Calaveras\", \"Colusa\", \"Contra Costa\", \"Del Norte\", \"El Dorado\", \"Fresno\", \"Glenn\", \"Humboldt\", \"Imperial\", \"Inyo\", \"Kern\", \"Kings\", \"Lake\", \"Lassen\", \"Los Angeles\", \"Madera\", \"Marin\", \"Mariposa\", \"Mendocino\", \"Merced\", \"Modoc\", \"Mono\", \"Monterey\", \"Napa\", \"Nevada\", \"Orange\", \"Placer\", \"Plumas\", \"Riverside\", \"Sacramento\", \"San Benito\", \"San Bernardino\", \"San Diego\", \"San Francisco\", \"San Joaquin\", \"San Luis Obispo\", \"San Mateo\", \"Santa Barbara\", \"Santa Clara\", \"Santa Cruz\", \"Shasta\", \"Sierra\", \"Siskiyou\", \"Solano\", \"Sonoma\", \"Stanislaus\", \"Sutter\", \"Tehama\", \"Trinity\", \"Tulare\", \"Tuolumne\", \"Ventura\", \"Yolo\", \"Yuba\", \"Alpine\"]}],\n",
              "                        {\"font\": {\"color\": \"#7f7f7f\", \"family\": \"Courier New, monospace\", \"size\": 10}, \"template\": {\"data\": {\"bar\": [{\"error_x\": {\"color\": \"#2a3f5f\"}, \"error_y\": {\"color\": \"#2a3f5f\"}, \"marker\": {\"line\": {\"color\": \"#E5ECF6\", \"width\": 0.5}}, \"type\": \"bar\"}], \"barpolar\": [{\"marker\": {\"line\": {\"color\": \"#E5ECF6\", \"width\": 0.5}}, \"type\": \"barpolar\"}], \"carpet\": [{\"aaxis\": {\"endlinecolor\": \"#2a3f5f\", \"gridcolor\": \"white\", \"linecolor\": \"white\", \"minorgridcolor\": \"white\", \"startlinecolor\": \"#2a3f5f\"}, \"baxis\": {\"endlinecolor\": \"#2a3f5f\", \"gridcolor\": \"white\", \"linecolor\": \"white\", \"minorgridcolor\": \"white\", \"startlinecolor\": \"#2a3f5f\"}, \"type\": \"carpet\"}], \"choropleth\": [{\"colorbar\": {\"outlinewidth\": 0, \"ticks\": \"\"}, \"type\": \"choropleth\"}], \"contour\": [{\"colorbar\": {\"outlinewidth\": 0, \"ticks\": \"\"}, \"colorscale\": [[0.0, \"#0d0887\"], [0.1111111111111111, \"#46039f\"], [0.2222222222222222, \"#7201a8\"], [0.3333333333333333, \"#9c179e\"], [0.4444444444444444, \"#bd3786\"], [0.5555555555555556, \"#d8576b\"], [0.6666666666666666, \"#ed7953\"], [0.7777777777777778, \"#fb9f3a\"], [0.8888888888888888, \"#fdca26\"], [1.0, \"#f0f921\"]], \"type\": \"contour\"}], \"contourcarpet\": [{\"colorbar\": {\"outlinewidth\": 0, \"ticks\": \"\"}, \"type\": \"contourcarpet\"}], \"heatmap\": [{\"colorbar\": {\"outlinewidth\": 0, \"ticks\": \"\"}, \"colorscale\": [[0.0, \"#0d0887\"], [0.1111111111111111, \"#46039f\"], [0.2222222222222222, \"#7201a8\"], [0.3333333333333333, \"#9c179e\"], [0.4444444444444444, \"#bd3786\"], [0.5555555555555556, \"#d8576b\"], [0.6666666666666666, \"#ed7953\"], [0.7777777777777778, \"#fb9f3a\"], [0.8888888888888888, \"#fdca26\"], [1.0, \"#f0f921\"]], \"type\": \"heatmap\"}], \"heatmapgl\": [{\"colorbar\": {\"outlinewidth\": 0, \"ticks\": \"\"}, \"colorscale\": [[0.0, \"#0d0887\"], [0.1111111111111111, \"#46039f\"], [0.2222222222222222, \"#7201a8\"], [0.3333333333333333, \"#9c179e\"], [0.4444444444444444, \"#bd3786\"], [0.5555555555555556, \"#d8576b\"], [0.6666666666666666, \"#ed7953\"], [0.7777777777777778, \"#fb9f3a\"], [0.8888888888888888, \"#fdca26\"], [1.0, \"#f0f921\"]], \"type\": \"heatmapgl\"}], \"histogram\": [{\"marker\": {\"colorbar\": {\"outlinewidth\": 0, \"ticks\": \"\"}}, \"type\": \"histogram\"}], \"histogram2d\": [{\"colorbar\": {\"outlinewidth\": 0, \"ticks\": \"\"}, \"colorscale\": [[0.0, \"#0d0887\"], [0.1111111111111111, \"#46039f\"], [0.2222222222222222, \"#7201a8\"], [0.3333333333333333, \"#9c179e\"], [0.4444444444444444, \"#bd3786\"], [0.5555555555555556, \"#d8576b\"], [0.6666666666666666, \"#ed7953\"], [0.7777777777777778, \"#fb9f3a\"], [0.8888888888888888, \"#fdca26\"], [1.0, \"#f0f921\"]], \"type\": \"histogram2d\"}], \"histogram2dcontour\": [{\"colorbar\": {\"outlinewidth\": 0, \"ticks\": \"\"}, \"colorscale\": [[0.0, \"#0d0887\"], [0.1111111111111111, \"#46039f\"], [0.2222222222222222, \"#7201a8\"], [0.3333333333333333, \"#9c179e\"], [0.4444444444444444, \"#bd3786\"], [0.5555555555555556, \"#d8576b\"], [0.6666666666666666, \"#ed7953\"], [0.7777777777777778, \"#fb9f3a\"], [0.8888888888888888, \"#fdca26\"], [1.0, \"#f0f921\"]], \"type\": \"histogram2dcontour\"}], \"mesh3d\": [{\"colorbar\": {\"outlinewidth\": 0, \"ticks\": \"\"}, \"type\": \"mesh3d\"}], \"parcoords\": [{\"line\": {\"colorbar\": {\"outlinewidth\": 0, \"ticks\": \"\"}}, \"type\": \"parcoords\"}], \"pie\": [{\"automargin\": true, \"type\": \"pie\"}], \"scatter\": [{\"marker\": {\"colorbar\": {\"outlinewidth\": 0, \"ticks\": \"\"}}, \"type\": \"scatter\"}], \"scatter3d\": [{\"line\": {\"colorbar\": {\"outlinewidth\": 0, \"ticks\": \"\"}}, \"marker\": {\"colorbar\": {\"outlinewidth\": 0, \"ticks\": \"\"}}, \"type\": \"scatter3d\"}], \"scattercarpet\": [{\"marker\": {\"colorbar\": {\"outlinewidth\": 0, \"ticks\": \"\"}}, \"type\": \"scattercarpet\"}], \"scattergeo\": [{\"marker\": {\"colorbar\": {\"outlinewidth\": 0, \"ticks\": \"\"}}, \"type\": \"scattergeo\"}], \"scattergl\": [{\"marker\": {\"colorbar\": {\"outlinewidth\": 0, \"ticks\": \"\"}}, \"type\": \"scattergl\"}], \"scattermapbox\": [{\"marker\": {\"colorbar\": {\"outlinewidth\": 0, \"ticks\": \"\"}}, \"type\": \"scattermapbox\"}], \"scatterpolar\": [{\"marker\": {\"colorbar\": {\"outlinewidth\": 0, \"ticks\": \"\"}}, \"type\": \"scatterpolar\"}], \"scatterpolargl\": [{\"marker\": {\"colorbar\": {\"outlinewidth\": 0, \"ticks\": \"\"}}, \"type\": \"scatterpolargl\"}], \"scatterternary\": [{\"marker\": {\"colorbar\": {\"outlinewidth\": 0, \"ticks\": \"\"}}, \"type\": \"scatterternary\"}], \"surface\": [{\"colorbar\": {\"outlinewidth\": 0, \"ticks\": \"\"}, \"colorscale\": [[0.0, \"#0d0887\"], [0.1111111111111111, \"#46039f\"], [0.2222222222222222, \"#7201a8\"], [0.3333333333333333, \"#9c179e\"], [0.4444444444444444, \"#bd3786\"], [0.5555555555555556, \"#d8576b\"], [0.6666666666666666, \"#ed7953\"], [0.7777777777777778, \"#fb9f3a\"], [0.8888888888888888, \"#fdca26\"], [1.0, \"#f0f921\"]], \"type\": \"surface\"}], \"table\": [{\"cells\": {\"fill\": {\"color\": \"#EBF0F8\"}, \"line\": {\"color\": \"white\"}}, \"header\": {\"fill\": {\"color\": \"#C8D4E3\"}, \"line\": {\"color\": \"white\"}}, \"type\": \"table\"}]}, \"layout\": {\"annotationdefaults\": {\"arrowcolor\": \"#2a3f5f\", \"arrowhead\": 0, \"arrowwidth\": 1}, \"coloraxis\": {\"colorbar\": {\"outlinewidth\": 0, \"ticks\": \"\"}}, \"colorscale\": {\"diverging\": [[0, \"#8e0152\"], [0.1, \"#c51b7d\"], [0.2, \"#de77ae\"], [0.3, \"#f1b6da\"], [0.4, \"#fde0ef\"], [0.5, \"#f7f7f7\"], [0.6, \"#e6f5d0\"], [0.7, \"#b8e186\"], [0.8, \"#7fbc41\"], [0.9, \"#4d9221\"], [1, \"#276419\"]], \"sequential\": [[0.0, \"#0d0887\"], [0.1111111111111111, \"#46039f\"], [0.2222222222222222, \"#7201a8\"], [0.3333333333333333, \"#9c179e\"], [0.4444444444444444, \"#bd3786\"], [0.5555555555555556, \"#d8576b\"], [0.6666666666666666, \"#ed7953\"], [0.7777777777777778, \"#fb9f3a\"], [0.8888888888888888, \"#fdca26\"], [1.0, \"#f0f921\"]], \"sequentialminus\": [[0.0, \"#0d0887\"], [0.1111111111111111, \"#46039f\"], [0.2222222222222222, \"#7201a8\"], [0.3333333333333333, \"#9c179e\"], [0.4444444444444444, \"#bd3786\"], [0.5555555555555556, \"#d8576b\"], [0.6666666666666666, \"#ed7953\"], [0.7777777777777778, \"#fb9f3a\"], [0.8888888888888888, \"#fdca26\"], [1.0, \"#f0f921\"]]}, \"colorway\": [\"#636efa\", \"#EF553B\", \"#00cc96\", \"#ab63fa\", \"#FFA15A\", \"#19d3f3\", \"#FF6692\", \"#B6E880\", \"#FF97FF\", \"#FECB52\"], \"font\": {\"color\": \"#2a3f5f\"}, \"geo\": {\"bgcolor\": \"white\", \"lakecolor\": \"white\", \"landcolor\": \"#E5ECF6\", \"showlakes\": true, \"showland\": true, \"subunitcolor\": \"white\"}, \"hoverlabel\": {\"align\": \"left\"}, \"hovermode\": \"closest\", \"mapbox\": {\"style\": \"light\"}, \"paper_bgcolor\": \"white\", \"plot_bgcolor\": \"#E5ECF6\", \"polar\": {\"angularaxis\": {\"gridcolor\": \"white\", \"linecolor\": \"white\", \"ticks\": \"\"}, \"bgcolor\": \"#E5ECF6\", \"radialaxis\": {\"gridcolor\": \"white\", \"linecolor\": \"white\", \"ticks\": \"\"}}, \"scene\": {\"xaxis\": {\"backgroundcolor\": \"#E5ECF6\", \"gridcolor\": \"white\", \"gridwidth\": 2, \"linecolor\": \"white\", \"showbackground\": true, \"ticks\": \"\", \"zerolinecolor\": \"white\"}, \"yaxis\": {\"backgroundcolor\": \"#E5ECF6\", \"gridcolor\": \"white\", \"gridwidth\": 2, \"linecolor\": \"white\", \"showbackground\": true, \"ticks\": \"\", \"zerolinecolor\": \"white\"}, \"zaxis\": {\"backgroundcolor\": \"#E5ECF6\", \"gridcolor\": \"white\", \"gridwidth\": 2, \"linecolor\": \"white\", \"showbackground\": true, \"ticks\": \"\", \"zerolinecolor\": \"white\"}}, \"shapedefaults\": {\"line\": {\"color\": \"#2a3f5f\"}}, \"ternary\": {\"aaxis\": {\"gridcolor\": \"white\", \"linecolor\": \"white\", \"ticks\": \"\"}, \"baxis\": {\"gridcolor\": \"white\", \"linecolor\": \"white\", \"ticks\": \"\"}, \"bgcolor\": \"#E5ECF6\", \"caxis\": {\"gridcolor\": \"white\", \"linecolor\": \"white\", \"ticks\": \"\"}}, \"title\": {\"x\": 0.05}, \"xaxis\": {\"automargin\": true, \"gridcolor\": \"white\", \"linecolor\": \"white\", \"ticks\": \"\", \"title\": {\"standoff\": 15}, \"zerolinecolor\": \"white\", \"zerolinewidth\": 2}, \"yaxis\": {\"automargin\": true, \"gridcolor\": \"white\", \"linecolor\": \"white\", \"ticks\": \"\", \"title\": {\"standoff\": 15}, \"zerolinecolor\": \"white\", \"zerolinewidth\": 2}}}, \"title\": {\"text\": \"Percentage change of exam takers\"}, \"xaxis\": {\"title\": {\"text\": \"Percentage\"}}, \"yaxis\": {\"title\": {\"text\": \"Counties present\"}}},\n",
              "                        {\"responsive\": true}\n",
              "                    ).then(function(){\n",
              "                            \n",
              "var gd = document.getElementById('6f3ec851-d2b9-4f41-966d-f099207abd5d');\n",
              "var x = new MutationObserver(function (mutations, observer) {{\n",
              "        var display = window.getComputedStyle(gd).display;\n",
              "        if (!display || display === 'none') {{\n",
              "            console.log([gd, 'removed!']);\n",
              "            Plotly.purge(gd);\n",
              "            observer.disconnect();\n",
              "        }}\n",
              "}});\n",
              "\n",
              "// Listen for the removal of the full notebook cells\n",
              "var notebookContainer = gd.closest('#notebook-container');\n",
              "if (notebookContainer) {{\n",
              "    x.observe(notebookContainer, {childList: true});\n",
              "}}\n",
              "\n",
              "// Listen for the clearing of the current output cell\n",
              "var outputEl = gd.closest('.output');\n",
              "if (outputEl) {{\n",
              "    x.observe(outputEl, {childList: true});\n",
              "}}\n",
              "\n",
              "                        })\n",
              "                };\n",
              "                \n",
              "            </script>\n",
              "        </div>\n",
              "</body>\n",
              "</html>"
            ]
          },
          "metadata": {
            "tags": []
          }
        }
      ]
    },
    {
      "cell_type": "markdown",
      "metadata": {
        "id": "pGrYoqMa2yiT"
      },
      "source": [
        "##Which county has the largest change in the mean scores and are they same?<br>Inyo.They are not same"
      ]
    },
    {
      "cell_type": "code",
      "metadata": {
        "id": "DJATNkOMsapI"
      },
      "source": [
        "county_meanscores=merged_table4.groupby(['County_Name','year'])['Total_Mean'].mean()\n",
        "dict_meanscores={}\n",
        "for i in list_of_county:\n",
        "    dict_meanscores[i] = []\n",
        "for i in county_meanscores.iteritems():\n",
        "    dict_meanscores[i[0][0]].append(i[1])"
      ],
      "execution_count": null,
      "outputs": []
    },
    {
      "cell_type": "code",
      "metadata": {
        "id": "FxjPfi9qs3pd",
        "colab": {
          "base_uri": "https://localhost:8080/"
        },
        "outputId": "5dcd8c4d-9261-4c5e-c4b9-05cae976facb"
      },
      "source": [
        "percent_change1=[]\n",
        "for key,value in dict_meanscores.items():\n",
        "    try:\n",
        "        percent_change1.append(100*(dict_meanscores[key][-1]-dict_meanscores[key][0])/dict_meanscores[key][0])    \n",
        "    except ZeroDivisionError:\n",
        "        percent_change1.append(0)        \n",
        "\n",
        "maximum_percent1=max(percent_change1)\n",
        "index_of_max1=percent_change1.index(maximum_percent1)\n",
        "print('The highest change in the number of takers through years is for the County '+list_of_county[index_of_max1])"
      ],
      "execution_count": null,
      "outputs": [
        {
          "output_type": "stream",
          "text": [
            "The highest change in the number of takers through years is for the County Inyo\n"
          ],
          "name": "stdout"
        }
      ]
    },
    {
      "cell_type": "code",
      "metadata": {
        "id": "1ozp8ppGs4dm",
        "colab": {
          "base_uri": "https://localhost:8080/",
          "height": 542
        },
        "outputId": "16ab93bb-0a0a-4429-ed13-59a68e68685a"
      },
      "source": [
        "import plotly.graph_objects as go\n",
        "\n",
        "fig = go.Figure()\n",
        "fig.add_trace(go.Bar(\n",
        "    y=list_of_county,\n",
        "    x=percent_change1,\n",
        "    orientation='h',\n",
        "    marker=dict(\n",
        "        color='rgba(246, 78, 139, 0.6)',\n",
        "        line=dict(color='rgba(246, 78, 139, 1.0)', width=3)\n",
        "    )\n",
        "))\n",
        "\n",
        "fig.update_layout(\n",
        "    title=\"Percentage change of means scores\",\n",
        "    xaxis_title=\"Percentage\",\n",
        "    yaxis_title=\"Counties present\",\n",
        "    font=dict(\n",
        "        family=\"Courier New, monospace\",\n",
        "        size=10,\n",
        "        color=\"#7f7f7f\"\n",
        "    )\n",
        ")\n",
        "\n",
        "fig.show()"
      ],
      "execution_count": null,
      "outputs": [
        {
          "output_type": "display_data",
          "data": {
            "text/html": [
              "<html>\n",
              "<head><meta charset=\"utf-8\" /></head>\n",
              "<body>\n",
              "    <div>\n",
              "            <script src=\"https://cdnjs.cloudflare.com/ajax/libs/mathjax/2.7.5/MathJax.js?config=TeX-AMS-MML_SVG\"></script><script type=\"text/javascript\">if (window.MathJax) {MathJax.Hub.Config({SVG: {font: \"STIX-Web\"}});}</script>\n",
              "                <script type=\"text/javascript\">window.PlotlyConfig = {MathJaxConfig: 'local'};</script>\n",
              "        <script src=\"https://cdn.plot.ly/plotly-latest.min.js\"></script>    \n",
              "            <div id=\"eb2d91b4-b653-4c0e-8b85-c71d2a97e2fe\" class=\"plotly-graph-div\" style=\"height:525px; width:100%;\"></div>\n",
              "            <script type=\"text/javascript\">\n",
              "                \n",
              "                    window.PLOTLYENV=window.PLOTLYENV || {};\n",
              "                    \n",
              "                if (document.getElementById(\"eb2d91b4-b653-4c0e-8b85-c71d2a97e2fe\")) {\n",
              "                    Plotly.newPlot(\n",
              "                        'eb2d91b4-b653-4c0e-8b85-c71d2a97e2fe',\n",
              "                        [{\"marker\": {\"color\": \"rgba(246, 78, 139, 0.6)\", \"line\": {\"color\": \"rgba(246, 78, 139, 1.0)\", \"width\": 3}}, \"orientation\": \"h\", \"type\": \"bar\", \"x\": [31.274682290387855, 103.70852309694209, 66.90295235311314, 249.90607388854102, 63.07353750229231, 47.0238938321986, 250.0, 120.6390728476821, 37.026891113155735, 145.77507598784194, 94.97788557568838, 102.48667850799289, 522.3777777777779, 43.640812448034204, 146.3476442366835, 98.20828667413214, -0.9876653557382921, 38.34486929903331, 108.64991425933256, 45.542971352431714, 471.48362235067435, 115.21098375110218, 105.32563441712928, 154.84536082474227, -4.8357098574085455, 71.27229760634243, 43.962797423425776, 96.56513285806868, 25.752331486262733, 36.54023037301183, -20.423841059602655, 35.85794139032931, 39.43311909534986, 142.1373013189043, 63.0499877290002, 20.032976231502108, 18.339354158846476, 47.0721900338163, 77.97834137582761, 32.013167224692765, 50.49115013852953, 45.775967646766595, 46.403312057961024, 59.496273085505386, -100.0, 56.25823994726434, 109.22867400265127, 59.58660824396594, 44.93759327957954, 92.67636563272029, 124.5106132075472, 74.76728723404256, 67.8652225936571, 36.057233704292514, 20.48555125206642, 93.53275556798063, 115.99736857159203, 0], \"y\": [\"Alameda\", \"Amador\", \"Butte\", \"Calaveras\", \"Colusa\", \"Contra Costa\", \"Del Norte\", \"El Dorado\", \"Fresno\", \"Glenn\", \"Humboldt\", \"Imperial\", \"Inyo\", \"Kern\", \"Kings\", \"Lake\", \"Lassen\", \"Los Angeles\", \"Madera\", \"Marin\", \"Mariposa\", \"Mendocino\", \"Merced\", \"Modoc\", \"Mono\", \"Monterey\", \"Napa\", \"Nevada\", \"Orange\", \"Placer\", \"Plumas\", \"Riverside\", \"Sacramento\", \"San Benito\", \"San Bernardino\", \"San Diego\", \"San Francisco\", \"San Joaquin\", \"San Luis Obispo\", \"San Mateo\", \"Santa Barbara\", \"Santa Clara\", \"Santa Cruz\", \"Shasta\", \"Sierra\", \"Siskiyou\", \"Solano\", \"Sonoma\", \"Stanislaus\", \"Sutter\", \"Tehama\", \"Trinity\", \"Tulare\", \"Tuolumne\", \"Ventura\", \"Yolo\", \"Yuba\", \"Alpine\"]}],\n",
              "                        {\"font\": {\"color\": \"#7f7f7f\", \"family\": \"Courier New, monospace\", \"size\": 10}, \"template\": {\"data\": {\"bar\": [{\"error_x\": {\"color\": \"#2a3f5f\"}, \"error_y\": {\"color\": \"#2a3f5f\"}, \"marker\": {\"line\": {\"color\": \"#E5ECF6\", \"width\": 0.5}}, \"type\": \"bar\"}], \"barpolar\": [{\"marker\": {\"line\": {\"color\": \"#E5ECF6\", \"width\": 0.5}}, \"type\": \"barpolar\"}], \"carpet\": [{\"aaxis\": {\"endlinecolor\": \"#2a3f5f\", \"gridcolor\": \"white\", \"linecolor\": \"white\", \"minorgridcolor\": \"white\", \"startlinecolor\": \"#2a3f5f\"}, \"baxis\": {\"endlinecolor\": \"#2a3f5f\", \"gridcolor\": \"white\", \"linecolor\": \"white\", \"minorgridcolor\": \"white\", \"startlinecolor\": \"#2a3f5f\"}, \"type\": \"carpet\"}], \"choropleth\": [{\"colorbar\": {\"outlinewidth\": 0, \"ticks\": \"\"}, \"type\": \"choropleth\"}], \"contour\": [{\"colorbar\": {\"outlinewidth\": 0, \"ticks\": \"\"}, \"colorscale\": [[0.0, \"#0d0887\"], [0.1111111111111111, \"#46039f\"], [0.2222222222222222, \"#7201a8\"], [0.3333333333333333, \"#9c179e\"], [0.4444444444444444, \"#bd3786\"], [0.5555555555555556, \"#d8576b\"], [0.6666666666666666, \"#ed7953\"], [0.7777777777777778, \"#fb9f3a\"], [0.8888888888888888, \"#fdca26\"], [1.0, \"#f0f921\"]], \"type\": \"contour\"}], \"contourcarpet\": [{\"colorbar\": {\"outlinewidth\": 0, \"ticks\": \"\"}, \"type\": \"contourcarpet\"}], \"heatmap\": [{\"colorbar\": {\"outlinewidth\": 0, \"ticks\": \"\"}, \"colorscale\": [[0.0, \"#0d0887\"], [0.1111111111111111, \"#46039f\"], [0.2222222222222222, \"#7201a8\"], [0.3333333333333333, \"#9c179e\"], [0.4444444444444444, \"#bd3786\"], [0.5555555555555556, \"#d8576b\"], [0.6666666666666666, \"#ed7953\"], [0.7777777777777778, \"#fb9f3a\"], [0.8888888888888888, \"#fdca26\"], [1.0, \"#f0f921\"]], \"type\": \"heatmap\"}], \"heatmapgl\": [{\"colorbar\": {\"outlinewidth\": 0, \"ticks\": \"\"}, \"colorscale\": [[0.0, \"#0d0887\"], [0.1111111111111111, \"#46039f\"], [0.2222222222222222, \"#7201a8\"], [0.3333333333333333, \"#9c179e\"], [0.4444444444444444, \"#bd3786\"], [0.5555555555555556, \"#d8576b\"], [0.6666666666666666, \"#ed7953\"], [0.7777777777777778, \"#fb9f3a\"], [0.8888888888888888, \"#fdca26\"], [1.0, \"#f0f921\"]], \"type\": \"heatmapgl\"}], \"histogram\": [{\"marker\": {\"colorbar\": {\"outlinewidth\": 0, \"ticks\": \"\"}}, \"type\": \"histogram\"}], \"histogram2d\": [{\"colorbar\": {\"outlinewidth\": 0, \"ticks\": \"\"}, \"colorscale\": [[0.0, \"#0d0887\"], [0.1111111111111111, \"#46039f\"], [0.2222222222222222, \"#7201a8\"], [0.3333333333333333, \"#9c179e\"], [0.4444444444444444, \"#bd3786\"], [0.5555555555555556, \"#d8576b\"], [0.6666666666666666, \"#ed7953\"], [0.7777777777777778, \"#fb9f3a\"], [0.8888888888888888, \"#fdca26\"], [1.0, \"#f0f921\"]], \"type\": \"histogram2d\"}], \"histogram2dcontour\": [{\"colorbar\": {\"outlinewidth\": 0, \"ticks\": \"\"}, \"colorscale\": [[0.0, \"#0d0887\"], [0.1111111111111111, \"#46039f\"], [0.2222222222222222, \"#7201a8\"], [0.3333333333333333, \"#9c179e\"], [0.4444444444444444, \"#bd3786\"], [0.5555555555555556, \"#d8576b\"], [0.6666666666666666, \"#ed7953\"], [0.7777777777777778, \"#fb9f3a\"], [0.8888888888888888, \"#fdca26\"], [1.0, \"#f0f921\"]], \"type\": \"histogram2dcontour\"}], \"mesh3d\": [{\"colorbar\": {\"outlinewidth\": 0, \"ticks\": \"\"}, \"type\": \"mesh3d\"}], \"parcoords\": [{\"line\": {\"colorbar\": {\"outlinewidth\": 0, \"ticks\": \"\"}}, \"type\": \"parcoords\"}], \"pie\": [{\"automargin\": true, \"type\": \"pie\"}], \"scatter\": [{\"marker\": {\"colorbar\": {\"outlinewidth\": 0, \"ticks\": \"\"}}, \"type\": \"scatter\"}], \"scatter3d\": [{\"line\": {\"colorbar\": {\"outlinewidth\": 0, \"ticks\": \"\"}}, \"marker\": {\"colorbar\": {\"outlinewidth\": 0, \"ticks\": \"\"}}, \"type\": \"scatter3d\"}], \"scattercarpet\": [{\"marker\": {\"colorbar\": {\"outlinewidth\": 0, \"ticks\": \"\"}}, \"type\": \"scattercarpet\"}], \"scattergeo\": [{\"marker\": {\"colorbar\": {\"outlinewidth\": 0, \"ticks\": \"\"}}, \"type\": \"scattergeo\"}], \"scattergl\": [{\"marker\": {\"colorbar\": {\"outlinewidth\": 0, \"ticks\": \"\"}}, \"type\": \"scattergl\"}], \"scattermapbox\": [{\"marker\": {\"colorbar\": {\"outlinewidth\": 0, \"ticks\": \"\"}}, \"type\": \"scattermapbox\"}], \"scatterpolar\": [{\"marker\": {\"colorbar\": {\"outlinewidth\": 0, \"ticks\": \"\"}}, \"type\": \"scatterpolar\"}], \"scatterpolargl\": [{\"marker\": {\"colorbar\": {\"outlinewidth\": 0, \"ticks\": \"\"}}, \"type\": \"scatterpolargl\"}], \"scatterternary\": [{\"marker\": {\"colorbar\": {\"outlinewidth\": 0, \"ticks\": \"\"}}, \"type\": \"scatterternary\"}], \"surface\": [{\"colorbar\": {\"outlinewidth\": 0, \"ticks\": \"\"}, \"colorscale\": [[0.0, \"#0d0887\"], [0.1111111111111111, \"#46039f\"], [0.2222222222222222, \"#7201a8\"], [0.3333333333333333, \"#9c179e\"], [0.4444444444444444, \"#bd3786\"], [0.5555555555555556, \"#d8576b\"], [0.6666666666666666, \"#ed7953\"], [0.7777777777777778, \"#fb9f3a\"], [0.8888888888888888, \"#fdca26\"], [1.0, \"#f0f921\"]], \"type\": \"surface\"}], \"table\": [{\"cells\": {\"fill\": {\"color\": \"#EBF0F8\"}, \"line\": {\"color\": \"white\"}}, \"header\": {\"fill\": {\"color\": \"#C8D4E3\"}, \"line\": {\"color\": \"white\"}}, \"type\": \"table\"}]}, \"layout\": {\"annotationdefaults\": {\"arrowcolor\": \"#2a3f5f\", \"arrowhead\": 0, \"arrowwidth\": 1}, \"coloraxis\": {\"colorbar\": {\"outlinewidth\": 0, \"ticks\": \"\"}}, \"colorscale\": {\"diverging\": [[0, \"#8e0152\"], [0.1, \"#c51b7d\"], [0.2, \"#de77ae\"], [0.3, \"#f1b6da\"], [0.4, \"#fde0ef\"], [0.5, \"#f7f7f7\"], [0.6, \"#e6f5d0\"], [0.7, \"#b8e186\"], [0.8, \"#7fbc41\"], [0.9, \"#4d9221\"], [1, \"#276419\"]], \"sequential\": [[0.0, \"#0d0887\"], [0.1111111111111111, \"#46039f\"], [0.2222222222222222, \"#7201a8\"], [0.3333333333333333, \"#9c179e\"], [0.4444444444444444, \"#bd3786\"], [0.5555555555555556, \"#d8576b\"], [0.6666666666666666, \"#ed7953\"], [0.7777777777777778, \"#fb9f3a\"], [0.8888888888888888, \"#fdca26\"], [1.0, \"#f0f921\"]], \"sequentialminus\": [[0.0, \"#0d0887\"], [0.1111111111111111, \"#46039f\"], [0.2222222222222222, \"#7201a8\"], [0.3333333333333333, \"#9c179e\"], [0.4444444444444444, \"#bd3786\"], [0.5555555555555556, \"#d8576b\"], [0.6666666666666666, \"#ed7953\"], [0.7777777777777778, \"#fb9f3a\"], [0.8888888888888888, \"#fdca26\"], [1.0, \"#f0f921\"]]}, \"colorway\": [\"#636efa\", \"#EF553B\", \"#00cc96\", \"#ab63fa\", \"#FFA15A\", \"#19d3f3\", \"#FF6692\", \"#B6E880\", \"#FF97FF\", \"#FECB52\"], \"font\": {\"color\": \"#2a3f5f\"}, \"geo\": {\"bgcolor\": \"white\", \"lakecolor\": \"white\", \"landcolor\": \"#E5ECF6\", \"showlakes\": true, \"showland\": true, \"subunitcolor\": \"white\"}, \"hoverlabel\": {\"align\": \"left\"}, \"hovermode\": \"closest\", \"mapbox\": {\"style\": \"light\"}, \"paper_bgcolor\": \"white\", \"plot_bgcolor\": \"#E5ECF6\", \"polar\": {\"angularaxis\": {\"gridcolor\": \"white\", \"linecolor\": \"white\", \"ticks\": \"\"}, \"bgcolor\": \"#E5ECF6\", \"radialaxis\": {\"gridcolor\": \"white\", \"linecolor\": \"white\", \"ticks\": \"\"}}, \"scene\": {\"xaxis\": {\"backgroundcolor\": \"#E5ECF6\", \"gridcolor\": \"white\", \"gridwidth\": 2, \"linecolor\": \"white\", \"showbackground\": true, \"ticks\": \"\", \"zerolinecolor\": \"white\"}, \"yaxis\": {\"backgroundcolor\": \"#E5ECF6\", \"gridcolor\": \"white\", \"gridwidth\": 2, \"linecolor\": \"white\", \"showbackground\": true, \"ticks\": \"\", \"zerolinecolor\": \"white\"}, \"zaxis\": {\"backgroundcolor\": \"#E5ECF6\", \"gridcolor\": \"white\", \"gridwidth\": 2, \"linecolor\": \"white\", \"showbackground\": true, \"ticks\": \"\", \"zerolinecolor\": \"white\"}}, \"shapedefaults\": {\"line\": {\"color\": \"#2a3f5f\"}}, \"ternary\": {\"aaxis\": {\"gridcolor\": \"white\", \"linecolor\": \"white\", \"ticks\": \"\"}, \"baxis\": {\"gridcolor\": \"white\", \"linecolor\": \"white\", \"ticks\": \"\"}, \"bgcolor\": \"#E5ECF6\", \"caxis\": {\"gridcolor\": \"white\", \"linecolor\": \"white\", \"ticks\": \"\"}}, \"title\": {\"x\": 0.05}, \"xaxis\": {\"automargin\": true, \"gridcolor\": \"white\", \"linecolor\": \"white\", \"ticks\": \"\", \"title\": {\"standoff\": 15}, \"zerolinecolor\": \"white\", \"zerolinewidth\": 2}, \"yaxis\": {\"automargin\": true, \"gridcolor\": \"white\", \"linecolor\": \"white\", \"ticks\": \"\", \"title\": {\"standoff\": 15}, \"zerolinecolor\": \"white\", \"zerolinewidth\": 2}}}, \"title\": {\"text\": \"Percentage change of means scores\"}, \"xaxis\": {\"title\": {\"text\": \"Percentage\"}}, \"yaxis\": {\"title\": {\"text\": \"Counties present\"}}},\n",
              "                        {\"responsive\": true}\n",
              "                    ).then(function(){\n",
              "                            \n",
              "var gd = document.getElementById('eb2d91b4-b653-4c0e-8b85-c71d2a97e2fe');\n",
              "var x = new MutationObserver(function (mutations, observer) {{\n",
              "        var display = window.getComputedStyle(gd).display;\n",
              "        if (!display || display === 'none') {{\n",
              "            console.log([gd, 'removed!']);\n",
              "            Plotly.purge(gd);\n",
              "            observer.disconnect();\n",
              "        }}\n",
              "}});\n",
              "\n",
              "// Listen for the removal of the full notebook cells\n",
              "var notebookContainer = gd.closest('#notebook-container');\n",
              "if (notebookContainer) {{\n",
              "    x.observe(notebookContainer, {childList: true});\n",
              "}}\n",
              "\n",
              "// Listen for the clearing of the current output cell\n",
              "var outputEl = gd.closest('.output');\n",
              "if (outputEl) {{\n",
              "    x.observe(outputEl, {childList: true});\n",
              "}}\n",
              "\n",
              "                        })\n",
              "                };\n",
              "                \n",
              "            </script>\n",
              "        </div>\n",
              "</body>\n",
              "</html>"
            ]
          },
          "metadata": {
            "tags": []
          }
        }
      ]
    },
    {
      "cell_type": "markdown",
      "metadata": {
        "id": "KTMiLCDQwjc0"
      },
      "source": [
        "Riverside and Inyo. They are not same"
      ]
    },
    {
      "cell_type": "markdown",
      "metadata": {
        "id": "Bos74Nw3vwx8"
      },
      "source": [
        "#### What did I learn?\n",
        "        1. Analysis of the data\n",
        "        2. Handling missing values\n",
        "        3. Accessing elements from a groupby dataframe\n",
        "        4. Experimenting and finding various visualizations for the results"
      ]
    },
    {
      "cell_type": "code",
      "metadata": {
        "id": "jRZ5OzSf36YW"
      },
      "source": [
        ""
      ],
      "execution_count": null,
      "outputs": []
    }
  ]
}