{
 "cells": [
  {
   "cell_type": "markdown",
   "metadata": {
    "id": "79loyMdaJFya"
   },
   "source": [
    "## Homework Week6"
   ]
  },
  {
   "cell_type": "markdown",
   "metadata": {
    "id": "hkPhKQ2WJFyc"
   },
   "source": [
    "1. There is a bug in this program. Find, explain & fix.\n",
    "1. Fill the docstrings (python documentation) \n",
    "    * What the function does\n",
    "    * what it expects\n",
    "    * what it returns\n",
    "\n",
    "1. Add a new method to `clear` the ShoppingList class\n",
    "\n",
    "\n",
    "   Bug: \n",
    "\n",
    "   The bug comes from the very fact that the category isn't fully encapsulated. It uses the gobal variable items in the methods    of the class. this suggests that when methods are involved the 2 objects of the ShoppingList class (husband and wife),          they act on an equivalent list of things . Each object should have their own list and calling a way for one shouldn't impact    the opposite\n",
    "   \n",
    "   \n",
    "   How to fix:\n",
    "\n",
    "   To fix this bug, I encapsulated the items in the class and initialized it in the constructor. Since this constructor eill        execte the each object separately therefore each one will have its own list.\n"
   ]
  },
  {
   "cell_type": "code",
   "execution_count": null,
   "metadata": {
    "id": "eymF013jJFyd"
   },
   "outputs": [],
   "source": []
  },
  {
   "cell_type": "code",
   "execution_count": 72,
   "metadata": {
    "id": "pJLBSiisJFye"
   },
   "outputs": [],
   "source": [
    "items = []\n",
    "\n",
    "class ShoppingList:\n",
    "    \n",
    "    \n",
    "    def __init__(self):\n",
    "        \"\"\"\n",
    "        Initialize the state of the class for each object that is created\n",
    "        Creates an empty shopping list for the object if no existing shopping list is passed in\n",
    "        \n",
    "        Parameters:\n",
    "        –––––––––––\n",
    "        self: object passed into class\n",
    "        items: list \n",
    "            optional\n",
    "        \n",
    "        Returns:\n",
    "        ––––––––\n",
    "        None\n",
    "        \"\"\"\n",
    "        self.items =[]\n",
    "    def add_item(self, item):\n",
    "        \"\"\"\n",
    "        Adds item to the shopping list\n",
    "        \n",
    "        Parameters:\n",
    "        –––––––––––\n",
    "        item: str\n",
    "        \n",
    "        Returns:\n",
    "        ––––––––\n",
    "        length of the list: int \n",
    "        \"\"\"\n",
    "        self.items.append(item)\n",
    "        \n",
    "        return len(self.items)\n",
    "\n",
    "    def remove_item(self, item):\n",
    "        \"\"\"\n",
    "        Removes one item from the shopping list\n",
    "        \n",
    "        Parameters:\n",
    "        –––––––––––\n",
    "        item: str\n",
    "        \n",
    "        Returns:\n",
    "        ––––––––\n",
    "        length of the list: int \n",
    "        \"\"\"\n",
    "        items.remove(item)\n",
    "        \n",
    "        return len(self.items)\n",
    "    \n",
    "    def get_items(self):\n",
    "        \"\"\"\n",
    "        This will Show the complete list of items on the shopping list\n",
    "        \n",
    "        Parameters:\n",
    "        –––––––––––\n",
    "        None\n",
    "        \n",
    "        Returns:\n",
    "        ––––––––\n",
    "        shopping list: list\n",
    "        \"\"\"\n",
    "        return self.items\n",
    "\n",
    "    def clear(self):\n",
    "        \"\"\"\n",
    "        Clears the shopping list of all items\n",
    "        \n",
    "        Parameters:\n",
    "        –––––––––––\n",
    "        None\n",
    "        \n",
    "        Returns:\n",
    "        ––––––––\n",
    "        None\n",
    "        \"\"\"\n",
    "        for i in range(len(self.items) ) :\n",
    "            self.items.pop()\n",
    "\n",
    "        return len(self.items)\n"
   ]
  },
  {
   "cell_type": "code",
   "execution_count": 73,
   "metadata": {
    "id": "wmbkvzZyJFyf"
   },
   "outputs": [],
   "source": [
    "husband = ShoppingList()\n",
    "wife = ShoppingList()"
   ]
  },
  {
   "cell_type": "code",
   "execution_count": 74,
   "metadata": {
    "colab": {
     "base_uri": "https://localhost:8080/"
    },
    "id": "XRdeaZRAJFyf",
    "outputId": "210b0ab2-e207-472d-cf39-3c94bec11965"
   },
   "outputs": [
    {
     "data": {
      "text/plain": [
       "6"
      ]
     },
     "execution_count": 74,
     "metadata": {
      "tags": []
     },
     "output_type": "execute_result"
    }
   ],
   "source": [
    "husband.add_item('ps5')\n",
    "wife.add_item('dress')"
   ]
  },
  {
   "cell_type": "code",
   "execution_count": 75,
   "metadata": {
    "colab": {
     "base_uri": "https://localhost:8080/"
    },
    "id": "NZCWTzPdJFyg",
    "outputId": "c5fc8742-0138-4849-c00b-adaf9834c57b"
   },
   "outputs": [
    {
     "data": {
      "text/plain": [
       "['ps5', 'ps4', 'ps3', 'ps2', 'ps1', 'ps']"
      ]
     },
     "execution_count": 75,
     "metadata": {
      "tags": []
     },
     "output_type": "execute_result"
    }
   ],
   "source": [
    "husband.get_items()"
   ]
  },
  {
   "cell_type": "code",
   "execution_count": 76,
   "metadata": {
    "colab": {
     "base_uri": "https://localhost:8080/"
    },
    "id": "hTLe2jDwJFyg",
    "outputId": "c57b41d1-26d5-42a1-f54c-5bc84e08a168"
   },
   "outputs": [
    {
     "data": {
      "text/plain": [
       "['dress']"
      ]
     },
     "execution_count": 76,
     "metadata": {
      "tags": []
     },
     "output_type": "execute_result"
    }
   ],
   "source": [
    "wife.get_items()"
   ]
  },
  {
   "cell_type": "code",
   "execution_count": 77,
   "metadata": {
    "colab": {
     "base_uri": "https://localhost:8080/"
    },
    "id": "sbyikZ_DJFyg",
    "outputId": "7e6edce5-d2bb-459f-d5c3-e3f1b33e0f72"
   },
   "outputs": [
    {
     "data": {
      "text/plain": [
       "0"
      ]
     },
     "execution_count": 77,
     "metadata": {
      "tags": []
     },
     "output_type": "execute_result"
    }
   ],
   "source": [
    "husband.clear()"
   ]
  }
 ],
 "metadata": {
  "colab": {
   "name": "HomeworkWeek6.ipynb",
   "provenance": []
  },
  "kernelspec": {
   "display_name": "Python 3",
   "language": "python",
   "name": "python3"
  },
  "language_info": {
   "codemirror_mode": {
    "name": "ipython",
    "version": 3
   },
   "file_extension": ".py",
   "mimetype": "text/x-python",
   "name": "python",
   "nbconvert_exporter": "python",
   "pygments_lexer": "ipython3",
   "version": "3.8.5"
  },
  "varInspector": {
   "cols": {
    "lenName": 16,
    "lenType": 16,
    "lenVar": 40
   },
   "kernels_config": {
    "python": {
     "delete_cmd_postfix": "",
     "delete_cmd_prefix": "del ",
     "library": "var_list.py",
     "varRefreshCmd": "print(var_dic_list())"
    },
    "r": {
     "delete_cmd_postfix": ") ",
     "delete_cmd_prefix": "rm(",
     "library": "var_list.r",
     "varRefreshCmd": "cat(var_dic_list()) "
    }
   },
   "types_to_exclude": [
    "module",
    "function",
    "builtin_function_or_method",
    "instance",
    "_Feature"
   ],
   "window_display": false
  }
 },
 "nbformat": 4,
 "nbformat_minor": 1
}
