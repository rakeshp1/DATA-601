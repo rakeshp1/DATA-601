{
 "cells": [
  {
   "cell_type": "code",
   "execution_count": 1,
   "metadata": {},
   "outputs": [],
   "source": [
    "## dont touch this cell and assertions after the questions\n",
    "score = {}\n",
    "\n",
    "equality_check = lambda a, b: len(a) == len(b) and all([ x==y for x,y in zip(a,b)])\n",
    "def assertion(question, result, expected):\n",
    "    same = False\n",
    "    try:\n",
    "        if type(result) in (int, str, bool, type(None)):\n",
    "            same = result == expected\n",
    "        else:\n",
    "            same = equality_check(result, expected)\n",
    "    except:\n",
    "        pass\n",
    "    \n",
    "    if question != None and same:\n",
    "        score[question] = True\n",
    "        \n",
    "    print('correct' if same else 'incorrect')"
   ]
  },
  {
   "cell_type": "code",
   "execution_count": 2,
   "metadata": {},
   "outputs": [],
   "source": [
    "state_names = [\"Alaska\", \"Alabama\", \"Arkansas\", \"American Samoa\", \"Arizona\", \"California\", \"Colorado\", \"Connecticut\", \"District \", \"of Columbia\", \"Delaware\", \"Florida\", \"Georgia\", \"Guam\", \"Hawaii\", \"Iowa\", \"Idaho\", \"Illinois\", \"Indiana\", \"Kansas\", \"Kentucky\", \"Louisiana\", \"Massachusetts\", \"Maryland\", \"Maine\", \"Michigan\", \"Minnesota\", \"Missouri\", \"Mississippi\", \"Montana\", \"North Carolina\", \"North Dakota\", \"Nebraska\", \"New Hampshire\", \"New Jersey\", \"New Mexico\", \"Nevada\", \"New York\", \"Ohio\", \"Oklahoma\", \"Oregon\", \"Pennsylvania\", \"Puerto Rico\", \"Rhode Island\", \"South Carolina\", \"South Dakota\", \"Tennessee\", \"Texas\", \"Utah\", \"Virginia\", \"Virgin Islands\", \"Vermont\", \"Washington\", \"Wisconsin\", \"West Virginia\", \"Wyoming\"]\n"
   ]
  },
  {
   "cell_type": "markdown",
   "metadata": {},
   "source": [
    "Documenting python code: https://realpython.com/documenting-python-code/\n",
    "\n",
    "Use Only List Comprehensions"
   ]
  },
  {
   "cell_type": "code",
   "execution_count": 3,
   "metadata": {},
   "outputs": [],
   "source": [
    "# hw 1\n",
    "def get_states_with_5_letter():\n",
    "    \"\"\"\n",
    "    return states with 5 letters \n",
    "    \"\"\"\n",
    "    ans = [state for state in state_names if len(state) == 5]\n",
    "    \n",
    "    return ans"
   ]
  },
  {
   "cell_type": "code",
   "execution_count": 4,
   "metadata": {},
   "outputs": [
    {
     "name": "stdout",
     "output_type": "stream",
     "text": [
      "correct\n"
     ]
    }
   ],
   "source": [
    "assertion('1', get_states_with_5_letter(), ['Idaho', 'Maine', 'Texas'])"
   ]
  },
  {
   "cell_type": "code",
   "execution_count": 5,
   "metadata": {},
   "outputs": [],
   "source": [
    "# hw 2 \n",
    "\n",
    "def get_odd_numbers_from_list(arr):\n",
    "    \"\"\"\n",
    "    return odd numbers from the list\n",
    "    \"\"\"\n",
    "    ans = [num for num in arr if num % 2 == 1]\n",
    "    \n",
    "    return ans"
   ]
  },
  {
   "cell_type": "code",
   "execution_count": 6,
   "metadata": {},
   "outputs": [
    {
     "name": "stdout",
     "output_type": "stream",
     "text": [
      "correct\n",
      "correct\n",
      "correct\n"
     ]
    }
   ],
   "source": [
    "assertion('2a', get_odd_numbers_from_list([1,2,3]), [1,3])\n",
    "assertion('2b', get_odd_numbers_from_list([1,2,3, 17]), [1,3, 17])\n",
    "assertion('2c', get_odd_numbers_from_list([]), [])"
   ]
  },
  {
   "cell_type": "code",
   "execution_count": 7,
   "metadata": {},
   "outputs": [],
   "source": [
    "# hw 3\n",
    "\n",
    "def contains_value(arr, x):\n",
    "    \"\"\"\n",
    "    checks if passed in list contains value  \n",
    "    \n",
    "    Parameters\n",
    "    ----------\n",
    "    arr : list\n",
    "        List contains vaues\n",
    "    x : int\n",
    "        value to be checked\n",
    "\n",
    "    Returns\n",
    "    -------\n",
    "    bool\n",
    "        \n",
    "    \"\"\"\n",
    "    return any([True if x == y else False for y in arr])"
   ]
  },
  {
   "cell_type": "code",
   "execution_count": 8,
   "metadata": {},
   "outputs": [
    {
     "name": "stdout",
     "output_type": "stream",
     "text": [
      "correct\n",
      "correct\n"
     ]
    }
   ],
   "source": [
    "assertion('3a', contains_value([1,2,3], 1), True)\n",
    "assertion('3b', contains_value([1,2,3], 4), False)"
   ]
  },
  {
   "cell_type": "code",
   "execution_count": 9,
   "metadata": {},
   "outputs": [],
   "source": [
    "# hw 4 \n",
    "\n",
    "def check_if_all_positive(arr):\n",
    "    \"\"\"\n",
    "    checks all values in the list are positive\n",
    "    \n",
    "    Parameters\n",
    "    ----------\n",
    "    arr : list\n",
    "        List contains values\n",
    "\n",
    "    Returns\n",
    "    -------\n",
    "    bool\n",
    "    \n",
    "    \"\"\"\n",
    "    return all([ x > 0 for x in arr])"
   ]
  },
  {
   "cell_type": "code",
   "execution_count": 10,
   "metadata": {},
   "outputs": [
    {
     "name": "stdout",
     "output_type": "stream",
     "text": [
      "correct\n",
      "correct\n"
     ]
    }
   ],
   "source": [
    "assertion('3a', check_if_all_positive([1,-4,3]), False)\n",
    "assertion('3b', check_if_all_positive([1,2,3]), True)"
   ]
  },
  {
   "cell_type": "code",
   "execution_count": 17,
   "metadata": {},
   "outputs": [],
   "source": [
    "# not hw - don't change anything in this block\n",
    "import pandas as pd\n",
    "\n",
    "def get_data():\n",
    "    \"\"\"\n",
    "    get the data\n",
    "    \"\"\"\n",
    "    data = pd.read_csv('zillow.csv', index_col=0)\n",
    "    data.columns = [ i.replace('\"', '').strip() for i in data.columns]\n",
    "    \n",
    "    return data\n",
    "\n",
    "def get_zip_code_state_dictionary():\n",
    "    \"\"\"\n",
    "    returns zip code: state dictionary\n",
    "    data is random :)\n",
    "\n",
    "    \"\"\"\n",
    "    \n",
    "    d = { zcode: \"MD\" if str(zcode)[4] > '6' else \"VA\" for zcode in [32301, 32303, 32308, 32309, 32310, 32311, 32312] }\n",
    "    return d\n",
    "\n"
   ]
  },
  {
   "cell_type": "code",
   "execution_count": 18,
   "metadata": {},
   "outputs": [],
   "source": [
    "# hw 5\n",
    "\n",
    "def get_and_prepare_data(df):\n",
    "    \"\"\"\n",
    "    add a column to the table named State with the state information based on zip code\n",
    "    and return the data frame\n",
    "    \"\"\"\n",
    "    zcode_states = get_zip_code_state_dictionary()\n",
    "\n",
    "    df['State'] = [ zcode_states[zip_code] for zip_code in df['Zip'] ]\n",
    "    \n",
    "    return df"
   ]
  },
  {
   "cell_type": "code",
   "execution_count": 19,
   "metadata": {},
   "outputs": [
    {
     "data": {
      "text/html": [
       "<div>\n",
       "<style scoped>\n",
       "    .dataframe tbody tr th:only-of-type {\n",
       "        vertical-align: middle;\n",
       "    }\n",
       "\n",
       "    .dataframe tbody tr th {\n",
       "        vertical-align: top;\n",
       "    }\n",
       "\n",
       "    .dataframe thead th {\n",
       "        text-align: right;\n",
       "    }\n",
       "</style>\n",
       "<table border=\"1\" class=\"dataframe\">\n",
       "  <thead>\n",
       "    <tr style=\"text-align: right;\">\n",
       "      <th></th>\n",
       "      <th>Living Space (sq ft)</th>\n",
       "      <th>Beds</th>\n",
       "      <th>Baths</th>\n",
       "      <th>Zip</th>\n",
       "      <th>Year</th>\n",
       "      <th>List Price ($)</th>\n",
       "      <th>State</th>\n",
       "    </tr>\n",
       "    <tr>\n",
       "      <th>Index</th>\n",
       "      <th></th>\n",
       "      <th></th>\n",
       "      <th></th>\n",
       "      <th></th>\n",
       "      <th></th>\n",
       "      <th></th>\n",
       "      <th></th>\n",
       "    </tr>\n",
       "  </thead>\n",
       "  <tbody>\n",
       "    <tr>\n",
       "      <th>1</th>\n",
       "      <td>2222</td>\n",
       "      <td>3</td>\n",
       "      <td>3.5</td>\n",
       "      <td>32312</td>\n",
       "      <td>1981</td>\n",
       "      <td>250000</td>\n",
       "      <td>VA</td>\n",
       "    </tr>\n",
       "    <tr>\n",
       "      <th>2</th>\n",
       "      <td>1628</td>\n",
       "      <td>3</td>\n",
       "      <td>2.0</td>\n",
       "      <td>32308</td>\n",
       "      <td>2009</td>\n",
       "      <td>185000</td>\n",
       "      <td>MD</td>\n",
       "    </tr>\n",
       "    <tr>\n",
       "      <th>3</th>\n",
       "      <td>3824</td>\n",
       "      <td>5</td>\n",
       "      <td>4.0</td>\n",
       "      <td>32312</td>\n",
       "      <td>1954</td>\n",
       "      <td>399000</td>\n",
       "      <td>VA</td>\n",
       "    </tr>\n",
       "    <tr>\n",
       "      <th>4</th>\n",
       "      <td>1137</td>\n",
       "      <td>3</td>\n",
       "      <td>2.0</td>\n",
       "      <td>32309</td>\n",
       "      <td>1993</td>\n",
       "      <td>150000</td>\n",
       "      <td>MD</td>\n",
       "    </tr>\n",
       "    <tr>\n",
       "      <th>5</th>\n",
       "      <td>3560</td>\n",
       "      <td>6</td>\n",
       "      <td>4.0</td>\n",
       "      <td>32309</td>\n",
       "      <td>1973</td>\n",
       "      <td>315000</td>\n",
       "      <td>MD</td>\n",
       "    </tr>\n",
       "  </tbody>\n",
       "</table>\n",
       "</div>"
      ],
      "text/plain": [
       "       Living Space (sq ft)  Beds  Baths    Zip  Year  List Price ($) State\n",
       "Index                                                                      \n",
       "1                      2222     3    3.5  32312  1981          250000    VA\n",
       "2                      1628     3    2.0  32308  2009          185000    MD\n",
       "3                      3824     5    4.0  32312  1954          399000    VA\n",
       "4                      1137     3    2.0  32309  1993          150000    MD\n",
       "5                      3560     6    4.0  32309  1973          315000    MD"
      ]
     },
     "execution_count": 19,
     "metadata": {},
     "output_type": "execute_result"
    }
   ],
   "source": [
    "zillow = get_data()\n",
    "\n",
    "zillow_with_state = get_and_prepare_data(zillow)\n",
    "zillow_with_state.head()"
   ]
  },
  {
   "cell_type": "code",
   "execution_count": 20,
   "metadata": {},
   "outputs": [
    {
     "name": "stdout",
     "output_type": "stream",
     "text": [
      "correct\n"
     ]
    }
   ],
   "source": [
    "zc = get_zip_code_state_dictionary()\n",
    "if('State' not in zillow_with_state.columns):\n",
    "    print ('incorrect')\n",
    "else:\n",
    "    assertion('5a', all([ zc[z] == s  for z, s in zip(zillow_with_state['Zip'], zillow_with_state['State'])]), True)"
   ]
  },
  {
   "cell_type": "markdown",
   "metadata": {},
   "source": [
    "## Score Part1"
   ]
  },
  {
   "cell_type": "code",
   "execution_count": 21,
   "metadata": {},
   "outputs": [
    {
     "data": {
      "text/plain": [
       "'7/7'"
      ]
     },
     "execution_count": 21,
     "metadata": {},
     "output_type": "execute_result"
    }
   ],
   "source": [
    "str(sum(score.values())) + \"/7\""
   ]
  },
  {
   "cell_type": "markdown",
   "metadata": {},
   "source": [
    "## Fake Data"
   ]
  },
  {
   "cell_type": "markdown",
   "metadata": {},
   "source": [
    "1. Email addresses\n",
    "1. Phone numbers\n",
    "1. Home Address\n",
    "1. Person's name\n",
    "1. Year born. Use realistic values.\n",
    "1. Number of kids. Use realistic values.\n",
    "1. Categorical variable: rent or own?\n",
    "1. Annual income. Optional challenge: Use a non-uniform distribution\n",
    "1. Number of speeding tickets in past year. Optional challenge: Use a non-uniform distribution\n",
    "\n",
    "\n",
    "Complete the following method(s). \n",
    "\n",
    "Use libraries to generate fake data"
   ]
  },
  {
   "cell_type": "code",
   "execution_count": 23,
   "metadata": {},
   "outputs": [
    {
     "name": "stdout",
     "output_type": "stream",
     "text": [
      "Collecting Faker\n",
      "  Downloading https://files.pythonhosted.org/packages/3e/1a/cec9be8f2e7ee5ef5a40f7952234d7e23699f3c0ebb9636f1ff98084a1b7/Faker-8.1.4-py3-none-any.whl (1.2MB)\n",
      "Requirement already satisfied: python-dateutil>=2.4 in c:\\users\\hp\\anaconda3\\envs\\elite\\lib\\site-packages (from Faker) (2.8.1)\n",
      "Collecting text-unidecode==1.3\n",
      "  Downloading https://files.pythonhosted.org/packages/a6/a5/c0b6468d3824fe3fde30dbb5e1f687b291608f9473681bbf7dabbf5a87d7/text_unidecode-1.3-py2.py3-none-any.whl (78kB)\n",
      "Requirement already satisfied: six>=1.5 in c:\\users\\hp\\anaconda3\\envs\\elite\\lib\\site-packages (from python-dateutil>=2.4->Faker) (1.13.0)\n",
      "Installing collected packages: text-unidecode, Faker\n",
      "Successfully installed Faker-8.1.4 text-unidecode-1.3\n"
     ]
    }
   ],
   "source": [
    "# you can add additional functions here\n",
    "\n",
    "import pandas\n",
    "import numpy as np \n",
    "import random\n",
    "!pip install Faker\n",
    "from faker import Faker\n",
    "fake = Faker()\n",
    "\n",
    "def non_uniform_income_class():\n",
    "    \"\"\"\n",
    "    calculates a random income class (lower, middle, upper) based on 2016 data of %households in each income bracket\n",
    "    29% of American adults = lower income class\n",
    "    52% of American adults = middle class\n",
    "    19% of American adults = upper class\n",
    "    Assumes these are probabilities for entities' incomes in table\n",
    "    Source: (https://www.investopedia.com/financial-edge/0912/which-income-class-are-you.aspx)\n",
    "    \n",
    "    returns:\n",
    "    --------\n",
    "    string\n",
    "    \n",
    "    \"\"\"\n",
    "    income_class = np.random.choice(['lower income','middle income','upper income'], 1, p=[0.29,0.52,0.19])\n",
    "    return income_class[0]\n",
    "\n",
    "    \n",
    "def income(income_class_range):\n",
    "    \"\"\"\n",
    "    Based on a given income bracket, calculates a random income ($) based on 2016 data using a Gaussian distribution\n",
    "    Source: (https://www.investopedia.com/financial-edge/0912/which-income-class-are-you.aspx)\n",
    "    \n",
    "    Parameters:\n",
    "    -----------\n",
    "    income_class_range: string \n",
    "        lower, middle, or upper income\n",
    "        \n",
    "    Returns:\n",
    "    -------\n",
    "    int\n",
    "    \n",
    "    \"\"\"\n",
    "    \n",
    "    if income_class_range == 'lower income':\n",
    "        return int(random.gauss(25624,25000))\n",
    "    elif income_class_range == 'middle income':\n",
    "        return int(random.gauss(78442,25000))\n",
    "    elif income_class_range == 'upper income':\n",
    "        return int(random.gauss(187827,25000))\n",
    "    return None\n",
    "        \n",
    "def speeding_tickets():\n",
    "    \"\"\"\n",
    "    Calculates random number of speeding tickets, assuming the following probabilities (non uniform distribution)\n",
    "    0: 40%\n",
    "    1: 30%\n",
    "    2: 20%\n",
    "    3: 4%\n",
    "    4: 2%\n",
    "    5: 2%\n",
    "    6: 2%\n",
    "    \n",
    "    Returns:\n",
    "    -------\n",
    "    int\n",
    "    \n",
    "    \"\"\"\n",
    "    num_of_speeding_tickets = np.random.choice([0,1,2,3,4,5,6], 1, p=[0.4,0.3,0.2,0.04,0.02,0.02,0.02])\n",
    "    return num_of_speeding_tickets[0]"
   ]
  },
  {
   "cell_type": "code",
   "execution_count": 24,
   "metadata": {},
   "outputs": [],
   "source": [
    "def generate_fake_data(row=50):\n",
    "    \"\"\"\n",
    "    Generates fake data\n",
    "    \n",
    "    Parameters\n",
    "    ---------\n",
    "    row: int number of rows \n",
    "    \n",
    "    Output: pandas dataframe\n",
    "    \"\"\"\n",
    "    df = pd.DataFrame()\n",
    "    df['Email'] = [fake.email() for _ in range(row)]\n",
    "    df['Phone'] = [fake.phone_number() for _ in range(row)]\n",
    "    df['Home Address'] = [fake.address() for _ in range(row)]\n",
    "    df['Name'] = [fake.name() for _ in range(row)] \n",
    "    df['Birth Year'] = [random.randint(1940,2000) for _ in range(row)] \n",
    "    df['Number of Kids'] = [random.randint(0,5) for _ in range(row)]\n",
    "    df['Rent or Own'] = [fake.random_element(elements=('Rent','Own')) for _ in range(row)] \n",
    "    df['Annual Income'] = [max(int(random.normalvariate(100000,25000)), 25000) for _ in range(row)]\n",
    "    df['Number of Tickets'] = [int(random.expovariate(0.6)) for _ in range(row)]\n",
    "    return df"
   ]
  },
  {
   "cell_type": "code",
   "execution_count": 25,
   "metadata": {},
   "outputs": [
    {
     "data": {
      "text/html": [
       "<div>\n",
       "<style scoped>\n",
       "    .dataframe tbody tr th:only-of-type {\n",
       "        vertical-align: middle;\n",
       "    }\n",
       "\n",
       "    .dataframe tbody tr th {\n",
       "        vertical-align: top;\n",
       "    }\n",
       "\n",
       "    .dataframe thead th {\n",
       "        text-align: right;\n",
       "    }\n",
       "</style>\n",
       "<table border=\"1\" class=\"dataframe\">\n",
       "  <thead>\n",
       "    <tr style=\"text-align: right;\">\n",
       "      <th></th>\n",
       "      <th>Email</th>\n",
       "      <th>Phone</th>\n",
       "      <th>Home Address</th>\n",
       "      <th>Name</th>\n",
       "      <th>Birth Year</th>\n",
       "      <th>Number of Kids</th>\n",
       "      <th>Rent or Own</th>\n",
       "      <th>Annual Income</th>\n",
       "      <th>Number of Tickets</th>\n",
       "    </tr>\n",
       "  </thead>\n",
       "  <tbody>\n",
       "    <tr>\n",
       "      <th>0</th>\n",
       "      <td>nchapman@hotmail.com</td>\n",
       "      <td>(898)319-3259</td>\n",
       "      <td>5529 Kiara Hills Suite 264\\nJamesland, TX 22034</td>\n",
       "      <td>Michael Thornton</td>\n",
       "      <td>1985</td>\n",
       "      <td>3</td>\n",
       "      <td>Rent</td>\n",
       "      <td>90390</td>\n",
       "      <td>1</td>\n",
       "    </tr>\n",
       "    <tr>\n",
       "      <th>1</th>\n",
       "      <td>floresjanet@fitzgerald.com</td>\n",
       "      <td>540.376.1606</td>\n",
       "      <td>66661 Jones Roads\\nWest Rachel, NH 27431</td>\n",
       "      <td>Kelly Turner</td>\n",
       "      <td>1941</td>\n",
       "      <td>2</td>\n",
       "      <td>Own</td>\n",
       "      <td>119990</td>\n",
       "      <td>0</td>\n",
       "    </tr>\n",
       "    <tr>\n",
       "      <th>2</th>\n",
       "      <td>lindarobertson@lucas-mcguire.net</td>\n",
       "      <td>610-760-5410x4916</td>\n",
       "      <td>6073 Sarah Ridge\\nMathewsburgh, SC 71241</td>\n",
       "      <td>Cindy Gutierrez</td>\n",
       "      <td>1995</td>\n",
       "      <td>5</td>\n",
       "      <td>Own</td>\n",
       "      <td>60783</td>\n",
       "      <td>2</td>\n",
       "    </tr>\n",
       "    <tr>\n",
       "      <th>3</th>\n",
       "      <td>fguzman@hotmail.com</td>\n",
       "      <td>+1-670-329-3693x1616</td>\n",
       "      <td>9351 Camacho Place\\nPort Bobby, WV 39202</td>\n",
       "      <td>Kelly Walker</td>\n",
       "      <td>1996</td>\n",
       "      <td>4</td>\n",
       "      <td>Rent</td>\n",
       "      <td>44933</td>\n",
       "      <td>1</td>\n",
       "    </tr>\n",
       "    <tr>\n",
       "      <th>4</th>\n",
       "      <td>matthew54@payne-nguyen.com</td>\n",
       "      <td>+1-566-492-4723</td>\n",
       "      <td>97944 Rodney Islands Apt. 180\\nSandramouth, CT...</td>\n",
       "      <td>Suzanne Lara</td>\n",
       "      <td>1987</td>\n",
       "      <td>3</td>\n",
       "      <td>Rent</td>\n",
       "      <td>103071</td>\n",
       "      <td>2</td>\n",
       "    </tr>\n",
       "    <tr>\n",
       "      <th>5</th>\n",
       "      <td>josephfriedman@bonilla.com</td>\n",
       "      <td>843.345.8612x2722</td>\n",
       "      <td>4574 Carlos Burgs Suite 478\\nDanielshire, FL 5...</td>\n",
       "      <td>Amber Coleman</td>\n",
       "      <td>1963</td>\n",
       "      <td>2</td>\n",
       "      <td>Rent</td>\n",
       "      <td>135873</td>\n",
       "      <td>0</td>\n",
       "    </tr>\n",
       "    <tr>\n",
       "      <th>6</th>\n",
       "      <td>sherriowen@gmail.com</td>\n",
       "      <td>+1-196-414-9749x0827</td>\n",
       "      <td>USCGC Vaughan\\nFPO AP 70087</td>\n",
       "      <td>Jeffrey Walker</td>\n",
       "      <td>1959</td>\n",
       "      <td>3</td>\n",
       "      <td>Own</td>\n",
       "      <td>115676</td>\n",
       "      <td>0</td>\n",
       "    </tr>\n",
       "    <tr>\n",
       "      <th>7</th>\n",
       "      <td>sheliakim@yahoo.com</td>\n",
       "      <td>771.336.2362x856</td>\n",
       "      <td>0102 Thomas Underpass Apt. 869\\nTiffanyburgh, ...</td>\n",
       "      <td>Chad Smith</td>\n",
       "      <td>1989</td>\n",
       "      <td>5</td>\n",
       "      <td>Rent</td>\n",
       "      <td>140453</td>\n",
       "      <td>0</td>\n",
       "    </tr>\n",
       "    <tr>\n",
       "      <th>8</th>\n",
       "      <td>rbarker@salazar.info</td>\n",
       "      <td>173.635.8600</td>\n",
       "      <td>PSC 8306, Box 0479\\nAPO AE 20149</td>\n",
       "      <td>Susan Johnson</td>\n",
       "      <td>1946</td>\n",
       "      <td>1</td>\n",
       "      <td>Rent</td>\n",
       "      <td>116875</td>\n",
       "      <td>1</td>\n",
       "    </tr>\n",
       "    <tr>\n",
       "      <th>9</th>\n",
       "      <td>abecker@hotmail.com</td>\n",
       "      <td>001-246-124-2190x4065</td>\n",
       "      <td>693 Nicholas Valley\\nGutierrezview, AK 41289</td>\n",
       "      <td>Gary Brown</td>\n",
       "      <td>1965</td>\n",
       "      <td>5</td>\n",
       "      <td>Rent</td>\n",
       "      <td>90967</td>\n",
       "      <td>0</td>\n",
       "    </tr>\n",
       "  </tbody>\n",
       "</table>\n",
       "</div>"
      ],
      "text/plain": [
       "                              Email                  Phone  \\\n",
       "0              nchapman@hotmail.com          (898)319-3259   \n",
       "1        floresjanet@fitzgerald.com           540.376.1606   \n",
       "2  lindarobertson@lucas-mcguire.net      610-760-5410x4916   \n",
       "3               fguzman@hotmail.com   +1-670-329-3693x1616   \n",
       "4        matthew54@payne-nguyen.com        +1-566-492-4723   \n",
       "5        josephfriedman@bonilla.com      843.345.8612x2722   \n",
       "6              sherriowen@gmail.com   +1-196-414-9749x0827   \n",
       "7               sheliakim@yahoo.com       771.336.2362x856   \n",
       "8              rbarker@salazar.info           173.635.8600   \n",
       "9               abecker@hotmail.com  001-246-124-2190x4065   \n",
       "\n",
       "                                        Home Address              Name  \\\n",
       "0    5529 Kiara Hills Suite 264\\nJamesland, TX 22034  Michael Thornton   \n",
       "1           66661 Jones Roads\\nWest Rachel, NH 27431      Kelly Turner   \n",
       "2           6073 Sarah Ridge\\nMathewsburgh, SC 71241   Cindy Gutierrez   \n",
       "3           9351 Camacho Place\\nPort Bobby, WV 39202      Kelly Walker   \n",
       "4  97944 Rodney Islands Apt. 180\\nSandramouth, CT...      Suzanne Lara   \n",
       "5  4574 Carlos Burgs Suite 478\\nDanielshire, FL 5...     Amber Coleman   \n",
       "6                        USCGC Vaughan\\nFPO AP 70087    Jeffrey Walker   \n",
       "7  0102 Thomas Underpass Apt. 869\\nTiffanyburgh, ...        Chad Smith   \n",
       "8                   PSC 8306, Box 0479\\nAPO AE 20149     Susan Johnson   \n",
       "9       693 Nicholas Valley\\nGutierrezview, AK 41289        Gary Brown   \n",
       "\n",
       "   Birth Year  Number of Kids Rent or Own  Annual Income  Number of Tickets  \n",
       "0        1985               3        Rent          90390                  1  \n",
       "1        1941               2         Own         119990                  0  \n",
       "2        1995               5         Own          60783                  2  \n",
       "3        1996               4        Rent          44933                  1  \n",
       "4        1987               3        Rent         103071                  2  \n",
       "5        1963               2        Rent         135873                  0  \n",
       "6        1959               3         Own         115676                  0  \n",
       "7        1989               5        Rent         140453                  0  \n",
       "8        1946               1        Rent         116875                  1  \n",
       "9        1965               5        Rent          90967                  0  "
      ]
     },
     "execution_count": 25,
     "metadata": {},
     "output_type": "execute_result"
    }
   ],
   "source": [
    "df = generate_fake_data(10)\n",
    "df"
   ]
  },
  {
   "cell_type": "code",
   "execution_count": null,
   "metadata": {},
   "outputs": [],
   "source": []
  }
 ],
 "metadata": {
  "kernelspec": {
   "display_name": "Python 3",
   "language": "python",
   "name": "python3"
  },
  "language_info": {
   "codemirror_mode": {
    "name": "ipython",
    "version": 3
   },
   "file_extension": ".py",
   "mimetype": "text/x-python",
   "name": "python",
   "nbconvert_exporter": "python",
   "pygments_lexer": "ipython3",
   "version": "3.6.10"
  },
  "varInspector": {
   "cols": {
    "lenName": 16,
    "lenType": 16,
    "lenVar": 40
   },
   "kernels_config": {
    "python": {
     "delete_cmd_postfix": "",
     "delete_cmd_prefix": "del ",
     "library": "var_list.py",
     "varRefreshCmd": "print(var_dic_list())"
    },
    "r": {
     "delete_cmd_postfix": ") ",
     "delete_cmd_prefix": "rm(",
     "library": "var_list.r",
     "varRefreshCmd": "cat(var_dic_list()) "
    }
   },
   "types_to_exclude": [
    "module",
    "function",
    "builtin_function_or_method",
    "instance",
    "_Feature"
   ],
   "window_display": false
  }
 },
 "nbformat": 4,
 "nbformat_minor": 2
}
