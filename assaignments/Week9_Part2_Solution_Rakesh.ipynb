{
  "nbformat": 4,
  "nbformat_minor": 0,
  "metadata": {
    "kernelspec": {
      "display_name": "Python 3",
      "language": "python",
      "name": "python3"
    },
    "language_info": {
      "codemirror_mode": {
        "name": "ipython",
        "version": 3
      },
      "file_extension": ".py",
      "mimetype": "text/x-python",
      "name": "python",
      "nbconvert_exporter": "python",
      "pygments_lexer": "ipython3",
      "version": "3.7.4"
    },
    "varInspector": {
      "cols": {
        "lenName": 16,
        "lenType": 16,
        "lenVar": 40
      },
      "kernels_config": {
        "python": {
          "delete_cmd_postfix": "",
          "delete_cmd_prefix": "del ",
          "library": "var_list.py",
          "varRefreshCmd": "print(var_dic_list())"
        },
        "r": {
          "delete_cmd_postfix": ") ",
          "delete_cmd_prefix": "rm(",
          "library": "var_list.r",
          "varRefreshCmd": "cat(var_dic_list()) "
        }
      },
      "types_to_exclude": [
        "module",
        "function",
        "builtin_function_or_method",
        "instance",
        "_Feature"
      ],
      "window_display": false
    },
    "colab": {
      "name": "Week9-Part2_Solution_Rakesh.ipynb",
      "provenance": [],
      "collapsed_sections": []
    }
  },
  "cells": [
    {
      "cell_type": "markdown",
      "metadata": {
        "id": "vxSOwOrq0YFo"
      },
      "source": [
        "Assignment 2: Simulate a fair die and a biased 6-sided die. \n",
        "\n",
        "The biased die has probabilities {0.15, 0.15, 0.15, 0.15, 0.15, 0.25}. \n",
        "\n",
        "Create a visualization that compares outcomes of multiple rolls of a fair die and this biased die. \n",
        "\n",
        "You can use a single visualization or multiple visualizations to demonstrate the difference in outcomes for the dice. \n",
        "\n",
        "The user of your notebook should be able to alter the number of simulations as an argument to a function.\n"
      ]
    },
    {
      "cell_type": "code",
      "metadata": {
        "id": "TLmLQVgU0YFp"
      },
      "source": [
        "import random\n",
        "import matplotlib.pyplot as plt"
      ],
      "execution_count": 2,
      "outputs": []
    },
    {
      "cell_type": "code",
      "metadata": {
        "id": "lpCBj3hs0YFq"
      },
      "source": [
        "def fair_dice_simulations(count =500, color='blue', alpha=1):\n",
        "    numbers = [1,2,3,4,5,6]\n",
        "    simulations = [random.choice(numbers) for _ in range(count)]\n",
        "    count1 = {}\n",
        "    \n",
        "    for i in numbers:\n",
        "        count1[i] = simulations.count(i)\n",
        "        \n",
        "    print('fair', count1)\n",
        "    \n",
        "    plt.bar(count1.keys(), count1.values(), color=color, alpha=alpha)"
      ],
      "execution_count": 20,
      "outputs": []
    },
    {
      "cell_type": "code",
      "metadata": {
        "id": "6cW3IPaZ0YFq"
      },
      "source": [
        "# fair_die_simuations(10000)"
      ],
      "execution_count": null,
      "outputs": []
    },
    {
      "cell_type": "code",
      "metadata": {
        "id": "6tnw41tH0YFr"
      },
      "source": [
        "def biased_dice_simulations(count =500, color='green', alpha=1):\n",
        "    numbers1 = [1,2,3,4,5,6]\n",
        "    simulations = random.choices(numbers1,weights=[0.15, 0.15, 0.15, 0.15, 0.15, 0.25], k=count)\n",
        "    count1 = {}\n",
        "    \n",
        "    for i in numbers1:\n",
        "        count1[i] = simulations.count(i)\n",
        "        \n",
        "    print('biased', count1)\n",
        "    \n",
        "    plt.bar(count1.keys(), count1.values(), color=color, alpha=alpha)"
      ],
      "execution_count": 21,
      "outputs": []
    },
    {
      "cell_type": "code",
      "metadata": {
        "id": "_Kg1Nmn80YFr"
      },
      "source": [
        "# biased_die_simuations()"
      ],
      "execution_count": null,
      "outputs": []
    },
    {
      "cell_type": "code",
      "metadata": {
        "id": "Oy3XPhAg0YFr"
      },
      "source": [
        "def bias_vs_unbias(count=1000):\n",
        "    fair_dice_simulations(count, 'blue',alpha=0.5);\n",
        "    biased_dice_simulations(count, 'green', alpha=0.5)"
      ],
      "execution_count": 22,
      "outputs": []
    },
    {
      "cell_type": "code",
      "metadata": {
        "id": "ALGQky5S0YFs",
        "colab": {
          "base_uri": "https://localhost:8080/",
          "height": 298
        },
        "outputId": "f78c46ff-35de-43de-bad3-eb9ce5d7abc7"
      },
      "source": [
        "bias_vs_unbias()"
      ],
      "execution_count": 23,
      "outputs": [
        {
          "output_type": "stream",
          "text": [
            "fair {1: 162, 2: 170, 3: 163, 4: 162, 5: 185, 6: 158}\n",
            "biased {1: 161, 2: 132, 3: 161, 4: 138, 5: 174, 6: 234}\n"
          ],
          "name": "stdout"
        },
        {
          "output_type": "display_data",
          "data": {
            "image/png": "[encoded data removed]",
            "text/plain": [
              "<Figure size 432x288 with 1 Axes>"
            ]
          },
          "metadata": {
            "tags": [],
            "needs_background": "light"
          }
        }
      ]
    },
    {
      "cell_type": "code",
      "metadata": {
        "id": "g9KIb_kp0YFs"
      },
      "source": [
        ""
      ],
      "execution_count": null,
      "outputs": []
    }
  ]
}